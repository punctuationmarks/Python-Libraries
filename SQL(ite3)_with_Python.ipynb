{
  "nbformat": 4,
  "nbformat_minor": 0,
  "metadata": {
    "colab": {
      "name": "SQL(ite3) with Python.ipynb",
      "version": "0.3.2",
      "provenance": [],
      "collapsed_sections": [
        "zpM90puCw8_A",
        "FWPopyrCNDcZ",
        "OFp7H5zX37vR",
        "LxLopARF6eIh",
        "nNL_WutTAacn",
        "ORWn7FBJGmmV",
        "YPTRu1-JDTo6",
        "9nHpElH1E5Gv",
        "nosfXur3EiT3",
        "sWL6I64uFwOM",
        "eFD0hZDMJFqm",
        "Nesvv_VGKhnX",
        "A9oNhfQQqGpG",
        "SAGQK__cOJTo",
        "FIhSmitKOtgs",
        "OkeKTR-VOXsP"
      ]
    },
    "kernelspec": {
      "name": "python3",
      "display_name": "Python 3"
    }
  },
  "cells": [
    {
      "metadata": {
        "id": "zpM90puCw8_A",
        "colab_type": "text"
      },
      "cell_type": "markdown",
      "source": [
        "# SQL and SQLite3 basics\n",
        "Mostly this will cover the SQL language in reference to Python. Since SQL is universal most of this can be used wherever you use SQL.\n",
        "\n",
        "\n",
        "\n",
        "\n",
        "\n",
        "- *Syntax note:*\n",
        "\n",
        "Tradition says to have the SQL commands in UPPERCASE, but modern programmers usually do not do this. Modern programming has all of the SQL commands in lowercase. \n",
        "  - This is due to SQL not being case sensitive,  and possibly: ease of typing, easier on the eyes and easier to understand.  Pick however you feel comfortable with it (or whatever if required of you) and stick with it\n",
        "  \n",
        "[ Docs from SQLite.com](https://www.sqlite.org/docs.html)\n",
        "[ Docs from Microsoft](https://docs.microsoft.com/en-us/sql/?view=sql-server-2017)\n",
        "[SQL cheat sheet](http://www.cheat-sheets.org/sites/sql.su/)"
      ]
    },
    {
      "metadata": {
        "id": "4fWUybx8JMfJ",
        "colab_type": "code",
        "colab": {}
      },
      "cell_type": "code",
      "source": [
        "import sqlite3"
      ],
      "execution_count": 0,
      "outputs": []
    },
    {
      "metadata": {
        "id": "xon78F5773c1",
        "colab_type": "code",
        "colab": {}
      },
      "cell_type": "code",
      "source": [
        "!pip install jupyter_contrib_nbextensions"
      ],
      "execution_count": 0,
      "outputs": []
    },
    {
      "metadata": {
        "id": "CadSm-JE76Cy",
        "colab_type": "code",
        "colab": {}
      },
      "cell_type": "code",
      "source": [
        "!jupyter contrib nbextension install --user"
      ],
      "execution_count": 0,
      "outputs": []
    },
    {
      "metadata": {
        "id": "bLpUTiElJMhf",
        "colab_type": "code",
        "colab": {}
      },
      "cell_type": "code",
      "source": [
        "# to create a database (or connect to the database if it's already created)\n",
        "\n",
        "db_conn = sqlite3.connect('test.db')"
      ],
      "execution_count": 0,
      "outputs": []
    },
    {
      "metadata": {
        "id": "ofQ_JXpXxYbK",
        "colab_type": "code",
        "colab": {}
      },
      "cell_type": "code",
      "source": [
        "# a cursor allows you to go through the database\n",
        "# you can think of this like the mouse cursor\n",
        "cursor = db_conn.cursor()"
      ],
      "execution_count": 0,
      "outputs": []
    },
    {
      "metadata": {
        "id": "5zSsjMH3xrsS",
        "colab_type": "text"
      },
      "cell_type": "markdown",
      "source": [
        "SQL syntax:\n",
        " - CREATE TABLE \n",
        "    - creates a table with whatever you name it right after this command, what is in the () will be parameters you want this table to contain\n",
        " - IF NOT EXISTS\n",
        "    - meaning, if the table already exists, no need to make it again\n",
        " - ID INTEGER PRIMARY KEY AUTOINCREMENT NOT NULL\n",
        "    - this means each entry into the table will have a unique id, used as a primary key (meaning how you can reference table entries), which will be automatically incremented so you don't have to manually do that for new entries and also it has to have a value (NOT NULL)\n",
        "\n",
        "- Then it goes through and gives column names, data types and restrictions on each.\n",
        "\n",
        "\n",
        "\n",
        "Syntax is important, this is almost like typing it directly into a SQL shell:\n",
        "For example in the shell, you would execute this command like so:\n",
        "\n",
        "```\n",
        "create table TableName(ID integer primary key autoincrement not null, FirstColumnAfterID text not null, SecondColumnAfterID int not null);\n",
        "```\n",
        "\n"
      ]
    },
    {
      "metadata": {
        "id": "QazHSfu-0bLB",
        "colab_type": "text"
      },
      "cell_type": "markdown",
      "source": [
        "  \n",
        "## Type of datatypes accepted in SQLite:   \n",
        " \n",
        " \n",
        "  - TEXT\n",
        "    - Text input, will convert this into a string\n",
        " - NUMERIC    \n",
        "    - \n",
        " - INTEGER\n",
        "    - Whole numbers only\n",
        "  - REAL\n",
        "    - Real decimal numbers only, from - 3.40E + 38 to -1.18E - 38, 0 and 1.18E - 38 to 3.40E + 38\n",
        " - BLOB\n",
        "    - Binary Large Object (can be used for pictures, among other datatypes)\n",
        " \n",
        " \n",
        " \n",
        "\n",
        "---\n",
        "\n",
        "\n",
        " \n",
        " ### Types of datatypes in SQL \n",
        " *NOTE: In SQLite3, all datatypes will be converted into one of the 5 datatypes explained above*\n",
        " - TEXT\n",
        "    - accepts text input, will convert this into a string\n",
        " - INTEGER or INT\n",
        "    - Whole numbers only\n",
        " - FLOAT(\\[n])\n",
        "    - Floating point number\n",
        "    - The precision of the floating point value is 7 digits if  1 <= n <= 24\n",
        "    - The precision of the floating point value is 15 digits if 25 <= n <= 53\n",
        "    - where if 1 <= n <= 24, n is treated as 24 and if 25<=n<=53 then n is treated as 53\n",
        " - REAL, DOUBLE, DOUBLE PRECISION\n",
        "    - Real decimal numbers only, from - 3.40E + 38 to -1.18E - 38, 0 and 1.18E - 38 to 3.40E + 38\n",
        " - DATE(yyyymmdd)\n",
        "    - Holds a date\n",
        " - CHAR(n)\n",
        "    - Fixed length string, if no \"n\" is specified, length is one\n",
        " - VARCHAR(n)\n",
        "   - Variable length string\n",
        " - BLOB\n",
        "    - Binary Large Object"
      ]
    },
    {
      "metadata": {
        "id": "FWPopyrCNDcZ",
        "colab_type": "text"
      },
      "cell_type": "markdown",
      "source": [
        "## Comparison Expressions from SQLite.org docs:\n",
        "\n",
        "> SQLite version 3 has the usual set of SQL comparison operators including \"=\", \"==\", \"<\", \"<=\", \">\", \">=\", \"!=\", \"\", \"IN\", \"NOT IN\", \"BETWEEN\", \"IS\", and \"IS NOT\", "
      ]
    },
    {
      "metadata": {
        "id": "JqKoZFWXxYdw",
        "colab_type": "code",
        "outputId": "7f41c168-1a5b-4e36-be3e-09f3805bc5f0",
        "colab": {
          "base_uri": "https://localhost:8080/",
          "height": 35
        }
      },
      "cell_type": "code",
      "source": [
        "db_conn.execute(\"CREATE TABLE IF NOT EXISTS Humans(ID INTEGER PRIMARY KEY AUTOINCREMENT NOT NULL,\\\n",
        "                  FirstName TEXT NOT NULL, \\\n",
        "                LastName TEXT NOT NULL, \\\n",
        "                Age INTEGER NOT NULL, \\\n",
        "                Phone INTEGER, \\\n",
        "                Weight REAL, \\\n",
        "                BirthDate TEXT);\")"
      ],
      "execution_count": 6,
      "outputs": [
        {
          "output_type": "execute_result",
          "data": {
            "text/plain": [
              "<sqlite3.Cursor at 0x7f3fecb2a6c0>"
            ]
          },
          "metadata": {
            "tags": []
          },
          "execution_count": 6
        }
      ]
    },
    {
      "metadata": {
        "id": "bJcEBs-fxYgQ",
        "colab_type": "code",
        "colab": {}
      },
      "cell_type": "code",
      "source": [
        "# after you \"execute\" a command, you have to commit the changes \n",
        "# to the database or they will not take affect\n",
        "db_conn.commit()"
      ],
      "execution_count": 0,
      "outputs": []
    },
    {
      "metadata": {
        "id": "OFp7H5zX37vR",
        "colab_type": "text"
      },
      "cell_type": "markdown",
      "source": [
        "## Python syntax note:"
      ]
    },
    {
      "metadata": {
        "id": "0hJThIOv4_wG",
        "colab_type": "text"
      },
      "cell_type": "markdown",
      "source": [
        "\n",
        "It's good practice to put SQL execution code into try blocks just in case something goes wrong ( this way you're not making multiple tables or overriding something, ect).\n",
        "\n",
        "\n",
        "For example:\n",
        "\n",
        "\n",
        "\n",
        "```\n",
        "try:\n",
        "\n",
        "      db_conn.execute(\"create table TableName(ID integer primary key autoincrement not null, FirstColumnAfterID text not null);\")\n",
        "    \n",
        "      db_conn.commit()\n",
        "      \n",
        "except sqlite3.OperationalError:\n",
        "      print(\"Table couldn't be created, fix it plzzz\")\n",
        "```\n",
        "\n"
      ]
    },
    {
      "metadata": {
        "id": "LxLopARF6eIh",
        "colab_type": "text"
      },
      "cell_type": "markdown",
      "source": [
        "## Inserting into the Table\n",
        "\n",
        "\n",
        "\n",
        "SQL syntax:\n",
        "```\n",
        "insert into TableName(FirstColumnAfterID, SecondColumnAfterID) values (\"Words\", 1234);\n",
        "```\n",
        "\n"
      ]
    },
    {
      "metadata": {
        "id": "RHkAu3zoxYn8",
        "colab_type": "code",
        "colab": {}
      },
      "cell_type": "code",
      "source": [
        "# inserting data into the database\n",
        "# notice how ID is not in here, this is because it'll \"autoincrement\" it \n",
        "db_conn.execute(\"INSERT INTO Humans (FirstName, LastName, \\\n",
        "                                    Age, Phone, Weight, \\\n",
        "                                    BirthDate) VALUES ('Billy', \\\n",
        "                                    'Goat', 25,4562314, 175,\\\n",
        "                                     date('now'));\")\n",
        "db_conn.commit()"
      ],
      "execution_count": 0,
      "outputs": []
    },
    {
      "metadata": {
        "id": "FKEVzFyYKAiT",
        "colab_type": "code",
        "colab": {}
      },
      "cell_type": "code",
      "source": [
        "# Adding more entries to play with\n",
        "db_conn.execute(\"INSERT INTO Humans (FirstName, LastName, \\\n",
        "                                    Age, Phone, Weight, BirthDate)\\\n",
        "                            VALUES ('Jilly', 'Boat',\\\n",
        "                                    54, 5562314, 125.25,\\\n",
        "                                    date('now'));\")\n",
        "\n",
        "db_conn.execute(\"INSERT INTO Humans (FirstName, LastName, \\\n",
        "                                    Age, Phone, Weight, BirthDate)\\\n",
        "                            VALUES ('Hilly', 'Goal',\\\n",
        "                                    25, 4562954, 175.99,\\\n",
        "                                    date('now'));\")\n",
        "db_conn.commit()"
      ],
      "execution_count": 0,
      "outputs": []
    },
    {
      "metadata": {
        "id": "nNL_WutTAacn",
        "colab_type": "text"
      },
      "cell_type": "markdown",
      "source": [
        "## Viewing the Table (By Row)\n",
        "\n",
        "SQL syntax:\n",
        "\n",
        "\n",
        "```\n",
        "select id, FirstColumnAfterID, SecondColumnAfterID from TableName; \n",
        "```\n",
        "\n"
      ]
    },
    {
      "metadata": {
        "id": "wJ_a5yAVxYqy",
        "colab_type": "code",
        "colab": {}
      },
      "cell_type": "code",
      "source": [
        "# writing a funciton to have the database table print out, \n",
        "# this will print each grouping of entry one at a time (just for the visuals)\n",
        "\n",
        "def print_database_info():\n",
        "  try:\n",
        "    result = cursor.execute(\"SELECT ID, \\\n",
        "    FirstName, \\\n",
        "    LastName , \\\n",
        "    Age, \\\n",
        "    Phone, \\\n",
        "    Weight, \\\n",
        "    BirthDate FROM Humans\")\n",
        "\n",
        "# looping over the entire table and printing out the data    \n",
        "    for row in result:\n",
        "      print(f\"\"\"ID : {row[0]}, FirstName : {row[1]}, LastName : {row[2]}\\n      \n",
        "Age : {row[3]}, Phone : {row[4]},\\n\n",
        "Weight : {row[5]}, BirthDate : {row[6]}\\n\"\"\")\n",
        "\n",
        "      # having an exception block to catch any errors      \n",
        "  except sqlite3.OperationalError:\n",
        "      print(\"Database does't exist\")"
      ],
      "execution_count": 0,
      "outputs": []
    },
    {
      "metadata": {
        "id": "_YAuKn6ew08Z",
        "colab_type": "code",
        "colab": {
          "base_uri": "https://localhost:8080/",
          "height": 345
        },
        "outputId": "b5aa3c24-3c22-48a9-e37a-c99a0bd9634f"
      },
      "cell_type": "code",
      "source": [
        "# notice how Weight is decimal placed number\n",
        "print_database_info()"
      ],
      "execution_count": 18,
      "outputs": [
        {
          "output_type": "stream",
          "text": [
            "ID : 1, FirstName : Billy, LastName : Goat\n",
            "      \n",
            "Age : 25, Phone : 4562314,\n",
            "\n",
            "Weight : 175.0, BirthDate : 2019-02-28\n",
            "\n",
            "ID : 2, FirstName : Jilly, LastName : Boat\n",
            "      \n",
            "Age : 54, Phone : 5562314,\n",
            "\n",
            "Weight : 125.25, BirthDate : 2019-02-28\n",
            "\n",
            "ID : 3, FirstName : Hilly, LastName : Goal\n",
            "      \n",
            "Age : 25, Phone : 4562954,\n",
            "\n",
            "Weight : 175.99, BirthDate : 2019-02-28\n",
            "\n"
          ],
          "name": "stdout"
        }
      ]
    },
    {
      "metadata": {
        "id": "ORWn7FBJGmmV",
        "colab_type": "text"
      },
      "cell_type": "markdown",
      "source": [
        "## Viewing the Table (By Column Headers)\n",
        "\n",
        "SQL syntax:\n",
        "\n",
        "\n",
        "```\n",
        "pragma table_info(TableName);\n",
        "```\n"
      ]
    },
    {
      "metadata": {
        "id": "9w0e-dfkGvmk",
        "colab_type": "code",
        "colab": {
          "base_uri": "https://localhost:8080/",
          "height": 35
        },
        "outputId": "69b52d77-c6aa-454c-98c2-dfec425be938"
      },
      "cell_type": "code",
      "source": [
        "cursor.execute(\"PRAGMA TABLE_INFO(Humans)\")\n"
      ],
      "execution_count": 19,
      "outputs": [
        {
          "output_type": "execute_result",
          "data": {
            "text/plain": [
              "<sqlite3.Cursor at 0x7f3fecbcc880>"
            ]
          },
          "metadata": {
            "tags": []
          },
          "execution_count": 19
        }
      ]
    },
    {
      "metadata": {
        "id": "Nppp5pUcGvpW",
        "colab_type": "code",
        "colab": {
          "base_uri": "https://localhost:8080/",
          "height": 35
        },
        "outputId": "ff9dc5e3-2e44-487b-b2d5-32b9f70f90c8"
      },
      "cell_type": "code",
      "source": [
        "columnNames = [name[1] for name in cursor.fetchall()]\n",
        "columnNames"
      ],
      "execution_count": 20,
      "outputs": [
        {
          "output_type": "execute_result",
          "data": {
            "text/plain": [
              "['ID', 'FirstName', 'LastName', 'Age', 'Phone', 'Weight', 'BirthDate']"
            ]
          },
          "metadata": {
            "tags": []
          },
          "execution_count": 20
        }
      ]
    },
    {
      "metadata": {
        "id": "MCxgx2KlJxPk",
        "colab_type": "text"
      },
      "cell_type": "markdown",
      "source": [
        "## Grabbing "
      ]
    },
    {
      "metadata": {
        "id": "YPTRu1-JDTo6",
        "colab_type": "text"
      },
      "cell_type": "markdown",
      "source": [
        "## Updating the Table info\n",
        "\n",
        "SQL syntax:\n",
        "\n",
        "\n",
        "\n",
        "```\n",
        "update TableName set SecondColumnAfterID=4321 where FirstColumnAfterID=\"Words\";\n",
        "```\n",
        "\n"
      ]
    },
    {
      "metadata": {
        "id": "ldIybub1B-KL",
        "colab_type": "code",
        "colab": {
          "base_uri": "https://localhost:8080/",
          "height": 345
        },
        "outputId": "3395708a-d40b-4641-9e77-42dc244d823f"
      },
      "cell_type": "code",
      "source": [
        "try:\n",
        "  db_conn.execute(\"UPDATE Humans SET FirstName = 'Stephen' WHERE ID=1\")\n",
        "  db_conn.commit()\n",
        "except sqlite3.OperationalError:\n",
        "    print(\"Table wasn't able to update, why?\")\n",
        "\n",
        "# printing the database to see the changes\n",
        "print_database_info()    "
      ],
      "execution_count": 21,
      "outputs": [
        {
          "output_type": "stream",
          "text": [
            "ID : 1, FirstName : Stephen, LastName : Goat\n",
            "      \n",
            "Age : 25, Phone : 4562314,\n",
            "\n",
            "Weight : 175.0, BirthDate : 2019-02-28\n",
            "\n",
            "ID : 2, FirstName : Jilly, LastName : Boat\n",
            "      \n",
            "Age : 54, Phone : 5562314,\n",
            "\n",
            "Weight : 125.25, BirthDate : 2019-02-28\n",
            "\n",
            "ID : 3, FirstName : Hilly, LastName : Goal\n",
            "      \n",
            "Age : 25, Phone : 4562954,\n",
            "\n",
            "Weight : 175.99, BirthDate : 2019-02-28\n",
            "\n"
          ],
          "name": "stdout"
        }
      ]
    },
    {
      "metadata": {
        "id": "9nHpElH1E5Gv",
        "colab_type": "text"
      },
      "cell_type": "markdown",
      "source": [
        "## Oops, want to go back as if that last action never occured? (Python specific code)\n",
        "\n",
        "\n"
      ]
    },
    {
      "metadata": {
        "id": "FZgoSlvEB-RF",
        "colab_type": "code",
        "colab": {}
      },
      "cell_type": "code",
      "source": [
        "db_conn.rollback()"
      ],
      "execution_count": 0,
      "outputs": []
    },
    {
      "metadata": {
        "id": "PsTJQN8CLe3V",
        "colab_type": "code",
        "colab": {
          "base_uri": "https://localhost:8080/",
          "height": 191
        },
        "outputId": "35ffb2e0-beea-4958-83f9-8e72e192603a"
      },
      "cell_type": "code",
      "source": [
        "help(sqlite3.rollback())"
      ],
      "execution_count": 26,
      "outputs": [
        {
          "output_type": "error",
          "ename": "AttributeError",
          "evalue": "ignored",
          "traceback": [
            "\u001b[0;31m---------------------------------------------------------------------------\u001b[0m",
            "\u001b[0;31mAttributeError\u001b[0m                            Traceback (most recent call last)",
            "\u001b[0;32m<ipython-input-26-686c40bc8988>\u001b[0m in \u001b[0;36m<module>\u001b[0;34m()\u001b[0m\n\u001b[0;32m----> 1\u001b[0;31m \u001b[0mhelp\u001b[0m\u001b[0;34m(\u001b[0m\u001b[0msqlite3\u001b[0m\u001b[0;34m.\u001b[0m\u001b[0mrollback\u001b[0m\u001b[0;34m(\u001b[0m\u001b[0;34m)\u001b[0m\u001b[0;34m)\u001b[0m\u001b[0;34m\u001b[0m\u001b[0;34m\u001b[0m\u001b[0m\n\u001b[0m",
            "\u001b[0;31mAttributeError\u001b[0m: module 'sqlite3' has no attribute 'rollback'"
          ]
        }
      ]
    },
    {
      "metadata": {
        "id": "b_SAq7V0FC8p",
        "colab_type": "code",
        "colab": {
          "base_uri": "https://localhost:8080/",
          "height": 345
        },
        "outputId": "9d0571b8-e766-4af8-f3ff-7a437c30e236"
      },
      "cell_type": "code",
      "source": [
        "print_database_info()   "
      ],
      "execution_count": 23,
      "outputs": [
        {
          "output_type": "stream",
          "text": [
            "ID : 1, FirstName : Stephen, LastName : Goat\n",
            "      \n",
            "Age : 25, Phone : 4562314,\n",
            "\n",
            "Weight : 175.0, BirthDate : 2019-02-28\n",
            "\n",
            "ID : 2, FirstName : Jilly, LastName : Boat\n",
            "      \n",
            "Age : 54, Phone : 5562314,\n",
            "\n",
            "Weight : 125.25, BirthDate : 2019-02-28\n",
            "\n",
            "ID : 3, FirstName : Hilly, LastName : Goal\n",
            "      \n",
            "Age : 25, Phone : 4562954,\n",
            "\n",
            "Weight : 175.99, BirthDate : 2019-02-28\n",
            "\n"
          ],
          "name": "stdout"
        }
      ]
    },
    {
      "metadata": {
        "id": "nosfXur3EiT3",
        "colab_type": "text"
      },
      "cell_type": "markdown",
      "source": [
        "## Delete Table row\n",
        "\n",
        "SQL syntax:\n",
        "\n",
        "\n",
        "\n",
        "```\n",
        "delete from TableName where FirstColumnAfterID = \"Words\";\n",
        "```\n",
        "\n"
      ]
    },
    {
      "metadata": {
        "id": "dQKlBJfEB-O9",
        "colab_type": "code",
        "colab": {
          "base_uri": "https://localhost:8080/",
          "height": 235
        },
        "outputId": "17f76b68-e823-4ce9-cf5c-a6040278c5e2"
      },
      "cell_type": "code",
      "source": [
        "try:\n",
        "  db_conn.execute(\"DELETE FROM Humans WHERE ID=1;\")\n",
        "  db_conn.commit()\n",
        "except sqlite3.OperationalError:\n",
        "    print(\"Table wasn't able to update, why?\")\n",
        "\n",
        "# printing the database to see the changes\n",
        "print_database_info()   "
      ],
      "execution_count": 27,
      "outputs": [
        {
          "output_type": "stream",
          "text": [
            "ID : 2, FirstName : Jilly, LastName : Boat\n",
            "      \n",
            "Age : 54, Phone : 5562314,\n",
            "\n",
            "Weight : 125.25, BirthDate : 2019-02-28\n",
            "\n",
            "ID : 3, FirstName : Hilly, LastName : Goal\n",
            "      \n",
            "Age : 25, Phone : 4562954,\n",
            "\n",
            "Weight : 175.99, BirthDate : 2019-02-28\n",
            "\n"
          ],
          "name": "stdout"
        }
      ]
    },
    {
      "metadata": {
        "id": "sWL6I64uFwOM",
        "colab_type": "text"
      },
      "cell_type": "markdown",
      "source": [
        "## Add new column to table\n",
        "\n",
        "SQL syntax:\n",
        " \n",
        " \n",
        "\n",
        "```\n",
        "alter table TableName add column 'NewColumn' text default null\n",
        "```\n",
        "\n"
      ]
    },
    {
      "metadata": {
        "id": "Ucz0PhP_Ff1S",
        "colab_type": "code",
        "colab": {}
      },
      "cell_type": "code",
      "source": [
        "try:\n",
        "  db_conn.execute(\"ALTER TABLE Humans ADD COLUMN 'Picture' BLOB DEFAULT NULL\")\n",
        "  db_conn.commit()\n",
        "except sqlite3.OperationalError:\n",
        "    print(\"Table wasn't able to update, why?\")"
      ],
      "execution_count": 0,
      "outputs": []
    },
    {
      "metadata": {
        "id": "fp3Llz5HFvbt",
        "colab_type": "code",
        "colab": {
          "base_uri": "https://localhost:8080/",
          "height": 163
        },
        "outputId": "19e2f540-84ac-4fdf-e0cf-713f6f8e201e"
      },
      "cell_type": "code",
      "source": [
        "# verifying it worked\n",
        "cursor.execute(\"PRAGMA TABLE_INFO(Humans)\")\n",
        "columnNames = [name[1] for name in cursor.fetchall()]\n",
        "columnNames"
      ],
      "execution_count": 29,
      "outputs": [
        {
          "output_type": "execute_result",
          "data": {
            "text/plain": [
              "['ID',\n",
              " 'FirstName',\n",
              " 'LastName',\n",
              " 'Age',\n",
              " 'Phone',\n",
              " 'Weight',\n",
              " 'BirthDate',\n",
              " 'Picture']"
            ]
          },
          "metadata": {
            "tags": []
          },
          "execution_count": 29
        }
      ]
    },
    {
      "metadata": {
        "id": "eFD0hZDMJFqm",
        "colab_type": "text"
      },
      "cell_type": "markdown",
      "source": [
        "## Delete column in a table\n",
        "\n",
        "SQL syntax:\n",
        " \n",
        " \n",
        "\n",
        "```\n",
        "alter table TableName drop column 'NewColumn' text default null;\n",
        "```\n",
        "\n"
      ]
    },
    {
      "metadata": {
        "id": "z2UIzHPDFf3o",
        "colab_type": "code",
        "colab": {
          "base_uri": "https://localhost:8080/",
          "height": 35
        },
        "outputId": "e6ff2fb3-5f53-47c7-e1f2-0e68060755a4"
      },
      "cell_type": "code",
      "source": [
        "try:\n",
        "  db_conn.execute(\"ALTER TABLE Humans DROP COLUMN 'Weight' REAL;\")\n",
        "  db_conn.commit()\n",
        "except sqlite3.OperationalError:\n",
        "    print(\"Table wasn't able to update, why?\")"
      ],
      "execution_count": 67,
      "outputs": [
        {
          "output_type": "stream",
          "text": [
            "Table wasn't able to update, why?\n"
          ],
          "name": "stdout"
        }
      ]
    },
    {
      "metadata": {
        "id": "UyoCnFV1Ff6F",
        "colab_type": "code",
        "colab": {}
      },
      "cell_type": "code",
      "source": [
        "# verifying it worked\n",
        "cursor.execute(\"PRAGMA TABLE_INFO(Humans)\")\n",
        "columnNames = [name[1] for name in cursor.fetchall()]\n",
        "columnNames"
      ],
      "execution_count": 0,
      "outputs": []
    },
    {
      "metadata": {
        "id": "7qo4eJhmJczv",
        "colab_type": "text"
      },
      "cell_type": "markdown",
      "source": [
        "## Delete index in a table\n",
        "\n",
        "SQL syntax:\n",
        " \n",
        " \n",
        "\n",
        "```\n",
        "drop index TableName.index_name;\n",
        "```\n"
      ]
    },
    {
      "metadata": {
        "id": "vP0HrTp9I3v0",
        "colab_type": "text"
      },
      "cell_type": "markdown",
      "source": [
        "## Create Database\n",
        "\n",
        "SQL synatx:\n",
        "\n",
        "\n",
        "\n",
        "```\n",
        "create database DatabaseName;\n",
        "```"
      ]
    },
    {
      "metadata": {
        "id": "Nesvv_VGKhnX",
        "colab_type": "text"
      },
      "cell_type": "markdown",
      "source": [
        "## Delete entire table\n",
        "\n",
        "SQL syntax:\n",
        "\n",
        "\n",
        "\n",
        "```\n",
        "drop table if exists TableName;\n",
        "```\n",
        "\n"
      ]
    },
    {
      "metadata": {
        "id": "OnhXnJXYKhv2",
        "colab_type": "code",
        "colab": {}
      },
      "cell_type": "code",
      "source": [
        "# need to delete an entire table?\n",
        "db_conn.execute(\"DROP TABLE IF EXISTS Humans\")\n",
        "db_conn.commit()"
      ],
      "execution_count": 0,
      "outputs": []
    },
    {
      "metadata": {
        "colab_type": "text",
        "id": "A9oNhfQQqGpG"
      },
      "cell_type": "markdown",
      "source": [
        "## Close the database connection when you're done!"
      ]
    },
    {
      "metadata": {
        "colab_type": "code",
        "id": "ymrchhwGqGpH",
        "colab": {}
      },
      "cell_type": "code",
      "source": [
        "# after you're done editing your database, make sure to close the connection\n",
        "db_conn.close()"
      ],
      "execution_count": 0,
      "outputs": []
    },
    {
      "metadata": {
        "id": "SAGQK__cOJTo",
        "colab_type": "text"
      },
      "cell_type": "markdown",
      "source": [
        "## Get all of the SQL steps to recreate the entire database (with Python and SQLite3)"
      ]
    },
    {
      "metadata": {
        "id": "gyzslHk2NxRv",
        "colab_type": "code",
        "colab": {}
      },
      "cell_type": "code",
      "source": [
        "# this saves a .sql file that has all of the steps to create this table\n",
        "\n",
        "with open('dump.sql', 'w') as f:\n",
        "  for line in db_conn.iterdump():\n",
        "    f.write(\"%s\\n\" % line)"
      ],
      "execution_count": 0,
      "outputs": []
    },
    {
      "metadata": {
        "id": "FIhSmitKOtgs",
        "colab_type": "text"
      },
      "cell_type": "markdown",
      "source": [
        "## Download the SQLite3 Database with Pandas\n",
        "\n",
        "Python syntax:\n",
        "\n",
        "To grab the entire database:\n",
        "\n",
        "```\n",
        "pandas.read_sql_query(\"select * from TableName;\", db_conn)\n",
        "```\n",
        "\n",
        "\n",
        "read_sql_query() syntax:\n",
        "\n",
        "`read_sql_query(\"SQL query; \", connection_to_database)`\n"
      ]
    },
    {
      "metadata": {
        "id": "O2QUn4CwOxiU",
        "colab_type": "code",
        "colab": {}
      },
      "cell_type": "code",
      "source": [
        "import pandas as pd"
      ],
      "execution_count": 0,
      "outputs": []
    },
    {
      "metadata": {
        "id": "TLYw5tP8Oxkv",
        "colab_type": "code",
        "colab": {}
      },
      "cell_type": "code",
      "source": [
        "# conect to the database you want\n",
        "\n",
        "db_conn = sqlite3.connect('test.db')\n",
        "\n",
        "# add your cursor\n",
        "cursor = db_conn.cursor()"
      ],
      "execution_count": 0,
      "outputs": []
    },
    {
      "metadata": {
        "id": "xdRfIxYaOxnT",
        "colab_type": "code",
        "colab": {
          "base_uri": "https://localhost:8080/",
          "height": 55
        },
        "outputId": "6f0aa60b-67bc-407c-a221-b48c373cedc5"
      },
      "cell_type": "code",
      "source": [
        "# select everything from the database\n",
        "\n",
        "cursor.execute(\"select * from Humans;\")\n",
        "human_results = cursor.fetchall()\n",
        "print(human_results)"
      ],
      "execution_count": 33,
      "outputs": [
        {
          "output_type": "stream",
          "text": [
            "[(2, 'Jilly', 'Boat', 54, 5562314, 125.25, '2019-02-28', None), (3, 'Hilly', 'Goal', 25, 4562954, 175.99, '2019-02-28', None)]\n"
          ],
          "name": "stdout"
        }
      ]
    },
    {
      "metadata": {
        "id": "xa8EdtuxPQrw",
        "colab_type": "code",
        "colab": {}
      },
      "cell_type": "code",
      "source": [
        "names_numbers = cursor.execute(\"\"\"\n",
        "  select cast(FirstName as text),\n",
        "  cast(Phone as integer)\n",
        "  from Humans;\"\"\").fetchall()"
      ],
      "execution_count": 0,
      "outputs": []
    },
    {
      "metadata": {
        "id": "5DLhMtaiPQuB",
        "colab_type": "code",
        "colab": {
          "base_uri": "https://localhost:8080/",
          "height": 35
        },
        "outputId": "00336433-0593-4fad-d43d-e7930ab10314"
      },
      "cell_type": "code",
      "source": [
        "names_numbers"
      ],
      "execution_count": 39,
      "outputs": [
        {
          "output_type": "execute_result",
          "data": {
            "text/plain": [
              "[('Jilly', 5562314), ('Hilly', 4562954)]"
            ]
          },
          "metadata": {
            "tags": []
          },
          "execution_count": 39
        }
      ]
    },
    {
      "metadata": {
        "id": "Gp6mj1x5PQwU",
        "colab_type": "code",
        "colab": {
          "base_uri": "https://localhost:8080/",
          "height": 108
        },
        "outputId": "bf9fb6ae-ae18-43ca-cccb-5efee9525776"
      },
      "cell_type": "code",
      "source": [
        "df = pd.read_sql_query(\"select * from Humans;\", db_conn)\n",
        "df"
      ],
      "execution_count": 40,
      "outputs": [
        {
          "output_type": "execute_result",
          "data": {
            "text/html": [
              "<div>\n",
              "<style scoped>\n",
              "    .dataframe tbody tr th:only-of-type {\n",
              "        vertical-align: middle;\n",
              "    }\n",
              "\n",
              "    .dataframe tbody tr th {\n",
              "        vertical-align: top;\n",
              "    }\n",
              "\n",
              "    .dataframe thead th {\n",
              "        text-align: right;\n",
              "    }\n",
              "</style>\n",
              "<table border=\"1\" class=\"dataframe\">\n",
              "  <thead>\n",
              "    <tr style=\"text-align: right;\">\n",
              "      <th></th>\n",
              "      <th>ID</th>\n",
              "      <th>FirstName</th>\n",
              "      <th>LastName</th>\n",
              "      <th>Age</th>\n",
              "      <th>Phone</th>\n",
              "      <th>Weight</th>\n",
              "      <th>BirthDate</th>\n",
              "      <th>Picture</th>\n",
              "    </tr>\n",
              "  </thead>\n",
              "  <tbody>\n",
              "    <tr>\n",
              "      <th>0</th>\n",
              "      <td>2</td>\n",
              "      <td>Jilly</td>\n",
              "      <td>Boat</td>\n",
              "      <td>54</td>\n",
              "      <td>5562314</td>\n",
              "      <td>125.25</td>\n",
              "      <td>2019-02-28</td>\n",
              "      <td>None</td>\n",
              "    </tr>\n",
              "    <tr>\n",
              "      <th>1</th>\n",
              "      <td>3</td>\n",
              "      <td>Hilly</td>\n",
              "      <td>Goal</td>\n",
              "      <td>25</td>\n",
              "      <td>4562954</td>\n",
              "      <td>175.99</td>\n",
              "      <td>2019-02-28</td>\n",
              "      <td>None</td>\n",
              "    </tr>\n",
              "  </tbody>\n",
              "</table>\n",
              "</div>"
            ],
            "text/plain": [
              "   ID FirstName LastName  Age    Phone  Weight   BirthDate Picture\n",
              "0   2     Jilly     Boat   54  5562314  125.25  2019-02-28    None\n",
              "1   3     Hilly     Goal   25  4562954  175.99  2019-02-28    None"
            ]
          },
          "metadata": {
            "tags": []
          },
          "execution_count": 40
        }
      ]
    },
    {
      "metadata": {
        "id": "OkeKTR-VOXsP",
        "colab_type": "text"
      },
      "cell_type": "markdown",
      "source": [
        "## Close the database connection when you're done!"
      ]
    },
    {
      "metadata": {
        "id": "Mx4kk9il69CE",
        "colab_type": "code",
        "colab": {}
      },
      "cell_type": "code",
      "source": [
        "# after you're done editing your database, make sure to close the connection\n",
        "db_conn.close()"
      ],
      "execution_count": 0,
      "outputs": []
    }
  ]
}