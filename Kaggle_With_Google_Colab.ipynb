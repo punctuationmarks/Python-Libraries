{
  "nbformat": 4,
  "nbformat_minor": 0,
  "metadata": {
    "colab": {
      "name": "Kaggle With Google Colab.ipynb",
      "version": "0.3.2",
      "provenance": [],
      "collapsed_sections": []
    },
    "kernelspec": {
      "name": "python3",
      "display_name": "Python 3"
    },
    "accelerator": "GPU"
  },
  "cells": [
    {
      "metadata": {
        "id": "2gT_CggZow6l",
        "colab_type": "text"
      },
      "cell_type": "markdown",
      "source": [
        "# Using Kaggle API on Google Colab\n",
        "\n"
      ]
    },
    {
      "metadata": {
        "id": "6LqQAzO3D0vP",
        "colab_type": "code",
        "colab": {}
      },
      "cell_type": "code",
      "source": [
        "# log into Kaggle\n",
        "# go to \"My Account\"\n",
        "\n",
        "# click on Create New API Token\n",
        "# this will download a file called \"kaggle.json\"\n",
        "  # you'll be using this file in colab to access kaggle datasets and competitions\n",
        "  \n",
        "# Kaggle API Documentation:\n",
        "# https://github.com/Kaggle/kaggle-api\n",
        "\n",
        "# https://medium.com/@vibhanshu2014/working-on-kaggle-datasets-through-google-colab-768d4c3363cc"
      ],
      "execution_count": 0,
      "outputs": []
    },
    {
      "metadata": {
        "id": "GXDanVhQoo5e",
        "colab_type": "code",
        "colab": {}
      },
      "cell_type": "code",
      "source": [
        "# installing the kaggle api\n",
        "!pip install kaggle"
      ],
      "execution_count": 0,
      "outputs": []
    },
    {
      "metadata": {
        "id": "vRZAk0cgo85y",
        "colab_type": "code",
        "colab": {}
      },
      "cell_type": "code",
      "source": [
        "# make a directory where you'll be storing your kaggle.json API key\n",
        "!mkdir .kaggle"
      ],
      "execution_count": 0,
      "outputs": []
    },
    {
      "metadata": {
        "id": "DpKghl-2GZOw",
        "colab_type": "text"
      },
      "cell_type": "markdown",
      "source": [
        ""
      ]
    },
    {
      "metadata": {
        "id": "0Gl_EiCcET8-",
        "colab_type": "code",
        "colab": {}
      },
      "cell_type": "code",
      "source": [
        "# uploading your kaggle.json file \n",
        "# (it'll be wherever you save it, might as well do that somewhere safe)\n",
        "from google.colab import files\n",
        "files.upload()\n"
      ],
      "execution_count": 0,
      "outputs": []
    },
    {
      "metadata": {
        "id": "RO9OX2e9EnLs",
        "colab_type": "code",
        "colab": {}
      },
      "cell_type": "code",
      "source": [
        "# moving the kaggle.json file into a newly created folder called kaggle\n",
        "\n",
        "# makes the directory\n",
        "!mkdir -p ~/.kaggle\n",
        "\n",
        "# moves the file\n",
        "!cp kaggle.json ~/.kaggle/\n",
        "!chmod 600 ~/.kaggle/kaggle.json # this part is due to Kagggle's API"
      ],
      "execution_count": 0,
      "outputs": []
    },
    {
      "metadata": {
        "id": "50Q5qkvRomJu",
        "colab_type": "code",
        "colab": {}
      },
      "cell_type": "code",
      "source": [
        ""
      ],
      "execution_count": 0,
      "outputs": []
    },
    {
      "metadata": {
        "id": "nyMMRHQJpMnH",
        "colab_type": "text"
      },
      "cell_type": "markdown",
      "source": [
        "Now for some Kaggle API code"
      ]
    },
    {
      "metadata": {
        "id": "Ql8QqyIdExqG",
        "colab_type": "code",
        "outputId": "ee6941a2-031c-4207-fc05-ab311507dda0",
        "colab": {
          "base_uri": "https://localhost:8080/",
          "height": 408
        }
      },
      "cell_type": "code",
      "source": [
        "# checking the \"whole\" (?doubtful) dataset list\n",
        "!kaggle datasets list"
      ],
      "execution_count": 0,
      "outputs": [
        {
          "output_type": "stream",
          "text": [
            "Warning: Your Kaggle API key is readable by other users on this system! To fix this, you can run 'chmod 600 /root/.kaggle/kaggle.json'\n",
            "ref                                                           title                                                size  lastUpdated          downloadCount  \n",
            "------------------------------------------------------------  --------------------------------------------------  -----  -------------------  -------------  \n",
            "mohansacharya/graduate-admissions                             Graduate Admissions                                   9KB  2018-12-28 10:07:14           4666  \n",
            "karangadiya/fifa19                                            FIFA 19 complete player dataset                       2MB  2018-12-21 03:52:59           3856  \n",
            "fivethirtyeight/fivethirtyeight-comic-characters-dataset      FiveThirtyEight Comic Characters Dataset            577KB  2019-01-13 15:02:19            601  \n",
            "lucabasa/dutch-energy                                         Energy consumption of the Netherlands               102MB  2018-12-17 23:41:45            677  \n",
            "gsutters/the-human-freedom-index                              The Human Freedom Index                             451KB  2018-12-17 21:42:23            905  \n",
            "lava18/google-play-store-apps                                 Google Play Store Apps                                2MB  2018-09-18 20:49:49          32646  \n",
            "cityofLA/los-angeles-parking-citations                        Los Angeles Parking Citations                       244MB  2019-01-23 22:18:25           1062  \n",
            "xvivancos/barcelona-data-sets                                 Barcelona data sets                                   1MB  2018-12-13 14:16:53            953  \n",
            "vbookshelf/v2-plant-seedlings-dataset                         V2 Plant Seedlings Dataset                            2GB  2018-12-13 14:20:52            281  \n",
            "sid321axn/amazon-alexa-reviews                                Amazon Alexa Reviews                                164KB  2018-07-31 17:45:14           2449  \n",
            "timoboz/stock-data-dow-jones                                  EOD data for all Dow Jones stocks                     2MB  2019-01-24 09:21:34            626  \n",
            "anokas/kuzushiji                                              Kuzushiji-MNIST                                     318MB  2018-12-17 01:19:31            199  \n",
            "nguyenhoc/plane-crash                                         Historical Plane Crashes                            700KB  2018-11-21 04:32:41           2602  \n",
            "safegraph/census-block-group-american-community-survey-data   Census Block Group American Community Survey Data     2GB  2018-12-22 00:29:56            111  \n",
            "jkkphys/english-wikipedia-articles-20170820-sqlite            English Wikipedia Articles 2017-08-20 SQLite          7GB  2018-11-27 21:54:22            358  \n",
            "noriuk/us-education-datasets-unification-project              U.S. Education Datasets: Unification Project         84MB  2018-12-22 17:09:05            495  \n",
            "thedownhill/art-images-drawings-painting-sculpture-engraving  Art Images: Drawing/Painting/Sculptures/Engravings  581MB  2018-05-25 18:00:50           1468  \n",
            "safegraph/visit-patterns-by-census-block-group                Consumer & Visitor Insights For Neighborhoods        66MB  2018-12-19 21:31:50            153  \n",
            "kaggle/kaggle-survey-2018                                     2018 Kaggle ML & DS Survey Challenge                  4MB  2018-11-03 22:35:07           7292  \n",
            "olistbr/marketing-funnel-olist                                Marketing Funnel by Olist                           275KB  2018-11-16 14:00:20            737  \n"
          ],
          "name": "stdout"
        }
      ]
    },
    {
      "metadata": {
        "id": "xhDb5C3_GhtD",
        "colab_type": "text"
      },
      "cell_type": "markdown",
      "source": [
        ""
      ]
    },
    {
      "metadata": {
        "id": "S6XU8ID7FE__",
        "colab_type": "code",
        "outputId": "cc14035d-d1dd-4391-b200-5ad86fe8ddd0",
        "colab": {
          "base_uri": "https://localhost:8080/",
          "height": 51
        }
      },
      "cell_type": "code",
      "source": [
        "# checking a specific category\n",
        "!kaggle competitions list --category gettingStarted"
      ],
      "execution_count": 0,
      "outputs": [
        {
          "output_type": "stream",
          "text": [
            "Warning: Your Kaggle API key is readable by other users on this system! To fix this, you can run 'chmod 600 /root/.kaggle/kaggle.json'\n",
            "No datasets found\n"
          ],
          "name": "stdout"
        }
      ]
    },
    {
      "metadata": {
        "id": "qeqtSe2dj1xt",
        "colab_type": "code",
        "colab": {}
      },
      "cell_type": "code",
      "source": [
        ""
      ],
      "execution_count": 0,
      "outputs": []
    },
    {
      "metadata": {
        "id": "r8QDor4JFa45",
        "colab_type": "code",
        "outputId": "b8dc5888-db26-447a-c70d-d806aea014a2",
        "colab": {
          "base_uri": "https://localhost:8080/",
          "height": 901
        }
      },
      "cell_type": "code",
      "source": [
        "# check the leader board if you're feeling competitive\n",
        "!kaggle competitions leaderboard diabetic-retinopathy-detection -s\n"
      ],
      "execution_count": 0,
      "outputs": [
        {
          "output_type": "stream",
          "text": [
            "teamId  teamName                        submissionDate       score    \n",
            "------  ------------------------------  -------------------  -------  \n",
            "196486  Min-Pooling                     2015-07-27 22:38:33  0.86035  \n",
            "172220  o_O                             2015-07-27 18:31:43  0.85425  \n",
            "162885  Reformed Gamblers               2015-07-27 04:40:09  0.85106  \n",
            "164720  Julian de Wit & Daniel Hammack  2015-07-27 23:57:17  0.85105  \n",
            "163451  Jeffrey De Fauw                 2015-07-27 18:31:46  0.84202  \n",
            "190914  DeepSense.io                    2015-07-27 23:58:39  0.83914  \n",
            "168490  Zhanpeng Zhang                  2015-07-27 15:50:56  0.83490  \n",
            "172463  Halla Yang                      2015-07-27 20:24:22  0.83013  \n",
            "190245  Plankton                        2015-07-27 21:38:44  0.82812  \n",
            "156689  Sungbin Choi                    2015-07-27 22:55:32  0.81826  \n",
            "172714  [RU.nl] AI for an Eye           2015-07-07 09:46:45  0.81662  \n",
            "157855  Tim Hochberg                    2015-07-14 18:17:57  0.79937  \n",
            "157447  Dan Nuffer                      2015-07-23 01:59:19  0.79734  \n",
            "201455  Ryan Munion                     2015-07-27 22:37:51  0.79627  \n",
            "190658  Tu/e                            2015-07-27 09:04:19  0.78515  \n",
            "157628  brainsignals                    2015-07-27 23:35:35  0.78406  \n",
            "201449  Fusion Systems                  2015-07-27 18:25:37  0.78079  \n",
            "178620  Jerman Dewards                  2015-07-26 09:35:56  0.77633  \n",
            "148975  Alexander Izvorski              2015-04-06 02:39:12  0.77594  \n",
            "154549  Bingyuan Liu                    2015-07-27 23:55:28  0.77080  \n",
            "175698  Sergey, Rasim, Alexander        2015-07-27 23:27:44  0.77065  \n",
            "195269  Ilya Kavalerov                  2015-07-27 15:31:34  0.76946  \n",
            "170310  Mike S                          2015-07-22 21:12:44  0.76643  \n",
            "199670  tk                              2015-07-27 20:45:32  0.75651  \n",
            "199984  gstieger                        2015-07-27 23:28:36  0.75610  \n",
            "191767  DarkRetino                      2015-07-27 17:26:05  0.74460  \n",
            "200410  Sungheon Park                   2015-07-27 14:31:22  0.74315  \n",
            "167501  Benjamin Bossan                 2015-07-27 20:58:20  0.73720  \n",
            "152273  Tsakalis Kostas                 2015-07-26 22:55:37  0.73703  \n",
            "148716  Medrr                           2015-07-06 07:49:30  0.73076  \n",
            "195321  Ivan Lobov                      2015-07-27 22:04:05  0.72979  \n",
            "173290  KittyKat                        2015-05-22 16:14:55  0.72258  \n",
            "162642  ted                             2015-05-31 16:05:00  0.71261  \n",
            "191835  n⊙▃⊙bz                          2015-07-27 15:20:34  0.70255  \n",
            "168549  rmldj                           2015-07-27 18:29:25  0.70026  \n",
            "159851  khyh                            2015-04-11 05:20:55  0.69938  \n",
            "189068  The High Bridge                 2015-07-26 23:50:28  0.67913  \n",
            "181982  DLZZH                           2015-06-17 17:58:21  0.67794  \n",
            "159537  paulgamble                      2015-06-11 21:51:26  0.67744  \n",
            "199387  Vui Ann and Senbong             2015-07-27 23:35:43  0.67046  \n",
            "196192  Dmitry Yarotsky                 2015-07-10 10:04:46  0.66932  \n",
            "196055  RodrigoNogueira                 2015-07-26 14:50:57  0.66265  \n",
            "188930  fisherman                       2015-07-27 20:31:11  0.65384  \n",
            "190268  Vahid Kazemi                    2015-07-15 09:54:44  0.65005  \n",
            "153946  Niko Gamulin                    2015-07-17 13:10:23  0.64904  \n",
            "200277  Scynet                          2015-07-21 15:21:33  0.64032  \n",
            "201083  particlebbq                     2015-07-27 20:54:54  0.63048  \n",
            "196332  CUMedVision                     2015-07-23 04:30:16  0.62952  \n",
            "191341  Imagic Mobile                   2015-07-16 14:11:27  0.62904  \n",
            "148461  zala                            2015-06-24 02:26:05  0.62631  \n"
          ],
          "name": "stdout"
        }
      ]
    },
    {
      "metadata": {
        "id": "PfeOhJ7HpTtZ",
        "colab_type": "code",
        "colab": {}
      },
      "cell_type": "code",
      "source": [
        "# download a dataset directly (log in, go to the dataset and copy the api key)\n",
        "# heads up this might take a hot minute\n",
        "!kaggle competitions download -c diabetic-retinopathy-detection"
      ],
      "execution_count": 0,
      "outputs": []
    },
    {
      "metadata": {
        "id": "MafVETLQpqW7",
        "colab_type": "code",
        "colab": {}
      },
      "cell_type": "code",
      "source": [
        "# Want to submit something?\n",
        "!kaggle competitions submit diabetic-retinopathy-detection -f SUBMISSION_NAME.csv -m “COMMENT ABOUT HOW THIS WAS SUBMITTED”"
      ],
      "execution_count": 0,
      "outputs": []
    }
  ]
}