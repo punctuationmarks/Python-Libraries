{
  "nbformat": 4,
  "nbformat_minor": 0,
  "metadata": {
    "colab": {
      "name": "Basic NN model with Pytorch.ipynb",
      "version": "0.3.2",
      "provenance": [],
      "collapsed_sections": []
    },
    "kernelspec": {
      "name": "python3",
      "display_name": "Python 3"
    },
    "accelerator": "GPU"
  },
  "cells": [
    {
      "metadata": {
        "id": "fLr1rwITVV_C",
        "colab_type": "text"
      },
      "cell_type": "markdown",
      "source": [
        "# Basic Neural Network model built with Pytorch\n",
        "### (Not using transfer learning)"
      ]
    },
    {
      "metadata": {
        "id": "nNgTlAp68xhC",
        "colab_type": "code",
        "colab": {}
      },
      "cell_type": "code",
      "source": [
        "import torch\n",
        "\n",
        "# MNIST Fashion is built into Pytorch\n",
        "from torchvision import datasets, transforms\n",
        "\n",
        "import torch.nn as nn\n",
        "import torch.nn.functional as F\n",
        "\n",
        "from torch import optim, utils\n",
        "\n",
        "# to show the images\n",
        "import helper # this doesn't work with Google Colab\n",
        "\n",
        "import matplotlib.pyplot as plt\n",
        "%matplotlib inline\n",
        "\n",
        "\n",
        "import numpy as np"
      ],
      "execution_count": 0,
      "outputs": []
    },
    {
      "metadata": {
        "id": "zKCjqulH84i0",
        "colab_type": "code",
        "colab": {}
      },
      "cell_type": "code",
      "source": [
        "train_transforms = transforms.Compose([transforms.RandomRotation(30),\n",
        "                                       transforms.ToTensor(), \n",
        "                                       transforms.Normalize((0.5, 0.5, 0.5), (0.5, 0.5, 0.5))])\n",
        "\n",
        "test_transforms = transforms.Compose([transforms.ToTensor(),\n",
        "                                      transforms.Normalize((0.5, 0.5, 0.5), (0.5, 0.5, 0.5))])"
      ],
      "execution_count": 0,
      "outputs": []
    },
    {
      "metadata": {
        "id": "UdSXKAXf856R",
        "colab_type": "code",
        "outputId": "09f0e4c5-0932-45ba-a9c1-99109a41761e",
        "colab": {
          "base_uri": "https://localhost:8080/",
          "height": 139
        }
      },
      "cell_type": "code",
      "source": [
        "train_data = datasets.FashionMNIST('~/.pytorch/F_MNIST_data/', download=True, train=True, transform=train_transforms)\n",
        "test_data = datasets.FashionMNIST('~/.pytorch/F_MNIST_data/', download=True, train=False, transform=test_transforms)\n"
      ],
      "execution_count": 0,
      "outputs": [
        {
          "output_type": "stream",
          "text": [
            "Downloading http://fashion-mnist.s3-website.eu-central-1.amazonaws.com/train-images-idx3-ubyte.gz\n",
            "Downloading http://fashion-mnist.s3-website.eu-central-1.amazonaws.com/train-labels-idx1-ubyte.gz\n",
            "Downloading http://fashion-mnist.s3-website.eu-central-1.amazonaws.com/t10k-images-idx3-ubyte.gz\n",
            "Downloading http://fashion-mnist.s3-website.eu-central-1.amazonaws.com/t10k-labels-idx1-ubyte.gz\n",
            "Processing...\n",
            "Done!\n"
          ],
          "name": "stdout"
        }
      ]
    },
    {
      "metadata": {
        "id": "I2Mif_pJ87qE",
        "colab_type": "code",
        "colab": {}
      },
      "cell_type": "code",
      "source": [
        "# loading the image datasets and transforms with dataloaders\n",
        "# batch size for GPU on colab can be around 32 depending on size\n",
        "# but for this one we can go all the way up to 64\n",
        "batch_size = 64\n",
        "\n",
        "# sampler is being used because that is how we split the training and validation data\n",
        "  # shuffle == True due to under/overfitting\n",
        "  # (by default it's set true when using sampler)\n",
        "\n",
        "train_loader = torch.utils.data.DataLoader(train_data, \n",
        "                                           batch_size=batch_size, \n",
        "                                           shuffle=True)\n",
        "\n",
        "test_loader = torch.utils.data.DataLoader(test_data, \n",
        "                                          batch_size=batch_size, \n",
        "                                          shuffle=True)"
      ],
      "execution_count": 0,
      "outputs": []
    },
    {
      "metadata": {
        "id": "OxMtdvNzPYHs",
        "colab_type": "text"
      },
      "cell_type": "markdown",
      "source": [
        "## Finding out the image info\n",
        " showing what type the images are and the subsequent shapes \n",
        " ### this is important because of tensor multiplication\n",
        "\n",
        "this shows that it's 64 x 1 x 28 x 28\n",
        "  meaning, it's got 64 images, 1 color chanel (gray scale), \n",
        "  and the image size is 28x28"
      ]
    },
    {
      "metadata": {
        "id": "q8wGtVSO89bi",
        "colab_type": "code",
        "outputId": "cdef713a-f73e-4e35-820a-f02f6446e071",
        "colab": {
          "base_uri": "https://localhost:8080/",
          "height": 68
        }
      },
      "cell_type": "code",
      "source": [
        "# initializing an iterator to iterate over the training data\n",
        "dataiter = iter(train_loader)\n",
        "images, labels = dataiter.next()\n",
        "print(type(images))\n",
        "print(images.shape)\n",
        "print(labels.shape)"
      ],
      "execution_count": 0,
      "outputs": [
        {
          "output_type": "stream",
          "text": [
            "<class 'torch.Tensor'>\n",
            "torch.Size([64, 1, 28, 28])\n",
            "torch.Size([64])\n"
          ],
          "name": "stdout"
        }
      ]
    },
    {
      "metadata": {
        "id": "Y_O5QkGhO81-",
        "colab_type": "code",
        "outputId": "0c496817-cc11-4c4d-c0b0-6b03e8d69686",
        "colab": {
          "base_uri": "https://localhost:8080/",
          "height": 265
        }
      },
      "cell_type": "code",
      "source": [
        "plt.imshow(images[0].numpy().squeeze(), cmap=\"Greys_r\");"
      ],
      "execution_count": 0,
      "outputs": [
        {
          "output_type": "display_data",
          "data": {
            "image/png": "[encoded data removed]",
            "text/plain": [
              "<Figure size 432x288 with 1 Axes>"
            ]
          },
          "metadata": {
            "tags": []
          }
        }
      ]
    },
    {
      "metadata": {
        "id": "bQFypsce9QB4",
        "colab_type": "text"
      },
      "cell_type": "markdown",
      "source": [
        "## Very basic feed forward Neural network using gradient descent"
      ]
    },
    {
      "metadata": {
        "id": "eUfM0x1M8_Ji",
        "colab_type": "code",
        "colab": {}
      },
      "cell_type": "code",
      "source": [
        "# building the classifier\n",
        "\n",
        "class Neural_Network(nn.Module):\n",
        "    \n",
        "    def __init__(self):\n",
        "      \n",
        "  # inhereting __init__ from Pytorch's nn.Module\n",
        "      super().__init__()\n",
        "\n",
        "# first connected layer, starting out pretty big and getting smaller as\n",
        "# the model progresses (this is not a rule, some layers can be equal,\n",
        "# BUT the final layer HAS to fit your classification output number\n",
        "      self.full_connected_layer1 = nn.Linear(784, 256)\n",
        "      self.full_connected_layer2 = nn.Linear(256, 128)\n",
        "      self.full_connected_layer3 = nn.Linear(128, 64)\n",
        "\n",
        "# final layer, only has 10 outputs since that's how many \n",
        "# classifications we have in our dataset \n",
        "# ( there are only ten types of clothing options)\n",
        "      self.full_connected_layer4 = nn.Linear(64, 10)\n",
        "\n",
        "# Adding dropout to prevent overfitting (this \"drops out\" a certain percentage \n",
        "# of items you're training on to prevent the Model from memorizing some pattern\n",
        "# that we can't see (like the actual pattern of the images in the \n",
        "# folders AKA how they're loaded))\n",
        "      self.dropout = nn.Dropout(p=0.2)\n",
        "        \n",
        "    def forward(self, x):\n",
        "      \n",
        "# make sure input tensor is flattened (easiest way to this is this syntax -1)\n",
        "      x = x.view(x.shape[0], -1)\n",
        "# applying dropout to each hidden layer to prevent overfitting\n",
        "# using Rectified Linear Unit for the activation\n",
        "# and Softmax for the output layer\n",
        "      x = self.dropout(F.relu(self.full_connected_layer1(x)))\n",
        "      x = self.dropout(F.relu(self.full_connected_layer2(x)))\n",
        "      x = self.dropout(F.relu(self.full_connected_layer3(x)))\n",
        "      \n",
        "      x = F.log_softmax(self.ouput(x), dim=1)\n",
        "\n",
        "      return x"
      ],
      "execution_count": 0,
      "outputs": []
    },
    {
      "metadata": {
        "id": "1_bNJyQH9CeL",
        "colab_type": "code",
        "colab": {}
      },
      "cell_type": "code",
      "source": [
        "# intializing the model from the class we just built\n",
        "model = Neural_Network()\n",
        "\n",
        "# using the NLLLoss as the criterion and Standard Gradient Descent as the optimizer\n",
        "criterion = nn.NLLLoss()\n",
        "optimizer = optim.Adam(model.parameters(), lr=0.001)"
      ],
      "execution_count": 0,
      "outputs": []
    },
    {
      "metadata": {
        "id": "DERCidZVTNFy",
        "colab_type": "code",
        "outputId": "8bd03e67-1d3d-4f49-9383-eeec76358426",
        "colab": {
          "base_uri": "https://localhost:8080/",
          "height": 187
        }
      },
      "cell_type": "code",
      "source": [
        "epochs = 10\n",
        "steps = 0\n",
        "\n",
        "train_losses, test_losses = [], []\n",
        "for epoch in range(epochs):\n",
        "    running_loss = 0\n",
        "    for images, labels in train_loader:\n",
        "        \n",
        "        optimizer.zero_grad()\n",
        "        \n",
        "        log_ps = model(images)\n",
        "        loss = criterion(log_ps, labels)\n",
        "        loss.backward()\n",
        "        optimizer.step()\n",
        "        \n",
        "        running_loss += loss.item()\n",
        "        \n",
        "    else:\n",
        "        test_loss = 0\n",
        "        accuracy = 0\n",
        "        \n",
        "        # Turn off gradients for validation\n",
        "        with torch.no_grad():\n",
        "            model.eval()\n",
        "            for images, labels in test_loader:\n",
        "                log_ps = model(images)\n",
        "                test_loss += criterion(log_ps, labels)\n",
        "                \n",
        "                ps = torch.exp(log_ps)\n",
        "                top_p, top_class = ps.topk(1, dim=1)\n",
        "                equals = top_class == labels.view(*top_class.shape)\n",
        "                accuracy += torch.mean(equals.type(torch.FloatTensor))\n",
        "        \n",
        "        model.train()\n",
        "        \n",
        "        train_losses.append(running_loss/len(train_loader))\n",
        "        test_losses.append(test_loss/len(test_loader))\n",
        "\n",
        "        print(f'Epoch: {epoch+1}/{epochs}',\n",
        "              f'Training Loss: {train_losses[-1]:.4f}',\n",
        "              f'Test Loss: {test_losses[-1]:.4f}',\n",
        "              f'Test Accuracy: {(accuracy/len(test_loader)):.4f}')"
      ],
      "execution_count": 0,
      "outputs": [
        {
          "output_type": "stream",
          "text": [
            "Epoch: 1/10 Training Loss: 0.3235 Test Loss: 0.3870 Test Accuracy: 0.8658\n",
            "Epoch: 2/10 Training Loss: 0.3182 Test Loss: 0.3901 Test Accuracy: 0.8566\n",
            "Epoch: 3/10 Training Loss: 0.3176 Test Loss: 0.3958 Test Accuracy: 0.8588\n",
            "Epoch: 4/10 Training Loss: 0.3124 Test Loss: 0.3786 Test Accuracy: 0.8681\n",
            "Epoch: 5/10 Training Loss: 0.3119 Test Loss: 0.3640 Test Accuracy: 0.8730\n",
            "Epoch: 6/10 Training Loss: 0.3083 Test Loss: 0.3699 Test Accuracy: 0.8667\n",
            "Epoch: 7/10 Training Loss: 0.3052 Test Loss: 0.3792 Test Accuracy: 0.8686\n",
            "Epoch: 8/10 Training Loss: 0.3044 Test Loss: 0.3858 Test Accuracy: 0.8681\n",
            "Epoch: 9/10 Training Loss: 0.3014 Test Loss: 0.3710 Test Accuracy: 0.8688\n",
            "Epoch: 10/10 Training Loss: 0.2992 Test Loss: 0.3935 Test Accuracy: 0.8660\n"
          ],
          "name": "stdout"
        }
      ]
    },
    {
      "metadata": {
        "id": "kdQKAd8SVoZx",
        "colab_type": "text"
      },
      "cell_type": "markdown",
      "source": [
        "## Notice how this is cool and all, but we really need to use this in the real world\n",
        "\n",
        " - That's where having a validation set (a test before the testing set) is extremely helpful\n",
        " - AND we need to save our model\n",
        "\n",
        "Here's a little preview of the saving. Check the CNN Basic model for some validation data"
      ]
    },
    {
      "metadata": {
        "id": "-4PSKTKGAw8D",
        "colab_type": "code",
        "outputId": "9c91467e-fa2b-40a3-c605-656b05b4e654",
        "colab": {
          "base_uri": "https://localhost:8080/",
          "height": 224
        }
      },
      "cell_type": "code",
      "source": [
        "print(\"The model: \\n\", model, '\\n')\n",
        "\n",
        "print(\"The state dict keys after training for 10 epochs: \\n\\n\", model.state_dict().keys())"
      ],
      "execution_count": 0,
      "outputs": [
        {
          "output_type": "stream",
          "text": [
            "The model: \n",
            " Neural_Network(\n",
            "  (full_connected_layer1): Linear(in_features=784, out_features=256, bias=True)\n",
            "  (full_connected_layer2): Linear(in_features=256, out_features=128, bias=True)\n",
            "  (full_connected_layer3): Linear(in_features=128, out_features=64, bias=True)\n",
            "  (ouput): Linear(in_features=64, out_features=10, bias=True)\n",
            ") \n",
            "\n",
            "The state dict keys after training for 10 epochs: \n",
            "\n",
            " odict_keys(['full_connected_layer1.weight', 'full_connected_layer1.bias', 'full_connected_layer2.weight', 'full_connected_layer2.bias', 'full_connected_layer3.weight', 'full_connected_layer3.bias', 'ouput.weight', 'ouput.bias'])\n"
          ],
          "name": "stdout"
        }
      ]
    },
    {
      "metadata": {
        "id": "c7y2PvDFWPgg",
        "colab_type": "code",
        "colab": {}
      },
      "cell_type": "code",
      "source": [
        "torch.save(model.state_dict(), 'toy_model.pth')"
      ],
      "execution_count": 0,
      "outputs": []
    },
    {
      "metadata": {
        "id": "SyKei6k1WWgR",
        "colab_type": "code",
        "outputId": "f313b9d0-ee67-463a-dd72-caa368c4ebc8",
        "colab": {
          "base_uri": "https://localhost:8080/",
          "height": 54
        }
      },
      "cell_type": "code",
      "source": [
        "# loading that model's .pth\n",
        "state_dict = torch.load('toy_model.pth')\n",
        "print(state_dict.keys())"
      ],
      "execution_count": 0,
      "outputs": [
        {
          "output_type": "stream",
          "text": [
            "odict_keys(['full_connected_layer1.weight', 'full_connected_layer1.bias', 'full_connected_layer2.weight', 'full_connected_layer2.bias', 'full_connected_layer3.weight', 'full_connected_layer3.bias', 'ouput.weight', 'ouput.bias'])\n"
          ],
          "name": "stdout"
        }
      ]
    },
    {
      "metadata": {
        "id": "T4jyEJZ_WcyM",
        "colab_type": "code",
        "colab": {}
      },
      "cell_type": "code",
      "source": [
        "# loading the state dicitonary to a model\n",
        "model.load_state_dict(state_dict)"
      ],
      "execution_count": 0,
      "outputs": []
    }
  ]
}