{
  "nbformat": 4,
  "nbformat_minor": 0,
  "metadata": {
    "colab": {
      "name": "Numpy.ipynb",
      "version": "0.3.2",
      "provenance": [],
      "collapsed_sections": [
        "bhzsGZ0MDI-F",
        "nLC-CX0fc8R-",
        "KPJvQn9pZQKk",
        "H7d2g4gWksWT",
        "v2aAM5urmddI",
        "1dDAXCM-oi9J"
      ]
    },
    "kernelspec": {
      "name": "python3",
      "display_name": "Python 3"
    }
  },
  "cells": [
    {
      "metadata": {
        "id": "dBIHjFAvC8id",
        "colab_type": "text"
      },
      "cell_type": "markdown",
      "source": [
        "# Numpy run through"
      ]
    },
    {
      "metadata": {
        "id": "48LPg4LaK8En",
        "colab_type": "code",
        "colab": {}
      },
      "cell_type": "code",
      "source": [
        "# Industry standard to import as np\n",
        "import numpy as np"
      ],
      "execution_count": 0,
      "outputs": []
    },
    {
      "metadata": {
        "id": "bhzsGZ0MDI-F",
        "colab_type": "text"
      },
      "cell_type": "markdown",
      "source": [
        "## Basics"
      ]
    },
    {
      "metadata": {
        "id": "uHQLL93eLVbn",
        "colab_type": "code",
        "colab": {}
      },
      "cell_type": "code",
      "source": [
        "# making a million uniformly, random generated set of numbers between zero and one\n",
        "randomNumbers = np.random.uniform(0, 1, size=1000000)"
      ],
      "execution_count": 0,
      "outputs": []
    },
    {
      "metadata": {
        "id": "CDfTdGgpLqPz",
        "colab_type": "code",
        "outputId": "e58e29c0-2588-4df1-dd18-97ab23c41495",
        "colab": {
          "base_uri": "https://localhost:8080/",
          "height": 34
        }
      },
      "cell_type": "code",
      "source": [
        "# taking the mean of that set\n",
        "randomNumbers.mean()\n",
        "\n",
        "\n",
        "# this is done so quickly because it is compiled in C in the backend"
      ],
      "execution_count": 0,
      "outputs": [
        {
          "output_type": "execute_result",
          "data": {
            "text/plain": [
              "0.5006128350065049"
            ]
          },
          "metadata": {
            "tags": []
          },
          "execution_count": 3
        }
      ]
    },
    {
      "metadata": {
        "id": "UVzvzEurLt2B",
        "colab_type": "code",
        "outputId": "08c84f27-16b4-4a6b-93a6-d8cb5ab83d20",
        "colab": {
          "base_uri": "https://localhost:8080/",
          "height": 34
        }
      },
      "cell_type": "code",
      "source": [
        "# numpy has a function just for creating arrays of zeros\n",
        "a = np.zeros(10)\n",
        "a"
      ],
      "execution_count": 0,
      "outputs": [
        {
          "output_type": "execute_result",
          "data": {
            "text/plain": [
              "array([0., 0., 0., 0., 0., 0., 0., 0., 0., 0.])"
            ]
          },
          "metadata": {
            "tags": []
          },
          "execution_count": 4
        }
      ]
    },
    {
      "metadata": {
        "id": "YFQTDnDGLv_s",
        "colab_type": "code",
        "outputId": "8ff49556-a10f-4c51-8277-157899a302b1",
        "colab": {
          "base_uri": "https://localhost:8080/",
          "height": 34
        }
      },
      "cell_type": "code",
      "source": [
        "# checking it's type to see what's what\n",
        "type(a)"
      ],
      "execution_count": 0,
      "outputs": [
        {
          "output_type": "execute_result",
          "data": {
            "text/plain": [
              "numpy.ndarray"
            ]
          },
          "metadata": {
            "tags": []
          },
          "execution_count": 5
        }
      ]
    },
    {
      "metadata": {
        "id": "5zk68tdxPFsP",
        "colab_type": "code",
        "outputId": "daf10f3c-62fa-4724-d3ae-a1f09a1cbffa",
        "colab": {
          "base_uri": "https://localhost:8080/",
          "height": 34
        }
      },
      "cell_type": "code",
      "source": [
        "# checking the type of what's stored inside of the arrray\n",
        "type(a[0])"
      ],
      "execution_count": 0,
      "outputs": [
        {
          "output_type": "execute_result",
          "data": {
            "text/plain": [
              "numpy.float64"
            ]
          },
          "metadata": {
            "tags": []
          },
          "execution_count": 6
        }
      ]
    },
    {
      "metadata": {
        "id": "eD5JMgyDPNKm",
        "colab_type": "code",
        "outputId": "b67ebd92-3d15-4155-b68f-f2084d6adeac",
        "colab": {
          "base_uri": "https://localhost:8080/",
          "height": 34
        }
      },
      "cell_type": "code",
      "source": [
        "# but maybe we don't want floats? we want integers\n",
        "# syntax is dtype (data type)\n",
        "b = np.zeros(10, dtype=int)\n",
        "type(b[0])"
      ],
      "execution_count": 0,
      "outputs": [
        {
          "output_type": "execute_result",
          "data": {
            "text/plain": [
              "numpy.int64"
            ]
          },
          "metadata": {
            "tags": []
          },
          "execution_count": 7
        }
      ]
    },
    {
      "metadata": {
        "id": "Zq8UUiyEPUQb",
        "colab_type": "code",
        "outputId": "af187779-efa6-40a2-c22d-173a00fc6f0d",
        "colab": {
          "base_uri": "https://localhost:8080/",
          "height": 34
        }
      },
      "cell_type": "code",
      "source": [
        "# we can even check the shape of our array\n",
        "b.shape\n",
        "print(b)"
      ],
      "execution_count": 0,
      "outputs": [
        {
          "output_type": "stream",
          "text": [
            "[0 0 0 0 0 0 0 0 0 0]\n"
          ],
          "name": "stdout"
        }
      ]
    },
    {
      "metadata": {
        "id": "J7G-M11bPc2o",
        "colab_type": "code",
        "outputId": "7901f588-5fb1-4db7-ddd1-1232cf2fb926",
        "colab": {
          "base_uri": "https://localhost:8080/",
          "height": 187
        }
      },
      "cell_type": "code",
      "source": [
        "# and hey, want to give that array some backbone\n",
        "# and reshape it? then use a tuple, my dude\n",
        "b.shape = (10, 1)\n",
        "print(b)"
      ],
      "execution_count": 0,
      "outputs": [
        {
          "output_type": "stream",
          "text": [
            "[[0]\n",
            " [0]\n",
            " [0]\n",
            " [0]\n",
            " [0]\n",
            " [0]\n",
            " [0]\n",
            " [0]\n",
            " [0]\n",
            " [0]]\n"
          ],
          "name": "stdout"
        }
      ]
    },
    {
      "metadata": {
        "id": "u9PYDq5APvx8",
        "colab_type": "code",
        "outputId": "883cc2ef-2b14-4b50-f1cc-a6204b3bc2d3",
        "colab": {
          "base_uri": "https://localhost:8080/",
          "height": 51
        }
      },
      "cell_type": "code",
      "source": [
        "# fill an array full of zeros and then shape it\n",
        "# Two rows with 5 columns\n",
        "c = np.zeros(10)\n",
        "c.shape = (2, 5)\n",
        "c\n"
      ],
      "execution_count": 0,
      "outputs": [
        {
          "output_type": "execute_result",
          "data": {
            "text/plain": [
              "array([[0., 0., 0., 0., 0.],\n",
              "       [0., 0., 0., 0., 0.]])"
            ]
          },
          "metadata": {
            "tags": []
          },
          "execution_count": 14
        }
      ]
    },
    {
      "metadata": {
        "id": "i9aOzZFQQxzQ",
        "colab_type": "code",
        "outputId": "8f28084e-984c-408a-f39f-eab0b63e1360",
        "colab": {
          "base_uri": "https://localhost:8080/",
          "height": 68
        }
      },
      "cell_type": "code",
      "source": [
        "# bunch of ones\n",
        "array_of_ones = np.ones(10)\n",
        "print(array_of_ones)\n",
        "print()\n",
        "\n",
        "# bunch of empty values to be added later\n",
        "# BUT REMEMBER AN ARRAY IS ALL THE SAME DATA TYPE\n",
        "# whatever numbers you see in \n",
        "empty_array = np.empty(3)\n",
        "print(empty_array)"
      ],
      "execution_count": 0,
      "outputs": [
        {
          "output_type": "stream",
          "text": [
            "[1. 1. 1. 1. 1. 1. 1. 1. 1. 1.]\n",
            "\n",
            "[0.39215686 0.70980392 0.80392157]\n"
          ],
          "name": "stdout"
        }
      ]
    },
    {
      "metadata": {
        "id": "XS3WxiduRSrS",
        "colab_type": "code",
        "outputId": "f6f340eb-f299-49c7-9b63-61a576feb072",
        "colab": {
          "base_uri": "https://localhost:8080/",
          "height": 34
        }
      },
      "cell_type": "code",
      "source": [
        "# setting up a grid of evenly spaced numbers\n",
        "spaced_array = np.linspace(1, 10, 4) # 4 digits, between 1.0 and 10.0\n",
        "spaced_array"
      ],
      "execution_count": 0,
      "outputs": [
        {
          "output_type": "execute_result",
          "data": {
            "text/plain": [
              "array([ 1.,  4.,  7., 10.])"
            ]
          },
          "metadata": {
            "tags": []
          },
          "execution_count": 11
        }
      ]
    },
    {
      "metadata": {
        "id": "9nCrC5i5RrLF",
        "colab_type": "code",
        "outputId": "cf4a3209-8bab-466c-f911-c74fcc70fbb7",
        "colab": {
          "base_uri": "https://localhost:8080/",
          "height": 68
        }
      },
      "cell_type": "code",
      "source": [
        "# you can create numpy arrays from python lists or tuples with np.array()\n",
        "list = [[1, 2, 3, 4], [10, 20, 30, 40], [50, 60, 70, 80]]\n",
        "numpy_list = np.array(list)\n",
        "numpy_list"
      ],
      "execution_count": 0,
      "outputs": [
        {
          "output_type": "execute_result",
          "data": {
            "text/plain": [
              "array([[ 1,  2,  3,  4],\n",
              "       [10, 20, 30, 40],\n",
              "       [50, 60, 70, 80]])"
            ]
          },
          "metadata": {
            "tags": []
          },
          "execution_count": 19
        }
      ]
    },
    {
      "metadata": {
        "id": "ZsFnT1anSoYn",
        "colab_type": "code",
        "outputId": "7f5da2ae-53a7-4f24-a8dc-5ddca0ba1cd8",
        "colab": {
          "base_uri": "https://localhost:8080/",
          "height": 51
        }
      },
      "cell_type": "code",
      "source": [
        "# similar concept, but np.asarry() but doesn't make a copy of the array in np\n",
        "array = np.zeros(10)\n",
        "print(array)\n",
        "array is np.asarray(array)"
      ],
      "execution_count": 0,
      "outputs": [
        {
          "output_type": "stream",
          "text": [
            "[0. 0. 0. 0. 0. 0. 0. 0. 0. 0.]\n"
          ],
          "name": "stdout"
        },
        {
          "output_type": "execute_result",
          "data": {
            "text/plain": [
              "True"
            ]
          },
          "metadata": {
            "tags": []
          },
          "execution_count": 23
        }
      ]
    },
    {
      "metadata": {
        "id": "hqQYiTJJSZDE",
        "colab_type": "code",
        "outputId": "92992f8f-09c1-4741-a900-e50360c84c51",
        "colab": {
          "base_uri": "https://localhost:8080/",
          "height": 34
        }
      },
      "cell_type": "code",
      "source": [
        "array is np.array(array)"
      ],
      "execution_count": 0,
      "outputs": [
        {
          "output_type": "execute_result",
          "data": {
            "text/plain": [
              "False"
            ]
          },
          "metadata": {
            "tags": []
          },
          "execution_count": 24
        }
      ]
    },
    {
      "metadata": {
        "id": "N7Yu5O9SDiju",
        "colab_type": "code",
        "colab": {}
      },
      "cell_type": "code",
      "source": [
        ""
      ],
      "execution_count": 0,
      "outputs": []
    },
    {
      "metadata": {
        "id": "0sX-goB7Diy4",
        "colab_type": "text"
      },
      "cell_type": "markdown",
      "source": [
        "### Indexing arrays"
      ]
    },
    {
      "metadata": {
        "id": "N6epn-qLTS9x",
        "colab_type": "code",
        "colab": {}
      },
      "cell_type": "code",
      "source": [
        "# you can index arrays just like a list\n",
        "# it goes [outermost section index, next outmost, next outmost, until section you want index]\n",
        "big_array =np.array([[1,2,3],[2,3,4],[4,5,6],[6,7,8]])\n"
      ],
      "execution_count": 0,
      "outputs": []
    },
    {
      "metadata": {
        "id": "WZcyvgIiT2uo",
        "colab_type": "code",
        "outputId": "cdc0aec1-e7dd-46a7-eafc-5525e96615d9",
        "colab": {
          "base_uri": "https://localhost:8080/",
          "height": 34
        }
      },
      "cell_type": "code",
      "source": [
        "# first index of the first index of the full array\n",
        "big_array[0,0]"
      ],
      "execution_count": 0,
      "outputs": [
        {
          "output_type": "execute_result",
          "data": {
            "text/plain": [
              "1"
            ]
          },
          "metadata": {
            "tags": []
          },
          "execution_count": 36
        }
      ]
    },
    {
      "metadata": {
        "id": "uIcOng8qT8UQ",
        "colab_type": "code",
        "outputId": "2c2bc26c-c71b-42c7-a0e3-9f3ba3b922f1",
        "colab": {
          "base_uri": "https://localhost:8080/",
          "height": 34
        }
      },
      "cell_type": "code",
      "source": [
        "# second, second\n",
        "big_array[1, 1]"
      ],
      "execution_count": 0,
      "outputs": [
        {
          "output_type": "execute_result",
          "data": {
            "text/plain": [
              "3"
            ]
          },
          "metadata": {
            "tags": []
          },
          "execution_count": 37
        }
      ]
    },
    {
      "metadata": {
        "id": "Y3YMZ1JDUJgV",
        "colab_type": "code",
        "outputId": "ab18f1bd-1fcb-4534-c410-a4d4a10ebceb",
        "colab": {
          "base_uri": "https://localhost:8080/",
          "height": 34
        }
      },
      "cell_type": "code",
      "source": [
        "#last item in the last section of array\n",
        "big_array[-1, -1]"
      ],
      "execution_count": 0,
      "outputs": [
        {
          "output_type": "execute_result",
          "data": {
            "text/plain": [
              "8"
            ]
          },
          "metadata": {
            "tags": []
          },
          "execution_count": 38
        }
      ]
    },
    {
      "metadata": {
        "id": "g-RZNZj4UmVb",
        "colab_type": "code",
        "colab": {}
      },
      "cell_type": "code",
      "source": [
        "nd_array =np.array([[[1,2,3],[2,3,4],[4,5,6],[6,7,8]],\n",
        "                   [[9,8,7],[6,5,4],[3,2,1],[8,7,6]]])\n",
        "\n"
      ],
      "execution_count": 0,
      "outputs": []
    },
    {
      "metadata": {
        "id": "AJb7cq0rVdyU",
        "colab_type": "code",
        "outputId": "5d446efd-5c34-4d7d-8f00-7fea7df8acd6",
        "colab": {
          "base_uri": "https://localhost:8080/",
          "height": 34
        }
      },
      "cell_type": "code",
      "source": [
        "# first array,  first array, first item\n",
        "nd_array[0,0,0]"
      ],
      "execution_count": 0,
      "outputs": [
        {
          "output_type": "execute_result",
          "data": {
            "text/plain": [
              "1"
            ]
          },
          "metadata": {
            "tags": []
          },
          "execution_count": 45
        }
      ]
    },
    {
      "metadata": {
        "id": "nvHSMlUqVo94",
        "colab_type": "code",
        "outputId": "50beac9e-2d6e-4ea9-8595-d3f7cfd028a8",
        "colab": {
          "base_uri": "https://localhost:8080/",
          "height": 34
        }
      },
      "cell_type": "code",
      "source": [
        "# last array, last section, last item in that section\n",
        "nd_array[-1,-1,-1]"
      ],
      "execution_count": 0,
      "outputs": [
        {
          "output_type": "execute_result",
          "data": {
            "text/plain": [
              "6"
            ]
          },
          "metadata": {
            "tags": []
          },
          "execution_count": 46
        }
      ]
    },
    {
      "metadata": {
        "id": "6_sdl5XkVrZP",
        "colab_type": "code",
        "outputId": "180bfe1f-628d-46da-c1df-574fabc32543",
        "colab": {
          "base_uri": "https://localhost:8080/",
          "height": 34
        }
      },
      "cell_type": "code",
      "source": [
        "nd_array[0, 0]"
      ],
      "execution_count": 0,
      "outputs": [
        {
          "output_type": "execute_result",
          "data": {
            "text/plain": [
              "array([1, 2, 3])"
            ]
          },
          "metadata": {
            "tags": []
          },
          "execution_count": 49
        }
      ]
    },
    {
      "metadata": {
        "id": "yEhsDzhAV8UL",
        "colab_type": "code",
        "outputId": "88674c47-e62c-4f11-97a9-7469c8374996",
        "colab": {
          "base_uri": "https://localhost:8080/",
          "height": 85
        }
      },
      "cell_type": "code",
      "source": [
        "# you can extract columns are rows like so\n",
        "# it'll technically run without the colon, but good practice for readability\n",
        "nd_array[0, :]"
      ],
      "execution_count": 0,
      "outputs": [
        {
          "output_type": "execute_result",
          "data": {
            "text/plain": [
              "array([[1, 2, 3],\n",
              "       [2, 3, 4],\n",
              "       [4, 5, 6],\n",
              "       [6, 7, 8]])"
            ]
          },
          "metadata": {
            "tags": []
          },
          "execution_count": 52
        }
      ]
    },
    {
      "metadata": {
        "id": "5KFfoku9X1UR",
        "colab_type": "code",
        "outputId": "c59700be-20e9-4a72-c374-e28d7dce794e",
        "colab": {
          "base_uri": "https://localhost:8080/",
          "height": 34
        }
      },
      "cell_type": "code",
      "source": [
        "nd_array[0, 0, :]"
      ],
      "execution_count": 0,
      "outputs": [
        {
          "output_type": "execute_result",
          "data": {
            "text/plain": [
              "array([1, 2, 3])"
            ]
          },
          "metadata": {
            "tags": []
          },
          "execution_count": 51
        }
      ]
    },
    {
      "metadata": {
        "id": "nLC-CX0fc8R-",
        "colab_type": "text"
      },
      "cell_type": "markdown",
      "source": [
        "### Numpy Array Methods"
      ]
    },
    {
      "metadata": {
        "id": "Btlu_vkIX4l4",
        "colab_type": "code",
        "colab": {}
      },
      "cell_type": "code",
      "source": [
        "k = np.array((1, 5, 2, 4, 3, 5))"
      ],
      "execution_count": 0,
      "outputs": []
    },
    {
      "metadata": {
        "id": "q-dRkU4udI60",
        "colab_type": "code",
        "outputId": "6a4dc790-cd25-4322-f4f9-c6ecf24397eb",
        "colab": {
          "base_uri": "https://localhost:8080/",
          "height": 34
        }
      },
      "cell_type": "code",
      "source": [
        "# sorting the array \n",
        "k.sort()\n",
        "k"
      ],
      "execution_count": 0,
      "outputs": [
        {
          "output_type": "execute_result",
          "data": {
            "text/plain": [
              "array([1, 2, 3, 4, 5, 5])"
            ]
          },
          "metadata": {
            "tags": []
          },
          "execution_count": 10
        }
      ]
    },
    {
      "metadata": {
        "id": "L3JRMsbRdL27",
        "colab_type": "code",
        "outputId": "e7241290-1e74-4737-eaf9-0861af263ca9",
        "colab": {
          "base_uri": "https://localhost:8080/",
          "height": 34
        }
      },
      "cell_type": "code",
      "source": [
        "# sum the array\n",
        "k.sum()"
      ],
      "execution_count": 0,
      "outputs": [
        {
          "output_type": "execute_result",
          "data": {
            "text/plain": [
              "20"
            ]
          },
          "metadata": {
            "tags": []
          },
          "execution_count": 11
        }
      ]
    },
    {
      "metadata": {
        "id": "sfGEpz3vdTz3",
        "colab_type": "code",
        "outputId": "96ddd2dc-2826-44a3-9ea3-be60b47fb7ea",
        "colab": {
          "base_uri": "https://localhost:8080/",
          "height": 34
        }
      },
      "cell_type": "code",
      "source": [
        "# mean\n",
        "k.mean()"
      ],
      "execution_count": 0,
      "outputs": [
        {
          "output_type": "execute_result",
          "data": {
            "text/plain": [
              "3.3333333333333335"
            ]
          },
          "metadata": {
            "tags": []
          },
          "execution_count": 12
        }
      ]
    },
    {
      "metadata": {
        "id": "NarwIXFxdW64",
        "colab_type": "code",
        "outputId": "ed57adf8-b0d8-42c5-f7ff-824ecdf28705",
        "colab": {
          "base_uri": "https://localhost:8080/",
          "height": 34
        }
      },
      "cell_type": "code",
      "source": [
        "# max value in array\n",
        "k.max()"
      ],
      "execution_count": 0,
      "outputs": [
        {
          "output_type": "execute_result",
          "data": {
            "text/plain": [
              "5"
            ]
          },
          "metadata": {
            "tags": []
          },
          "execution_count": 13
        }
      ]
    },
    {
      "metadata": {
        "id": "UbUh6LAndaXU",
        "colab_type": "code",
        "outputId": "e414d995-42a6-4f70-edb2-0d88dce2efcb",
        "colab": {
          "base_uri": "https://localhost:8080/",
          "height": 34
        }
      },
      "cell_type": "code",
      "source": [
        "# need to know index of the biggest number? (might be good for mean vs median)\n",
        "k.argmax()"
      ],
      "execution_count": 0,
      "outputs": [
        {
          "output_type": "execute_result",
          "data": {
            "text/plain": [
              "4"
            ]
          },
          "metadata": {
            "tags": []
          },
          "execution_count": 14
        }
      ]
    },
    {
      "metadata": {
        "id": "N1h7kymAdyTZ",
        "colab_type": "code",
        "outputId": "ff1ce84f-1bed-4f0d-dede-4a4ea4154b72",
        "colab": {
          "base_uri": "https://localhost:8080/",
          "height": 85
        }
      },
      "cell_type": "code",
      "source": [
        "# printing the cumulative product of the elements \n",
        "# (so index 0 + index 1, show sum @ index 1, \n",
        "# then that sum plus index 2 and show that sum, and so forth)\n",
        "print(\"Original, sorted array for reference :\\n\",k, \"\\nCumulative Summing of array: \")\n",
        "k.cumsum()"
      ],
      "execution_count": 0,
      "outputs": [
        {
          "output_type": "stream",
          "text": [
            "Original, sorted array for reference :\n",
            " [1 2 3 4 5 5] \n",
            "Cumulative Summing of array: \n"
          ],
          "name": "stdout"
        },
        {
          "output_type": "execute_result",
          "data": {
            "text/plain": [
              "array([ 1,  3,  6, 10, 15, 20])"
            ]
          },
          "metadata": {
            "tags": []
          },
          "execution_count": 20
        }
      ]
    },
    {
      "metadata": {
        "id": "6J3iuOl3eQkA",
        "colab_type": "code",
        "outputId": "e30ae676-7eef-4206-c419-5823cc2d80be",
        "colab": {
          "base_uri": "https://localhost:8080/",
          "height": 34
        }
      },
      "cell_type": "code",
      "source": [
        "# variance\n",
        "k.var()"
      ],
      "execution_count": 0,
      "outputs": [
        {
          "output_type": "execute_result",
          "data": {
            "text/plain": [
              "2.2222222222222223"
            ]
          },
          "metadata": {
            "tags": []
          },
          "execution_count": 21
        }
      ]
    },
    {
      "metadata": {
        "id": "2POdVOZNf1vp",
        "colab_type": "code",
        "outputId": "367aa76f-87fc-4f4c-ada6-2ec5183a231b",
        "colab": {
          "base_uri": "https://localhost:8080/",
          "height": 34
        }
      },
      "cell_type": "code",
      "source": [
        "#standard deviation\n",
        "k.std()"
      ],
      "execution_count": 0,
      "outputs": [
        {
          "output_type": "execute_result",
          "data": {
            "text/plain": [
              "1.4907119849998598"
            ]
          },
          "metadata": {
            "tags": []
          },
          "execution_count": 22
        }
      ]
    },
    {
      "metadata": {
        "id": "vT5aFmQlf7Fc",
        "colab_type": "code",
        "outputId": "10145bcd-7bda-41b4-ca8e-cc8d7620499b",
        "colab": {
          "base_uri": "https://localhost:8080/",
          "height": 51
        }
      },
      "cell_type": "code",
      "source": [
        "# change the shape\n",
        "k.shape = (2, 3)\n",
        "k"
      ],
      "execution_count": 0,
      "outputs": [
        {
          "output_type": "execute_result",
          "data": {
            "text/plain": [
              "array([[1, 2, 3],\n",
              "       [4, 5, 5]])"
            ]
          },
          "metadata": {
            "tags": []
          },
          "execution_count": 23
        }
      ]
    },
    {
      "metadata": {
        "id": "NGf6OlIvgIf_",
        "colab_type": "code",
        "outputId": "cf3e3ee6-2a31-412c-8ff4-04b2c9b07a72",
        "colab": {
          "base_uri": "https://localhost:8080/",
          "height": 68
        }
      },
      "cell_type": "code",
      "source": [
        "# transpose an array\n",
        "k.T"
      ],
      "execution_count": 0,
      "outputs": [
        {
          "output_type": "execute_result",
          "data": {
            "text/plain": [
              "array([[1, 4],\n",
              "       [2, 5],\n",
              "       [3, 5]])"
            ]
          },
          "metadata": {
            "tags": []
          },
          "execution_count": 24
        }
      ]
    },
    {
      "metadata": {
        "id": "sHyKcvkQEHjC",
        "colab_type": "text"
      },
      "cell_type": "markdown",
      "source": [
        "*This is important for thinking about matrix multiplication*"
      ]
    },
    {
      "metadata": {
        "id": "8VYyTe7GERan",
        "colab_type": "text"
      },
      "cell_type": "markdown",
      "source": [
        "#### Interesting tid bits about numpy methods"
      ]
    },
    {
      "metadata": {
        "id": "RXEiSgYZjaZt",
        "colab_type": "code",
        "colab": {}
      },
      "cell_type": "code",
      "source": [
        "# interesting, if you have an ascending array (numbers progressively going up)\n",
        "# you can return the the index of the first number bigger than your search\n",
        "# with method searchsorted() (meaning if you perform \n",
        "# arrayVariableName.searchsorted(x) it'll return the first element \n",
        "# in the array that is >= x)\n",
        "arr = np.array((1, 2, 3, 4, 5))"
      ],
      "execution_count": 0,
      "outputs": []
    },
    {
      "metadata": {
        "id": "f0x2j4MzjacT",
        "colab_type": "code",
        "outputId": "bc20b5a7-de3e-45cc-eb31-d32a293a4eb4",
        "colab": {
          "base_uri": "https://localhost:8080/",
          "height": 34
        }
      },
      "cell_type": "code",
      "source": [
        "arr.searchsorted(2.9)\n",
        "# returns index 2, which is number 3"
      ],
      "execution_count": 0,
      "outputs": [
        {
          "output_type": "execute_result",
          "data": {
            "text/plain": [
              "2"
            ]
          },
          "metadata": {
            "tags": []
          },
          "execution_count": 13
        }
      ]
    },
    {
      "metadata": {
        "id": "34837EGvjae2",
        "colab_type": "code",
        "outputId": "80863272-a41a-4a4b-b260-7139f79f8a10",
        "colab": {
          "base_uri": "https://localhost:8080/",
          "height": 34
        }
      },
      "cell_type": "code",
      "source": [
        "arr.searchsorted(4.2)\n",
        "# returns array 4 which is number 5"
      ],
      "execution_count": 0,
      "outputs": [
        {
          "output_type": "execute_result",
          "data": {
            "text/plain": [
              "4"
            ]
          },
          "metadata": {
            "tags": []
          },
          "execution_count": 17
        }
      ]
    },
    {
      "metadata": {
        "id": "12jUFwR5gWAG",
        "colab_type": "code",
        "colab": {}
      },
      "cell_type": "code",
      "source": [
        "# searchsorted() does NOT work on arrays in descending order\n",
        "descending_arr = np.array((5,4,3,2,1))"
      ],
      "execution_count": 0,
      "outputs": []
    },
    {
      "metadata": {
        "id": "GlZycN8NjFxw",
        "colab_type": "code",
        "outputId": "40435158-6efa-42ab-8dcc-bf90cf169964",
        "colab": {
          "base_uri": "https://localhost:8080/",
          "height": 34
        }
      },
      "cell_type": "code",
      "source": [
        "descending_arr.searchsorted(3.5)"
      ],
      "execution_count": 0,
      "outputs": [
        {
          "output_type": "execute_result",
          "data": {
            "text/plain": [
              "5"
            ]
          },
          "metadata": {
            "tags": []
          },
          "execution_count": 15
        }
      ]
    },
    {
      "metadata": {
        "id": "pM_8v7FojIdh",
        "colab_type": "code",
        "outputId": "7116d3ad-f6e0-4c15-9676-55310c0b9a50",
        "colab": {
          "base_uri": "https://localhost:8080/",
          "height": 34
        }
      },
      "cell_type": "code",
      "source": [
        "descending_arr.searchsorted(3)"
      ],
      "execution_count": 0,
      "outputs": [
        {
          "output_type": "execute_result",
          "data": {
            "text/plain": [
              "0"
            ]
          },
          "metadata": {
            "tags": []
          },
          "execution_count": 16
        }
      ]
    },
    {
      "metadata": {
        "id": "j5x7Vnh6UVkA",
        "colab_type": "text"
      },
      "cell_type": "markdown",
      "source": [
        "## Generating random data\n",
        "[Numpy Docs](https://docs.scipy.org/doc/numpy/reference/routines.random.html?highlight=numpy%20random#module-numpy.random)\n",
        "\n",
        "[Numpy docs at SciPy](https://docs.scipy.org/doc/numpy/reference/routines.random.html)"
      ]
    },
    {
      "metadata": {
        "id": "tX6n1IKLUc2t",
        "colab_type": "code",
        "outputId": "a4adeb66-ed58-4991-93e6-306b691fac15",
        "colab": {
          "base_uri": "https://localhost:8080/",
          "height": 51
        }
      },
      "cell_type": "code",
      "source": [
        "random_values_in_a_shape = np.random.rand(1, 10)\n",
        "random_values_in_a_shape"
      ],
      "execution_count": 0,
      "outputs": [
        {
          "output_type": "execute_result",
          "data": {
            "text/plain": [
              "array([[0.69556079, 0.57819189, 0.01856553, 0.45801811, 0.03054476,\n",
              "        0.73861746, 0.42823007, 0.24856549, 0.1156036 , 0.22843729]])"
            ]
          },
          "metadata": {
            "tags": []
          },
          "execution_count": 4
        }
      ]
    },
    {
      "metadata": {
        "id": "NFPtssZRVHc_",
        "colab_type": "code",
        "outputId": "09e229d0-3fbf-4bdf-e7f8-18ff00024849",
        "colab": {
          "base_uri": "https://localhost:8080/",
          "height": 51
        }
      },
      "cell_type": "code",
      "source": [
        "sample_from_standard_normal_distribution = np.random.randn(1, 10)\n",
        "sample_from_standard_normal_distribution"
      ],
      "execution_count": 0,
      "outputs": [
        {
          "output_type": "execute_result",
          "data": {
            "text/plain": [
              "array([[-0.8463874 ,  0.08172225, -0.44262901, -0.11213948,  0.09171028,\n",
              "        -0.34423985,  1.78312416, -1.32236769,  0.7043338 ,  0.76415305]])"
            ]
          },
          "metadata": {
            "tags": []
          },
          "execution_count": 5
        }
      ]
    },
    {
      "metadata": {
        "id": "l5CB1-YhW2Tt",
        "colab_type": "text"
      },
      "cell_type": "markdown",
      "source": [
        "#### randint()\n",
        "\n",
        "\n",
        "```\n",
        "randint(low[, high, size, dtype])\t\n",
        "```\n",
        "Returns random integer(s) from low (inclusive) to high (exclusive).\n",
        "Data type is np.int by default\n"
      ]
    },
    {
      "metadata": {
        "id": "_u0ddw7eWirk",
        "colab_type": "code",
        "outputId": "572fa6ab-4fcb-473f-e151-c296345114d3",
        "colab": {
          "base_uri": "https://localhost:8080/",
          "height": 34
        }
      },
      "cell_type": "code",
      "source": [
        "one_random_int_between_1_and_9 = np.random.randint(1, 10)\n",
        "one_random_int_between_1_and_9"
      ],
      "execution_count": 0,
      "outputs": [
        {
          "output_type": "execute_result",
          "data": {
            "text/plain": [
              "1"
            ]
          },
          "metadata": {
            "tags": []
          },
          "execution_count": 21
        }
      ]
    },
    {
      "metadata": {
        "id": "RBCF-ileWuUZ",
        "colab_type": "code",
        "outputId": "0435ac8f-5426-4847-f9ce-76a6bc19ef3b",
        "colab": {
          "base_uri": "https://localhost:8080/",
          "height": 34
        }
      },
      "cell_type": "code",
      "source": [
        "ten_random_int_array_between_1_and_9 = np.random.randint(1, 10, 10)\n",
        "ten_random_int_array_between_1_and_9\n"
      ],
      "execution_count": 0,
      "outputs": [
        {
          "output_type": "execute_result",
          "data": {
            "text/plain": [
              "array([8, 2, 3, 8, 6, 3, 7, 9, 1, 4])"
            ]
          },
          "metadata": {
            "tags": []
          },
          "execution_count": 23
        }
      ]
    },
    {
      "metadata": {
        "id": "wcj9DvznVHfm",
        "colab_type": "code",
        "outputId": "b78bb550-8e11-4a99-d636-6db7b3da13b2",
        "colab": {
          "base_uri": "https://localhost:8080/",
          "height": 51
        }
      },
      "cell_type": "code",
      "source": [
        "# syntax is start (inclusive), high/stop (exclusive), size=(default is 1, 1)\n",
        "random_2_x_4_array_from_1_to_10 = np.random.randint(1, high=11, size=(2, 4))\n",
        "random_2_x_4_array_from_1_to_10"
      ],
      "execution_count": 0,
      "outputs": [
        {
          "output_type": "execute_result",
          "data": {
            "text/plain": [
              "array([[ 9,  6,  5, 10],\n",
              "       [ 9,  3,  2,  1]])"
            ]
          },
          "metadata": {
            "tags": []
          },
          "execution_count": 18
        }
      ]
    },
    {
      "metadata": {
        "id": "KPJvQn9pZQKk",
        "colab_type": "text"
      },
      "cell_type": "markdown",
      "source": [
        "#### random.random_sample(), random.random(), random.ranf(),  or random.sample()\n",
        "\n",
        "\n",
        "```\n",
        "random_sample([size])\n",
        "```\n",
        "or\n",
        "\n",
        "```\n",
        "random([size])\n",
        "```\n",
        "or\n",
        "\n",
        "```\n",
        "ranf([size])\n",
        "```\n",
        "or\n",
        "\n",
        "```\n",
        "sample([size])\n",
        "```\n",
        "\n",
        "**All** return a random sample of floats between 0 and 1 (exclusive) in a nicely formatted array\n"
      ]
    },
    {
      "metadata": {
        "id": "8T5I4QRoVHkP",
        "colab_type": "code",
        "outputId": "7abbab98-fb45-4e6b-ef29-6fadc0c1f5a0",
        "colab": {
          "base_uri": "https://localhost:8080/",
          "height": 51
        }
      },
      "cell_type": "code",
      "source": [
        "# takes a list as the size\n",
        "\n",
        "random_float_sample_between_zero_and_just_under_one = np.random.random_sample(10)\n",
        "random_float_sample_between_zero_and_just_under_one"
      ],
      "execution_count": 0,
      "outputs": [
        {
          "output_type": "execute_result",
          "data": {
            "text/plain": [
              "array([0.92058339, 0.21013644, 0.85995138, 0.99034373, 0.49669269,\n",
              "       0.59616834, 0.31523762, 0.52436179, 0.05034597, 0.18143326])"
            ]
          },
          "metadata": {
            "tags": []
          },
          "execution_count": 36
        }
      ]
    },
    {
      "metadata": {
        "id": "UojtL70nVHm_",
        "colab_type": "code",
        "outputId": "775625c9-447d-48cc-9ad8-9d3ef5e631f4",
        "colab": {
          "base_uri": "https://localhost:8080/",
          "height": 153
        }
      },
      "cell_type": "code",
      "source": [
        "random_float_sample_of_two_arrays = np.random.random_sample([2, 20])\n",
        "random_float_sample_of_two_arrays"
      ],
      "execution_count": 0,
      "outputs": [
        {
          "output_type": "execute_result",
          "data": {
            "text/plain": [
              "array([[0.38299904, 0.36644004, 0.54304106, 0.73379193, 0.05793993,\n",
              "        0.62102052, 0.18089466, 0.8382367 , 0.10737901, 0.45240991,\n",
              "        0.68537936, 0.16880801, 0.67660043, 0.05975467, 0.76340987,\n",
              "        0.87679131, 0.52286963, 0.44784238, 0.95897922, 0.33545974],\n",
              "       [0.61081149, 0.11419361, 0.43048066, 0.55863775, 0.57762937,\n",
              "        0.93966148, 0.66238151, 0.99867229, 0.81313705, 0.90615923,\n",
              "        0.83105368, 0.83909728, 0.07410365, 0.94264963, 0.53341541,\n",
              "        0.44045538, 0.3611984 , 0.74123504, 0.86907127, 0.67691111]])"
            ]
          },
          "metadata": {
            "tags": []
          },
          "execution_count": 31
        }
      ]
    },
    {
      "metadata": {
        "id": "gWmgnO9ZY1kE",
        "colab_type": "code",
        "outputId": "66769f3d-d3d7-4ebe-c43d-e489b7a48d3e",
        "colab": {
          "base_uri": "https://localhost:8080/",
          "height": 51
        }
      },
      "cell_type": "code",
      "source": [
        "showing_random_random = np.random.random([1, 7])\n",
        "showing_random_random"
      ],
      "execution_count": 0,
      "outputs": [
        {
          "output_type": "execute_result",
          "data": {
            "text/plain": [
              "array([[0.67555573, 0.19699413, 0.9147253 , 0.30000202, 0.10106367,\n",
              "        0.16002321, 0.1770636 ]])"
            ]
          },
          "metadata": {
            "tags": []
          },
          "execution_count": 37
        }
      ]
    },
    {
      "metadata": {
        "id": "qIC2nXokZd1S",
        "colab_type": "text"
      },
      "cell_type": "markdown",
      "source": [
        "### choice()\n",
        "\n",
        "\n",
        "\n",
        "```\n",
        " choice(a, size=None, replace=True, p=None)\n",
        "```\n",
        "* a - 1-d array-like or integer (start is inclusive, stop exclusive)\n",
        "* size - integer or tuple of integers, default is 1\n",
        "* replace - True by default, meaning that items can be repeated, False means every returned item in the array must be unique\n",
        "* p - 1-D array-like probabilities associated with each number in \"a\", default is uniform\n",
        "  - number of float numbers have to match the size of \"a\" AND probabilities have to add up to 1 (aka 100%)\n",
        "\n"
      ]
    },
    {
      "metadata": {
        "id": "MgnjcjOLdIm_",
        "colab_type": "code",
        "outputId": "d8f65503-22b2-4e5b-c759-335e65d40038",
        "colab": {
          "base_uri": "https://localhost:8080/",
          "height": 34
        }
      },
      "cell_type": "code",
      "source": [
        "\n",
        "set_of_10_random_integers = np.random.choice(5, 10)\n",
        "set_of_10_random_integers"
      ],
      "execution_count": 0,
      "outputs": [
        {
          "output_type": "execute_result",
          "data": {
            "text/plain": [
              "array([2, 1, 2, 4, 3, 3, 4, 0, 3, 2])"
            ]
          },
          "metadata": {
            "tags": []
          },
          "execution_count": 40
        }
      ]
    },
    {
      "metadata": {
        "id": "xNr-21IDd51J",
        "colab_type": "code",
        "outputId": "cc68151c-439d-4258-aaf4-48052370f60c",
        "colab": {
          "base_uri": "https://localhost:8080/",
          "height": 34
        }
      },
      "cell_type": "code",
      "source": [
        "custom_probabilities = np.random.choice(5, 10, p=[0.3, 0.1, 0.1, 0.5, 0])\n",
        "custom_probabilities"
      ],
      "execution_count": 0,
      "outputs": [
        {
          "output_type": "execute_result",
          "data": {
            "text/plain": [
              "array([2, 2, 3, 2, 0, 3, 3, 0, 3, 3])"
            ]
          },
          "metadata": {
            "tags": []
          },
          "execution_count": 45
        }
      ]
    },
    {
      "metadata": {
        "id": "XgLXMHprf2m7",
        "colab_type": "text"
      },
      "cell_type": "markdown",
      "source": [
        "This code is taken from Numpy docs about how you can also use strings\n",
        "\n",
        "- this goes over all of the items in the list aa_milne_arr\n",
        "and prints 5 items, with each item in the list having a different probability of being selected\n",
        "\n",
        "- notice how it also returns the datatype, which is very nice"
      ]
    },
    {
      "metadata": {
        "id": "MP6AeMdBfewv",
        "colab_type": "code",
        "outputId": "6f661c36-ad2a-4a7b-973f-6fc1a072a3e7",
        "colab": {
          "base_uri": "https://localhost:8080/",
          "height": 34
        }
      },
      "cell_type": "code",
      "source": [
        "aa_milne_arr = ['pooh', 'rabbit', 'piglet', 'Christopher']\n",
        "np.random.choice(aa_milne_arr, 5, p=[0.5, 0.1, 0.1, 0.3])\n"
      ],
      "execution_count": 0,
      "outputs": [
        {
          "output_type": "execute_result",
          "data": {
            "text/plain": [
              "array(['piglet', 'pooh', 'rabbit', 'pooh', 'Christopher'], dtype='<U11')"
            ]
          },
          "metadata": {
            "tags": []
          },
          "execution_count": 47
        }
      ]
    },
    {
      "metadata": {
        "id": "QKcDNACMlcY7",
        "colab_type": "text"
      },
      "cell_type": "markdown",
      "source": [
        "### Multivariate normal, multiormal, aka Gaussian distribution\n",
        "\n",
        "```\n",
        "multivariate_normal(mean, cov[, size, check_valid, tol])\n",
        "```\n",
        "\n",
        "   *  mean : 1-D array_like, of length N\n",
        "      Mean of the N-dimensional distribution.\n",
        "   *  cov : 2-D array_like, of shape (N, N)\n",
        "      Covariance matrix of the distribution. It must be symmetric and\n",
        "      positive-semidefinite for proper sampling.\n",
        "  *   size : int or tuple of ints, optional\n",
        "      Given a shape of, for example, ``(m,n,k)``, ``m*n*k`` samples are\n",
        "      generated, and packed in an `m`-by-`n`-by-`k` arrangement.  Because\n",
        "      each sample is `N`-dimensional, the output shape is ``(m,n,k,N)``.\n",
        "      If no shape is specified, a single (`N`-D) sample is returned.\n",
        "  *   check_valid : { 'warn', 'raise', 'ignore' }, optional\n",
        "      Behavior when the covariance matrix is not positive semidefinite.\n",
        "   *  tol : float, optional\n",
        "      Tolerance when checking the singular values in covariance matrix.\n",
        "   \n",
        "\n",
        "[Gaussian distribution](https://en.wikipedia.org/wiki/Normal_distribution)\n",
        "\n",
        "\n",
        "run this if you want more specifics:\n",
        "\n",
        "\n",
        "```\n",
        "help(np.random.multivariate_normal)\n",
        "```\n",
        "\n",
        "\n"
      ]
    },
    {
      "metadata": {
        "id": "kgOmVaismIe-",
        "colab_type": "code",
        "outputId": "934e076a-f0b9-403e-d37e-72b944f0f3c0",
        "colab": {
          "base_uri": "https://localhost:8080/",
          "height": 1717
        }
      },
      "cell_type": "code",
      "source": [
        "help(np.random.multivariate_normal)"
      ],
      "execution_count": 0,
      "outputs": [
        {
          "output_type": "stream",
          "text": [
            "Help on built-in function multivariate_normal:\n",
            "\n",
            "multivariate_normal(...) method of mtrand.RandomState instance\n",
            "    multivariate_normal(mean, cov[, size, check_valid, tol])\n",
            "    \n",
            "    Draw random samples from a multivariate normal distribution.\n",
            "    \n",
            "    The multivariate normal, multinormal or Gaussian distribution is a\n",
            "    generalization of the one-dimensional normal distribution to higher\n",
            "    dimensions.  Such a distribution is specified by its mean and\n",
            "    covariance matrix.  These parameters are analogous to the mean\n",
            "    (average or \"center\") and variance (standard deviation, or \"width,\"\n",
            "    squared) of the one-dimensional normal distribution.\n",
            "    \n",
            "    Parameters\n",
            "    ----------\n",
            "    mean : 1-D array_like, of length N\n",
            "        Mean of the N-dimensional distribution.\n",
            "    cov : 2-D array_like, of shape (N, N)\n",
            "        Covariance matrix of the distribution. It must be symmetric and\n",
            "        positive-semidefinite for proper sampling.\n",
            "    size : int or tuple of ints, optional\n",
            "        Given a shape of, for example, ``(m,n,k)``, ``m*n*k`` samples are\n",
            "        generated, and packed in an `m`-by-`n`-by-`k` arrangement.  Because\n",
            "        each sample is `N`-dimensional, the output shape is ``(m,n,k,N)``.\n",
            "        If no shape is specified, a single (`N`-D) sample is returned.\n",
            "    check_valid : { 'warn', 'raise', 'ignore' }, optional\n",
            "        Behavior when the covariance matrix is not positive semidefinite.\n",
            "    tol : float, optional\n",
            "        Tolerance when checking the singular values in covariance matrix.\n",
            "    \n",
            "    Returns\n",
            "    -------\n",
            "    out : ndarray\n",
            "        The drawn samples, of shape *size*, if that was provided.  If not,\n",
            "        the shape is ``(N,)``.\n",
            "    \n",
            "        In other words, each entry ``out[i,j,...,:]`` is an N-dimensional\n",
            "        value drawn from the distribution.\n",
            "    \n",
            "    Notes\n",
            "    -----\n",
            "    The mean is a coordinate in N-dimensional space, which represents the\n",
            "    location where samples are most likely to be generated.  This is\n",
            "    analogous to the peak of the bell curve for the one-dimensional or\n",
            "    univariate normal distribution.\n",
            "    \n",
            "    Covariance indicates the level to which two variables vary together.\n",
            "    From the multivariate normal distribution, we draw N-dimensional\n",
            "    samples, :math:`X = [x_1, x_2, ... x_N]`.  The covariance matrix\n",
            "    element :math:`C_{ij}` is the covariance of :math:`x_i` and :math:`x_j`.\n",
            "    The element :math:`C_{ii}` is the variance of :math:`x_i` (i.e. its\n",
            "    \"spread\").\n",
            "    \n",
            "    Instead of specifying the full covariance matrix, popular\n",
            "    approximations include:\n",
            "    \n",
            "      - Spherical covariance (`cov` is a multiple of the identity matrix)\n",
            "      - Diagonal covariance (`cov` has non-negative elements, and only on\n",
            "        the diagonal)\n",
            "    \n",
            "    This geometrical property can be seen in two dimensions by plotting\n",
            "    generated data-points:\n",
            "    \n",
            "    >>> mean = [0, 0]\n",
            "    >>> cov = [[1, 0], [0, 100]]  # diagonal covariance\n",
            "    \n",
            "    Diagonal covariance means that points are oriented along x or y-axis:\n",
            "    \n",
            "    >>> import matplotlib.pyplot as plt\n",
            "    >>> x, y = np.random.multivariate_normal(mean, cov, 5000).T\n",
            "    >>> plt.plot(x, y, 'x')\n",
            "    >>> plt.axis('equal')\n",
            "    >>> plt.show()\n",
            "    \n",
            "    Note that the covariance matrix must be positive semidefinite (a.k.a.\n",
            "    nonnegative-definite). Otherwise, the behavior of this method is\n",
            "    undefined and backwards compatibility is not guaranteed.\n",
            "    \n",
            "    References\n",
            "    ----------\n",
            "    .. [1] Papoulis, A., \"Probability, Random Variables, and Stochastic\n",
            "           Processes,\" 3rd ed., New York: McGraw-Hill, 1991.\n",
            "    .. [2] Duda, R. O., Hart, P. E., and Stork, D. G., \"Pattern\n",
            "           Classification,\" 2nd ed., New York: Wiley, 2001.\n",
            "    \n",
            "    Examples\n",
            "    --------\n",
            "    >>> mean = (1, 2)\n",
            "    >>> cov = [[1, 0], [0, 1]]\n",
            "    >>> x = np.random.multivariate_normal(mean, cov, (3, 3))\n",
            "    >>> x.shape\n",
            "    (3, 3, 2)\n",
            "    \n",
            "    The following is probably true, given that 0.6 is roughly twice the\n",
            "    standard deviation:\n",
            "    \n",
            "    >>> list((x[0,0,:] - mean) < 0.6)\n",
            "    [True, True]\n",
            "\n"
          ],
          "name": "stdout"
        }
      ]
    },
    {
      "metadata": {
        "id": "tbePg2mGlTsk",
        "colab_type": "code",
        "colab": {}
      },
      "cell_type": "code",
      "source": [
        "x, y = np.random.multivariate_normal([2, 3], [[0.3, 0], [0,  0.5]], 10).T\n"
      ],
      "execution_count": 0,
      "outputs": []
    },
    {
      "metadata": {
        "id": "w4W3dbcel_D9",
        "colab_type": "code",
        "outputId": "c0b18b5d-f4b1-4f5f-e583-fce20e916135",
        "colab": {
          "base_uri": "https://localhost:8080/",
          "height": 51
        }
      },
      "cell_type": "code",
      "source": [
        "x"
      ],
      "execution_count": 0,
      "outputs": [
        {
          "output_type": "execute_result",
          "data": {
            "text/plain": [
              "array([2.1419047 , 2.45065224, 2.12161889, 1.73367696, 3.74314429,\n",
              "       2.24001386, 1.93005535, 1.80448549, 1.96514239, 1.98595816])"
            ]
          },
          "metadata": {
            "tags": []
          },
          "execution_count": 53
        }
      ]
    },
    {
      "metadata": {
        "id": "0NbbSSZ3l_GJ",
        "colab_type": "code",
        "outputId": "4028a27e-6d04-4358-ac82-25f36a3c8cab",
        "colab": {
          "base_uri": "https://localhost:8080/",
          "height": 51
        }
      },
      "cell_type": "code",
      "source": [
        "y"
      ],
      "execution_count": 0,
      "outputs": [
        {
          "output_type": "execute_result",
          "data": {
            "text/plain": [
              "array([3.56253664, 3.21213273, 2.88869718, 1.59884805, 2.89022774,\n",
              "       3.58136277, 3.19127819, 1.43251027, 2.6962604 , 3.7854386 ])"
            ]
          },
          "metadata": {
            "tags": []
          },
          "execution_count": 54
        }
      ]
    },
    {
      "metadata": {
        "id": "oD-cqREdg4pg",
        "colab_type": "text"
      },
      "cell_type": "markdown",
      "source": [
        "## Distributions & Permutations\n",
        "\n",
        "[Distributions & Permutations Docs](https://docs.scipy.org/doc/numpy/reference/routines.random.html#permutations)"
      ]
    },
    {
      "metadata": {
        "id": "H7d2g4gWksWT",
        "colab_type": "text"
      },
      "cell_type": "markdown",
      "source": [
        "## Operations on Arrays"
      ]
    },
    {
      "metadata": {
        "id": "LKBQCNNYlxlZ",
        "colab_type": "code",
        "outputId": "9a67ee76-2f97-4d6d-d0d7-2224e7e6c495",
        "colab": {
          "base_uri": "https://localhost:8080/",
          "height": 85
        }
      },
      "cell_type": "code",
      "source": [
        "# ten digits, between 1 and 3\n",
        "array1 = np.linspace(1, 3, 10)\n",
        "\n",
        "# ten digits between 1 and 5\n",
        "array2 = np.linspace(1, 5, 10)\n",
        "\n",
        "\n",
        "print(\"Array1 : \",array1)\n",
        "print(\"Array2 :\", array2)\n"
      ],
      "execution_count": 0,
      "outputs": [
        {
          "output_type": "stream",
          "text": [
            "Array1 :  [1.         1.22222222 1.44444444 1.66666667 1.88888889 2.11111111\n",
            " 2.33333333 2.55555556 2.77777778 3.        ]\n",
            "Array2 : [1.         1.44444444 1.88888889 2.33333333 2.77777778 3.22222222\n",
            " 3.66666667 4.11111111 4.55555556 5.        ]\n"
          ],
          "name": "stdout"
        }
      ]
    },
    {
      "metadata": {
        "id": "BkTxECfSjMJ-",
        "colab_type": "code",
        "outputId": "3deef2a7-dc6a-450a-97d7-8871747fecb2",
        "colab": {
          "base_uri": "https://localhost:8080/",
          "height": 51
        }
      },
      "cell_type": "code",
      "source": [
        "# adding the two arrays together\n",
        "addition = array1 + array2\n",
        "addition"
      ],
      "execution_count": 0,
      "outputs": [
        {
          "output_type": "execute_result",
          "data": {
            "text/plain": [
              "array([2.        , 2.66666667, 3.33333333, 4.        , 4.66666667,\n",
              "       5.33333333, 6.        , 6.66666667, 7.33333333, 8.        ])"
            ]
          },
          "metadata": {
            "tags": []
          },
          "execution_count": 26
        }
      ]
    },
    {
      "metadata": {
        "id": "PAlJd0IGk_1x",
        "colab_type": "code",
        "outputId": "e1378fba-38e8-40c3-d1d9-e20d00abfdf4",
        "colab": {
          "base_uri": "https://localhost:8080/",
          "height": 51
        }
      },
      "cell_type": "code",
      "source": [
        "# check out linear algebra for more on this\n",
        "multiplication = array1 * array2\n",
        "\n",
        "multiplication"
      ],
      "execution_count": 0,
      "outputs": [
        {
          "output_type": "execute_result",
          "data": {
            "text/plain": [
              "array([ 1.        ,  1.7654321 ,  2.72839506,  3.88888889,  5.24691358,\n",
              "        6.80246914,  8.55555556, 10.50617284, 12.65432099, 15.        ])"
            ]
          },
          "metadata": {
            "tags": []
          },
          "execution_count": 27
        }
      ]
    },
    {
      "metadata": {
        "id": "uIzSwY80lCJD",
        "colab_type": "code",
        "outputId": "9326ddb0-4523-42cc-f009-8f2a8a4afbd5",
        "colab": {
          "base_uri": "https://localhost:8080/",
          "height": 51
        }
      },
      "cell_type": "code",
      "source": [
        "# you want to add a scalar to the array\n",
        "# \"scales\" each digit by the addition of the scalar\n",
        "scalar = array1 + 10\n",
        "scalar"
      ],
      "execution_count": 0,
      "outputs": [
        {
          "output_type": "execute_result",
          "data": {
            "text/plain": [
              "array([11.        , 11.22222222, 11.44444444, 11.66666667, 11.88888889,\n",
              "       12.11111111, 12.33333333, 12.55555556, 12.77777778, 13.        ])"
            ]
          },
          "metadata": {
            "tags": []
          },
          "execution_count": 28
        }
      ]
    },
    {
      "metadata": {
        "id": "Ks5Hhw-6ljy4",
        "colab_type": "code",
        "outputId": "16543d6a-3575-4500-ce52-0caaf156a8a3",
        "colab": {
          "base_uri": "https://localhost:8080/",
          "height": 51
        }
      },
      "cell_type": "code",
      "source": [
        "# you want to add a scalar to the array\n",
        "# \"scales\" each digit by the multiplication of the scalar\n",
        "scalar_multi = array1 * 10\n",
        "scalar_multi"
      ],
      "execution_count": 0,
      "outputs": [
        {
          "output_type": "execute_result",
          "data": {
            "text/plain": [
              "array([10.        , 12.22222222, 14.44444444, 16.66666667, 18.88888889,\n",
              "       21.11111111, 23.33333333, 25.55555556, 27.77777778, 30.        ])"
            ]
          },
          "metadata": {
            "tags": []
          },
          "execution_count": 29
        }
      ]
    },
    {
      "metadata": {
        "id": "r5hqvveemPk0",
        "colab_type": "code",
        "colab": {}
      },
      "cell_type": "code",
      "source": [
        "# now doing it with nd arrays\n",
        "A = np.ones((2,4))\n",
        "B = np.ones((2,4))"
      ],
      "execution_count": 0,
      "outputs": []
    },
    {
      "metadata": {
        "id": "ujB3AQZImdRi",
        "colab_type": "code",
        "outputId": "ca38ac1e-0e97-4179-ce40-d24717e115b0",
        "colab": {
          "base_uri": "https://localhost:8080/",
          "height": 51
        }
      },
      "cell_type": "code",
      "source": [
        "# this is NOT MATRIX MULTIPLICATION, this is an element-wise product\n",
        "A * B"
      ],
      "execution_count": 0,
      "outputs": [
        {
          "output_type": "execute_result",
          "data": {
            "text/plain": [
              "array([[1., 1., 1., 1.],\n",
              "       [1., 1., 1., 1.]])"
            ]
          },
          "metadata": {
            "tags": []
          },
          "execution_count": 31
        }
      ]
    },
    {
      "metadata": {
        "id": "v2aAM5urmddI",
        "colab_type": "text"
      },
      "cell_type": "markdown",
      "source": [
        "## Matrix multiplication\n",
        "> *This will be handy for neural networks*"
      ]
    },
    {
      "metadata": {
        "id": "i2FvXs26mo_t",
        "colab_type": "code",
        "outputId": "ff0ba67c-d18c-4704-92b5-5d4c328f4a9b",
        "colab": {
          "base_uri": "https://localhost:8080/",
          "height": 51
        }
      },
      "cell_type": "code",
      "source": [
        "# THIS IS MATRIX MULITPLICATION\n",
        "# the columns in the first matrix have to match the rows in the second matrix\n",
        "# syntax is np.array(rows x columns) for 2d matrix\n",
        "# in other words:\n",
        "    # If A is an n × m matrix and B is an m × p matrix, \n",
        "    # their matrix product AB is an n × p matrix,\n",
        "C = np.ones((2, 5))\n",
        "D = np.ones((5, 4))\n",
        "C @ D"
      ],
      "execution_count": 0,
      "outputs": [
        {
          "output_type": "execute_result",
          "data": {
            "text/plain": [
              "array([[5., 5., 5., 5.],\n",
              "       [5., 5., 5., 5.]])"
            ]
          },
          "metadata": {
            "tags": []
          },
          "execution_count": 32
        }
      ]
    },
    {
      "metadata": {
        "id": "CGK0YGARm20b",
        "colab_type": "code",
        "outputId": "22ef0755-f420-48c7-8cb9-3aa8f5754073",
        "colab": {
          "base_uri": "https://localhost:8080/",
          "height": 34
        }
      },
      "cell_type": "code",
      "source": [
        "# you can also use @ to take the inner product of two flat arrays\n",
        "flat1 = np.array((1, 3))\n",
        "flat2 = np.array((10, 20))\n",
        "flat1 @ flat2\n",
        "# this returns 70 because it's (1x10 + 3x20)"
      ],
      "execution_count": 0,
      "outputs": [
        {
          "output_type": "execute_result",
          "data": {
            "text/plain": [
              "70"
            ]
          },
          "metadata": {
            "tags": []
          },
          "execution_count": 33
        }
      ]
    },
    {
      "metadata": {
        "id": "wsNvnuoRoKj-",
        "colab_type": "code",
        "outputId": "c7f1be19-d079-4d20-e592-233fbf3aa957",
        "colab": {
          "base_uri": "https://localhost:8080/",
          "height": 34
        }
      },
      "cell_type": "code",
      "source": [
        "# you can also do this with a tuple of the same size array\n",
        "flat1 @ (0, 2)"
      ],
      "execution_count": 0,
      "outputs": [
        {
          "output_type": "execute_result",
          "data": {
            "text/plain": [
              "6"
            ]
          },
          "metadata": {
            "tags": []
          },
          "execution_count": 34
        }
      ]
    },
    {
      "metadata": {
        "id": "1dDAXCM-oi9J",
        "colab_type": "text"
      },
      "cell_type": "markdown",
      "source": [
        "## Mutability and Copying\n",
        "> Arrays act as lists in python, so they are mutable"
      ]
    },
    {
      "metadata": {
        "id": "s7eggPH0ofMb",
        "colab_type": "code",
        "outputId": "d0ff7072-1a27-4ebe-d5ba-17a248e680e1",
        "colab": {
          "base_uri": "https://localhost:8080/",
          "height": 34
        }
      },
      "cell_type": "code",
      "source": [
        "another_array = np.array([0, 1])\n",
        "another_array"
      ],
      "execution_count": 0,
      "outputs": [
        {
          "output_type": "execute_result",
          "data": {
            "text/plain": [
              "array([0, 1])"
            ]
          },
          "metadata": {
            "tags": []
          },
          "execution_count": 40
        }
      ]
    },
    {
      "metadata": {
        "id": "FhHGrsJKEuSQ",
        "colab_type": "code",
        "outputId": "ae9afb58-a415-4972-f4fd-7f05da174dcf",
        "colab": {
          "base_uri": "https://localhost:8080/",
          "height": 34
        }
      },
      "cell_type": "code",
      "source": [
        "# changing array elements through index\n",
        "another_array[1] = 2\n",
        "another_array"
      ],
      "execution_count": 0,
      "outputs": [
        {
          "output_type": "execute_result",
          "data": {
            "text/plain": [
              "array([0, 2])"
            ]
          },
          "metadata": {
            "tags": []
          },
          "execution_count": 41
        }
      ]
    },
    {
      "metadata": {
        "id": "ZeZwV8oSFjxn",
        "colab_type": "code",
        "outputId": "5596cdf8-4a54-4f0b-f626-9d6fe05137bf",
        "colab": {
          "base_uri": "https://localhost:8080/",
          "height": 180
        }
      },
      "cell_type": "code",
      "source": [
        "# Can you add a new digit in the array by calling its index? Nope\n",
        "another_array[2] = 4\n",
        "another_array"
      ],
      "execution_count": 0,
      "outputs": [
        {
          "output_type": "error",
          "ename": "IndexError",
          "evalue": "ignored",
          "traceback": [
            "\u001b[0;31m---------------------------------------------------------------------------\u001b[0m",
            "\u001b[0;31mIndexError\u001b[0m                                Traceback (most recent call last)",
            "\u001b[0;32m<ipython-input-42-d4acf486a50f>\u001b[0m in \u001b[0;36m<module>\u001b[0;34m()\u001b[0m\n\u001b[0;32m----> 1\u001b[0;31m \u001b[0manother_array\u001b[0m\u001b[0;34m[\u001b[0m\u001b[0;36m2\u001b[0m\u001b[0;34m]\u001b[0m \u001b[0;34m=\u001b[0m \u001b[0;36m4\u001b[0m\u001b[0;34m\u001b[0m\u001b[0;34m\u001b[0m\u001b[0m\n\u001b[0m\u001b[1;32m      2\u001b[0m \u001b[0manother_array\u001b[0m\u001b[0;34m\u001b[0m\u001b[0;34m\u001b[0m\u001b[0m\n",
            "\u001b[0;31mIndexError\u001b[0m: index 2 is out of bounds for axis 0 with size 2"
          ]
        }
      ]
    },
    {
      "metadata": {
        "id": "0JNMcIuuE0rW",
        "colab_type": "code",
        "outputId": "ded2522a-24ee-4026-9ccb-4542ce3804de",
        "colab": {
          "base_uri": "https://localhost:8080/",
          "height": 34
        }
      },
      "cell_type": "code",
      "source": [
        "# BUT!\n",
        "# Change the same array with some random digits?\n",
        "  # which is wild because if you wanted to add, from indexing, a new digit the program\n",
        "  # crashes\n",
        "another_array = np.random.randn(3)\n",
        "another_array"
      ],
      "execution_count": 0,
      "outputs": [
        {
          "output_type": "execute_result",
          "data": {
            "text/plain": [
              "array([-0.62632114,  0.00660194, -0.01200653])"
            ]
          },
          "metadata": {
            "tags": []
          },
          "execution_count": 43
        }
      ]
    },
    {
      "metadata": {
        "id": "lok8zoRSFV1u",
        "colab_type": "code",
        "colab": {}
      },
      "cell_type": "code",
      "source": [
        ""
      ],
      "execution_count": 0,
      "outputs": []
    }
  ]
}