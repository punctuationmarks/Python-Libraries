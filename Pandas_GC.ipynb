{
  "nbformat": 4,
  "nbformat_minor": 0,
  "metadata": {
    "colab": {
      "name": "Pandas.ipynb",
      "version": "0.3.2",
      "provenance": [],
      "collapsed_sections": [
        "GNhyic48kdtN",
        "Dr6dObRkrU31",
        "U3rW9_Uw-XYy",
        "2oYYbaod47HX",
        "EFWOa8Iaj8sL",
        "cA-9_z1pli3l",
        "S7WWYdqRi5CD",
        "psebsQ7IzLEi",
        "49pC2Jyr1Edl",
        "bYZsoMgf2r57",
        "Ika-5A8M2dQ4",
        "FiMebN3RLM9O",
        "axddLuR3qCO-",
        "0mcaPpsYi7JF",
        "rIxZGYuji3Xh",
        "SMBeVM4epSZa"
      ],
      "include_colab_link": true
    },
    "kernelspec": {
      "name": "python3",
      "display_name": "Python 3"
    }
  },
  "cells": [
    {
      "cell_type": "markdown",
      "metadata": {
        "id": "view-in-github",
        "colab_type": "text"
      },
      "source": [
        "<a href=\"https://colab.research.google.com/github/punctuationmarks/Python-Libraries/blob/master/Pandas_GC.ipynb\" target=\"_parent\"><img src=\"https://colab.research.google.com/assets/colab-badge.svg\" alt=\"Open In Colab\"/></a>"
      ]
    },
    {
      "metadata": {
        "id": "ma_qdyXdfjSK",
        "colab_type": "text"
      },
      "cell_type": "markdown",
      "source": [
        "#Quick tutorial on Pandas"
      ]
    },
    {
      "metadata": {
        "id": "VV2MR3No9co-",
        "colab_type": "text"
      },
      "cell_type": "markdown",
      "source": [
        "[Pandas 0.24.1 Docs](https://pandas.pydata.org/pandas-docs/stable/index.html)"
      ]
    },
    {
      "metadata": {
        "id": "MUpavcWKd-m6",
        "colab_type": "code",
        "colab": {}
      },
      "cell_type": "code",
      "source": [
        "import pandas as pd"
      ],
      "execution_count": 0,
      "outputs": []
    },
    {
      "metadata": {
        "id": "GNhyic48kdtN",
        "colab_type": "text"
      },
      "cell_type": "markdown",
      "source": [
        "## CSV Dataframe and Basics"
      ]
    },
    {
      "metadata": {
        "id": "HGCpkq8ggthY",
        "colab_type": "code",
        "outputId": "7b106780-3a47-4966-b88c-801763e09061",
        "colab": {
          "base_uri": "https://localhost:8080/",
          "height": 224
        }
      },
      "cell_type": "code",
      "source": [
        "# downloading some open data on supermarkets from Niagara in CSV format\n",
        "!wget https://niagaraopendata.ca/dataset/9e5d3a3b-5ca2-40be-8a9c-e28fc8594bcf/resource/26b2094b-62c0-43c6-92af-995589dcff6f/download/supermarkets.csv"
      ],
      "execution_count": 0,
      "outputs": [
        {
          "output_type": "stream",
          "text": [
            "--2019-02-15 13:25:08--  https://niagaraopendata.ca/dataset/9e5d3a3b-5ca2-40be-8a9c-e28fc8594bcf/resource/26b2094b-62c0-43c6-92af-995589dcff6f/download/supermarkets.csv\n",
            "Resolving niagaraopendata.ca (niagaraopendata.ca)... 35.183.23.180\n",
            "Connecting to niagaraopendata.ca (niagaraopendata.ca)|35.183.23.180|:443... connected.\n",
            "HTTP request sent, awaiting response... 200 OK\n",
            "Length: 10630 (10K) [text/csv]\n",
            "Saving to: ‘supermarkets.csv.1’\n",
            "\n",
            "\rsupermarkets.csv.1    0%[                    ]       0  --.-KB/s               \rsupermarkets.csv.1  100%[===================>]  10.38K  --.-KB/s    in 0s      \n",
            "\n",
            "2019-02-15 13:25:09 (256 MB/s) - ‘supermarkets.csv.1’ saved [10630/10630]\n",
            "\n"
          ],
          "name": "stdout"
        }
      ]
    },
    {
      "metadata": {
        "id": "ZHGJaiEAhKwc",
        "colab_type": "code",
        "colab": {}
      },
      "cell_type": "code",
      "source": [
        "# reading the csv file\n",
        "supermarkets_dataframe= pd.read_csv(\"supermarkets.csv\")"
      ],
      "execution_count": 0,
      "outputs": []
    },
    {
      "metadata": {
        "id": "-GHIwpOC5475",
        "colab_type": "text"
      },
      "cell_type": "markdown",
      "source": [
        "[Pandas Doc on .read_csv()](https://pandas.pydata.org/pandas-docs/stable/reference/api/pandas.read_csv.html)"
      ]
    },
    {
      "metadata": {
        "id": "ZG4qsZOHhQRm",
        "colab_type": "code",
        "outputId": "43217437-bf7b-4a90-b54e-f82a4f279f4d",
        "colab": {
          "base_uri": "https://localhost:8080/",
          "height": 34
        }
      },
      "cell_type": "code",
      "source": [
        "# showing the shape of your dataframe\n",
        "supermarkets_dataframe.shape"
      ],
      "execution_count": 0,
      "outputs": [
        {
          "output_type": "execute_result",
          "data": {
            "text/plain": [
              "(98, 10)"
            ]
          },
          "metadata": {
            "tags": []
          },
          "execution_count": 4
        }
      ]
    },
    {
      "metadata": {
        "id": "akYDybzGo7m3",
        "colab_type": "text"
      },
      "cell_type": "markdown",
      "source": [
        "### Want to know what the columns are without printing the entire thing?\n",
        "### mulitple ways of doing that:"
      ]
    },
    {
      "metadata": {
        "id": "hkI5sIBziin9",
        "colab_type": "code",
        "outputId": "ba6985c3-e60f-403c-b0ac-9db850627925",
        "colab": {
          "base_uri": "https://localhost:8080/",
          "height": 187
        }
      },
      "cell_type": "code",
      "source": [
        "list(supermarkets_dataframe.columns.values)"
      ],
      "execution_count": 0,
      "outputs": [
        {
          "output_type": "execute_result",
          "data": {
            "text/plain": [
              "['FacilityName',\n",
              " 'StreeetNo',\n",
              " 'StreetName_Suffix',\n",
              " 'StreetDirection',\n",
              " 'UnitNumber',\n",
              " 'Municipality',\n",
              " 'Telephone',\n",
              " 'Fax',\n",
              " 'LONGITUDE',\n",
              " 'LATITUDE']"
            ]
          },
          "metadata": {
            "tags": []
          },
          "execution_count": 5
        }
      ]
    },
    {
      "metadata": {
        "id": "_QXWl2rLoogm",
        "colab_type": "code",
        "outputId": "bfd2ed61-e261-4d3f-cf02-86e532366e78",
        "colab": {
          "base_uri": "https://localhost:8080/",
          "height": 187
        }
      },
      "cell_type": "code",
      "source": [
        "list(supermarkets_dataframe)"
      ],
      "execution_count": 0,
      "outputs": [
        {
          "output_type": "execute_result",
          "data": {
            "text/plain": [
              "['FacilityName',\n",
              " 'StreeetNo',\n",
              " 'StreetName_Suffix',\n",
              " 'StreetDirection',\n",
              " 'UnitNumber',\n",
              " 'Municipality',\n",
              " 'Telephone',\n",
              " 'Fax',\n",
              " 'LONGITUDE',\n",
              " 'LATITUDE']"
            ]
          },
          "metadata": {
            "tags": []
          },
          "execution_count": 6
        }
      ]
    },
    {
      "metadata": {
        "id": "s3foe-ZIoxYW",
        "colab_type": "code",
        "outputId": "499d1c64-dbec-41b1-c6de-f9e9c4f1b8cf",
        "colab": {
          "base_uri": "https://localhost:8080/",
          "height": 187
        }
      },
      "cell_type": "code",
      "source": [
        "supermarkets_dataframe.columns.tolist()"
      ],
      "execution_count": 0,
      "outputs": [
        {
          "output_type": "execute_result",
          "data": {
            "text/plain": [
              "['FacilityName',\n",
              " 'StreeetNo',\n",
              " 'StreetName_Suffix',\n",
              " 'StreetDirection',\n",
              " 'UnitNumber',\n",
              " 'Municipality',\n",
              " 'Telephone',\n",
              " 'Fax',\n",
              " 'LONGITUDE',\n",
              " 'LATITUDE']"
            ]
          },
          "metadata": {
            "tags": []
          },
          "execution_count": 7
        }
      ]
    },
    {
      "metadata": {
        "id": "r2wu66aMrG9S",
        "colab_type": "text"
      },
      "cell_type": "markdown",
      "source": [
        "### Just the top of the dataframe:"
      ]
    },
    {
      "metadata": {
        "id": "-GTsXoEfpCfj",
        "colab_type": "code",
        "outputId": "790034af-0dec-42f3-9670-edbb8987bb90",
        "colab": {
          "base_uri": "https://localhost:8080/",
          "height": 360
        }
      },
      "cell_type": "code",
      "source": [
        "# want the just the top 5 items?\n",
        "supermarkets_dataframe.head()"
      ],
      "execution_count": 0,
      "outputs": [
        {
          "output_type": "execute_result",
          "data": {
            "text/html": [
              "<div>\n",
              "<style scoped>\n",
              "    .dataframe tbody tr th:only-of-type {\n",
              "        vertical-align: middle;\n",
              "    }\n",
              "\n",
              "    .dataframe tbody tr th {\n",
              "        vertical-align: top;\n",
              "    }\n",
              "\n",
              "    .dataframe thead th {\n",
              "        text-align: right;\n",
              "    }\n",
              "</style>\n",
              "<table border=\"1\" class=\"dataframe\">\n",
              "  <thead>\n",
              "    <tr style=\"text-align: right;\">\n",
              "      <th></th>\n",
              "      <th>FacilityName</th>\n",
              "      <th>StreeetNo</th>\n",
              "      <th>StreetName_Suffix</th>\n",
              "      <th>StreetDirection</th>\n",
              "      <th>UnitNumber</th>\n",
              "      <th>Municipality</th>\n",
              "      <th>Telephone</th>\n",
              "      <th>Fax</th>\n",
              "      <th>LONGITUDE</th>\n",
              "      <th>LATITUDE</th>\n",
              "    </tr>\n",
              "  </thead>\n",
              "  <tbody>\n",
              "    <tr>\n",
              "      <th>0</th>\n",
              "      <td>No Frills</td>\n",
              "      <td>1135</td>\n",
              "      <td>Thompson Road</td>\n",
              "      <td>NaN</td>\n",
              "      <td>NaN</td>\n",
              "      <td>Fort Erie</td>\n",
              "      <td>(905) 994-8254</td>\n",
              "      <td>(905) 994-8257</td>\n",
              "      <td>-78.943570</td>\n",
              "      <td>42.907646</td>\n",
              "    </tr>\n",
              "    <tr>\n",
              "      <th>1</th>\n",
              "      <td>Sobey's</td>\n",
              "      <td>450</td>\n",
              "      <td>Garrison Road</td>\n",
              "      <td>NaN</td>\n",
              "      <td>NaN</td>\n",
              "      <td>Fort Erie</td>\n",
              "      <td>(905) 871-0463</td>\n",
              "      <td>(905) 871-5044</td>\n",
              "      <td>-78.930172</td>\n",
              "      <td>42.906526</td>\n",
              "    </tr>\n",
              "    <tr>\n",
              "      <th>2</th>\n",
              "      <td>Shoppers Drug Mart</td>\n",
              "      <td>42</td>\n",
              "      <td>St Andrews Avenue</td>\n",
              "      <td>NaN</td>\n",
              "      <td>1</td>\n",
              "      <td>Grimsby</td>\n",
              "      <td>(905) 945-9775</td>\n",
              "      <td>(905) 945-7705</td>\n",
              "      <td>-79.567445</td>\n",
              "      <td>43.196735</td>\n",
              "    </tr>\n",
              "    <tr>\n",
              "      <th>3</th>\n",
              "      <td>Shoppers Drug Mart</td>\n",
              "      <td>5125</td>\n",
              "      <td>Montrose Road</td>\n",
              "      <td>NaN</td>\n",
              "      <td>NaN</td>\n",
              "      <td>Niagara Falls</td>\n",
              "      <td>(905) 357-1100</td>\n",
              "      <td>NaN</td>\n",
              "      <td>-79.124718</td>\n",
              "      <td>43.099482</td>\n",
              "    </tr>\n",
              "    <tr>\n",
              "      <th>4</th>\n",
              "      <td>Busy Bee Food Mart</td>\n",
              "      <td>5203</td>\n",
              "      <td>Victoria Avenue</td>\n",
              "      <td>NaN</td>\n",
              "      <td>NaN</td>\n",
              "      <td>Niagara Falls</td>\n",
              "      <td>(905) 353-8382</td>\n",
              "      <td>NaN</td>\n",
              "      <td>-79.073334</td>\n",
              "      <td>43.099088</td>\n",
              "    </tr>\n",
              "  </tbody>\n",
              "</table>\n",
              "</div>"
            ],
            "text/plain": [
              "         FacilityName StreeetNo  StreetName_Suffix StreetDirection UnitNumber  \\\n",
              "0           No Frills      1135      Thompson Road             NaN        NaN   \n",
              "1             Sobey's       450      Garrison Road             NaN        NaN   \n",
              "2  Shoppers Drug Mart        42  St Andrews Avenue             NaN          1   \n",
              "3  Shoppers Drug Mart      5125      Montrose Road             NaN        NaN   \n",
              "4  Busy Bee Food Mart      5203    Victoria Avenue             NaN        NaN   \n",
              "\n",
              "    Municipality       Telephone             Fax  LONGITUDE   LATITUDE  \n",
              "0      Fort Erie  (905) 994-8254  (905) 994-8257 -78.943570  42.907646  \n",
              "1      Fort Erie  (905) 871-0463  (905) 871-5044 -78.930172  42.906526  \n",
              "2        Grimsby  (905) 945-9775  (905) 945-7705 -79.567445  43.196735  \n",
              "3  Niagara Falls  (905) 357-1100             NaN -79.124718  43.099482  \n",
              "4  Niagara Falls  (905) 353-8382             NaN -79.073334  43.099088  "
            ]
          },
          "metadata": {
            "tags": []
          },
          "execution_count": 8
        }
      ]
    },
    {
      "metadata": {
        "id": "JRWxwzJmrAy2",
        "colab_type": "code",
        "outputId": "85191b3f-62da-4aea-f581-25116885707b",
        "colab": {
          "base_uri": "https://localhost:8080/",
          "height": 668
        }
      },
      "cell_type": "code",
      "source": [
        "# (you can specify how many items inside of head())\n",
        "# for example:\n",
        "supermarkets_dataframe.head(10)"
      ],
      "execution_count": 0,
      "outputs": [
        {
          "output_type": "execute_result",
          "data": {
            "text/html": [
              "<div>\n",
              "<style scoped>\n",
              "    .dataframe tbody tr th:only-of-type {\n",
              "        vertical-align: middle;\n",
              "    }\n",
              "\n",
              "    .dataframe tbody tr th {\n",
              "        vertical-align: top;\n",
              "    }\n",
              "\n",
              "    .dataframe thead th {\n",
              "        text-align: right;\n",
              "    }\n",
              "</style>\n",
              "<table border=\"1\" class=\"dataframe\">\n",
              "  <thead>\n",
              "    <tr style=\"text-align: right;\">\n",
              "      <th></th>\n",
              "      <th>FacilityName</th>\n",
              "      <th>StreeetNo</th>\n",
              "      <th>StreetName_Suffix</th>\n",
              "      <th>StreetDirection</th>\n",
              "      <th>UnitNumber</th>\n",
              "      <th>Municipality</th>\n",
              "      <th>Telephone</th>\n",
              "      <th>Fax</th>\n",
              "      <th>LONGITUDE</th>\n",
              "      <th>LATITUDE</th>\n",
              "    </tr>\n",
              "  </thead>\n",
              "  <tbody>\n",
              "    <tr>\n",
              "      <th>0</th>\n",
              "      <td>No Frills</td>\n",
              "      <td>1135</td>\n",
              "      <td>Thompson Road</td>\n",
              "      <td>NaN</td>\n",
              "      <td>NaN</td>\n",
              "      <td>Fort Erie</td>\n",
              "      <td>(905) 994-8254</td>\n",
              "      <td>(905) 994-8257</td>\n",
              "      <td>-78.943570</td>\n",
              "      <td>42.907646</td>\n",
              "    </tr>\n",
              "    <tr>\n",
              "      <th>1</th>\n",
              "      <td>Sobey's</td>\n",
              "      <td>450</td>\n",
              "      <td>Garrison Road</td>\n",
              "      <td>NaN</td>\n",
              "      <td>NaN</td>\n",
              "      <td>Fort Erie</td>\n",
              "      <td>(905) 871-0463</td>\n",
              "      <td>(905) 871-5044</td>\n",
              "      <td>-78.930172</td>\n",
              "      <td>42.906526</td>\n",
              "    </tr>\n",
              "    <tr>\n",
              "      <th>2</th>\n",
              "      <td>Shoppers Drug Mart</td>\n",
              "      <td>42</td>\n",
              "      <td>St Andrews Avenue</td>\n",
              "      <td>NaN</td>\n",
              "      <td>1</td>\n",
              "      <td>Grimsby</td>\n",
              "      <td>(905) 945-9775</td>\n",
              "      <td>(905) 945-7705</td>\n",
              "      <td>-79.567445</td>\n",
              "      <td>43.196735</td>\n",
              "    </tr>\n",
              "    <tr>\n",
              "      <th>3</th>\n",
              "      <td>Shoppers Drug Mart</td>\n",
              "      <td>5125</td>\n",
              "      <td>Montrose Road</td>\n",
              "      <td>NaN</td>\n",
              "      <td>NaN</td>\n",
              "      <td>Niagara Falls</td>\n",
              "      <td>(905) 357-1100</td>\n",
              "      <td>NaN</td>\n",
              "      <td>-79.124718</td>\n",
              "      <td>43.099482</td>\n",
              "    </tr>\n",
              "    <tr>\n",
              "      <th>4</th>\n",
              "      <td>Busy Bee Food Mart</td>\n",
              "      <td>5203</td>\n",
              "      <td>Victoria Avenue</td>\n",
              "      <td>NaN</td>\n",
              "      <td>NaN</td>\n",
              "      <td>Niagara Falls</td>\n",
              "      <td>(905) 353-8382</td>\n",
              "      <td>NaN</td>\n",
              "      <td>-79.073334</td>\n",
              "      <td>43.099088</td>\n",
              "    </tr>\n",
              "    <tr>\n",
              "      <th>5</th>\n",
              "      <td>Big Bee Convenience &amp; Food Mart</td>\n",
              "      <td>81</td>\n",
              "      <td>Queenston Street</td>\n",
              "      <td>NaN</td>\n",
              "      <td>NaN</td>\n",
              "      <td>St. Catharines</td>\n",
              "      <td>(905) 984-6632</td>\n",
              "      <td>NaN</td>\n",
              "      <td>-79.235640</td>\n",
              "      <td>43.163541</td>\n",
              "    </tr>\n",
              "    <tr>\n",
              "      <th>6</th>\n",
              "      <td>Outlet Collection at Niagara- Pepper Palace</td>\n",
              "      <td>300</td>\n",
              "      <td>Taylor Rd.</td>\n",
              "      <td>NaN</td>\n",
              "      <td>729</td>\n",
              "      <td>Niagara-on-the-Lake</td>\n",
              "      <td>(905) 685-3232</td>\n",
              "      <td>NaN</td>\n",
              "      <td>-79.172008</td>\n",
              "      <td>43.158898</td>\n",
              "    </tr>\n",
              "    <tr>\n",
              "      <th>7</th>\n",
              "      <td>Celi &amp; Presti Supermarket</td>\n",
              "      <td>390</td>\n",
              "      <td>Crowland Avenue</td>\n",
              "      <td>NaN</td>\n",
              "      <td>NaN</td>\n",
              "      <td>Welland</td>\n",
              "      <td>(905) 734-7166</td>\n",
              "      <td>905-734-7067</td>\n",
              "      <td>-79.235855</td>\n",
              "      <td>42.984365</td>\n",
              "    </tr>\n",
              "    <tr>\n",
              "      <th>8</th>\n",
              "      <td>Polonez Meat Market</td>\n",
              "      <td>25</td>\n",
              "      <td>Facer Street</td>\n",
              "      <td>NaN</td>\n",
              "      <td>NaN</td>\n",
              "      <td>St. Catharines</td>\n",
              "      <td>(905) 938-0348</td>\n",
              "      <td>NaN</td>\n",
              "      <td>-79.227324</td>\n",
              "      <td>43.175326</td>\n",
              "    </tr>\n",
              "    <tr>\n",
              "      <th>9</th>\n",
              "      <td>Walmart</td>\n",
              "      <td>102</td>\n",
              "      <td>Primeway Drive</td>\n",
              "      <td>NaN</td>\n",
              "      <td>NaN</td>\n",
              "      <td>Welland</td>\n",
              "      <td>(905) 735-3500</td>\n",
              "      <td>NaN</td>\n",
              "      <td>-79.227853</td>\n",
              "      <td>43.016872</td>\n",
              "    </tr>\n",
              "  </tbody>\n",
              "</table>\n",
              "</div>"
            ],
            "text/plain": [
              "                                  FacilityName StreeetNo  StreetName_Suffix  \\\n",
              "0                                    No Frills      1135      Thompson Road   \n",
              "1                                      Sobey's       450      Garrison Road   \n",
              "2                           Shoppers Drug Mart        42  St Andrews Avenue   \n",
              "3                           Shoppers Drug Mart      5125      Montrose Road   \n",
              "4                           Busy Bee Food Mart      5203    Victoria Avenue   \n",
              "5              Big Bee Convenience & Food Mart        81   Queenston Street   \n",
              "6  Outlet Collection at Niagara- Pepper Palace       300         Taylor Rd.   \n",
              "7                    Celi & Presti Supermarket       390    Crowland Avenue   \n",
              "8                          Polonez Meat Market        25       Facer Street   \n",
              "9                                      Walmart       102     Primeway Drive   \n",
              "\n",
              "  StreetDirection UnitNumber         Municipality       Telephone  \\\n",
              "0             NaN        NaN            Fort Erie  (905) 994-8254   \n",
              "1             NaN        NaN            Fort Erie  (905) 871-0463   \n",
              "2             NaN          1              Grimsby  (905) 945-9775   \n",
              "3             NaN        NaN        Niagara Falls  (905) 357-1100   \n",
              "4             NaN        NaN        Niagara Falls  (905) 353-8382   \n",
              "5             NaN        NaN       St. Catharines  (905) 984-6632   \n",
              "6             NaN        729  Niagara-on-the-Lake  (905) 685-3232   \n",
              "7             NaN        NaN              Welland  (905) 734-7166   \n",
              "8             NaN        NaN       St. Catharines  (905) 938-0348   \n",
              "9             NaN        NaN              Welland  (905) 735-3500   \n",
              "\n",
              "              Fax  LONGITUDE   LATITUDE  \n",
              "0  (905) 994-8257 -78.943570  42.907646  \n",
              "1  (905) 871-5044 -78.930172  42.906526  \n",
              "2  (905) 945-7705 -79.567445  43.196735  \n",
              "3             NaN -79.124718  43.099482  \n",
              "4             NaN -79.073334  43.099088  \n",
              "5             NaN -79.235640  43.163541  \n",
              "6             NaN -79.172008  43.158898  \n",
              "7    905-734-7067 -79.235855  42.984365  \n",
              "8             NaN -79.227324  43.175326  \n",
              "9             NaN -79.227853  43.016872  "
            ]
          },
          "metadata": {
            "tags": []
          },
          "execution_count": 9
        }
      ]
    },
    {
      "metadata": {
        "id": "lqBrN6Jd4JSH",
        "colab_type": "code",
        "outputId": "34cece5f-1c83-4277-a722-df322c3fc0f3",
        "colab": {
          "base_uri": "https://localhost:8080/",
          "height": 309
        }
      },
      "cell_type": "code",
      "source": [
        "# you can also grab the last 5 rows with tail()\n",
        "supermarkets_dataframe.tail()"
      ],
      "execution_count": 0,
      "outputs": [
        {
          "output_type": "execute_result",
          "data": {
            "text/html": [
              "<div>\n",
              "<style scoped>\n",
              "    .dataframe tbody tr th:only-of-type {\n",
              "        vertical-align: middle;\n",
              "    }\n",
              "\n",
              "    .dataframe tbody tr th {\n",
              "        vertical-align: top;\n",
              "    }\n",
              "\n",
              "    .dataframe thead th {\n",
              "        text-align: right;\n",
              "    }\n",
              "</style>\n",
              "<table border=\"1\" class=\"dataframe\">\n",
              "  <thead>\n",
              "    <tr style=\"text-align: right;\">\n",
              "      <th></th>\n",
              "      <th>FacilityName</th>\n",
              "      <th>StreeetNo</th>\n",
              "      <th>StreetName_Suffix</th>\n",
              "      <th>StreetDirection</th>\n",
              "      <th>UnitNumber</th>\n",
              "      <th>Municipality</th>\n",
              "      <th>Telephone</th>\n",
              "      <th>Fax</th>\n",
              "      <th>LONGITUDE</th>\n",
              "      <th>LATITUDE</th>\n",
              "    </tr>\n",
              "  </thead>\n",
              "  <tbody>\n",
              "    <tr>\n",
              "      <th>93</th>\n",
              "      <td>Giant Tiger</td>\n",
              "      <td>350</td>\n",
              "      <td>Scott Street</td>\n",
              "      <td>NaN</td>\n",
              "      <td>NaN</td>\n",
              "      <td>St. Catharines</td>\n",
              "      <td>(905) 934-7823</td>\n",
              "      <td>NaN</td>\n",
              "      <td>-79.232266</td>\n",
              "      <td>43.187027</td>\n",
              "    </tr>\n",
              "    <tr>\n",
              "      <th>94</th>\n",
              "      <td>Giant Tiger</td>\n",
              "      <td>120</td>\n",
              "      <td>Welland Avenue</td>\n",
              "      <td>NaN</td>\n",
              "      <td>NaN</td>\n",
              "      <td>St. Catharines</td>\n",
              "      <td>(905) 685-1167</td>\n",
              "      <td>NaN</td>\n",
              "      <td>-79.245427</td>\n",
              "      <td>43.163467</td>\n",
              "    </tr>\n",
              "    <tr>\n",
              "      <th>95</th>\n",
              "      <td>Giant Tiger</td>\n",
              "      <td>20</td>\n",
              "      <td>Highway 20</td>\n",
              "      <td>East</td>\n",
              "      <td>NaN</td>\n",
              "      <td>Pelham</td>\n",
              "      <td>(905) 892-5735</td>\n",
              "      <td>NaN</td>\n",
              "      <td>-79.282867</td>\n",
              "      <td>43.045084</td>\n",
              "    </tr>\n",
              "    <tr>\n",
              "      <th>96</th>\n",
              "      <td>Giant Tiger</td>\n",
              "      <td>36</td>\n",
              "      <td>Main Street</td>\n",
              "      <td>West</td>\n",
              "      <td>NaN</td>\n",
              "      <td>Grimsby</td>\n",
              "      <td>(905) 309-4511</td>\n",
              "      <td>NaN</td>\n",
              "      <td>-79.561269</td>\n",
              "      <td>43.194484</td>\n",
              "    </tr>\n",
              "    <tr>\n",
              "      <th>97</th>\n",
              "      <td>Giant Tiger</td>\n",
              "      <td>249</td>\n",
              "      <td>St Catharines Street</td>\n",
              "      <td>NaN</td>\n",
              "      <td>NaN</td>\n",
              "      <td>West Lincoln</td>\n",
              "      <td>(905) 957-1855</td>\n",
              "      <td>NaN</td>\n",
              "      <td>-79.537802</td>\n",
              "      <td>43.095392</td>\n",
              "    </tr>\n",
              "  </tbody>\n",
              "</table>\n",
              "</div>"
            ],
            "text/plain": [
              "   FacilityName StreeetNo     StreetName_Suffix StreetDirection UnitNumber  \\\n",
              "93  Giant Tiger       350          Scott Street             NaN        NaN   \n",
              "94  Giant Tiger       120        Welland Avenue             NaN        NaN   \n",
              "95  Giant Tiger        20            Highway 20            East        NaN   \n",
              "96  Giant Tiger        36           Main Street            West        NaN   \n",
              "97  Giant Tiger       249  St Catharines Street             NaN        NaN   \n",
              "\n",
              "      Municipality       Telephone  Fax  LONGITUDE   LATITUDE  \n",
              "93  St. Catharines  (905) 934-7823  NaN -79.232266  43.187027  \n",
              "94  St. Catharines  (905) 685-1167  NaN -79.245427  43.163467  \n",
              "95          Pelham  (905) 892-5735  NaN -79.282867  43.045084  \n",
              "96         Grimsby  (905) 309-4511  NaN -79.561269  43.194484  \n",
              "97    West Lincoln  (905) 957-1855  NaN -79.537802  43.095392  "
            ]
          },
          "metadata": {
            "tags": []
          },
          "execution_count": 10
        }
      ]
    },
    {
      "metadata": {
        "id": "P10Tm05erOLx",
        "colab_type": "text"
      },
      "cell_type": "markdown",
      "source": [
        "### Specific Colum:"
      ]
    },
    {
      "metadata": {
        "id": "2EgVJiZziirR",
        "colab_type": "code",
        "outputId": "d750d42d-7058-476c-f6d3-f9942f3ce9f9",
        "colab": {
          "base_uri": "https://localhost:8080/",
          "height": 204
        }
      },
      "cell_type": "code",
      "source": [
        "# want to see everything in a specific column?\n",
        "supermarkets_dataframe['FacilityName'].head(10)"
      ],
      "execution_count": 0,
      "outputs": [
        {
          "output_type": "execute_result",
          "data": {
            "text/plain": [
              "0                                      No Frills\n",
              "1                                        Sobey's\n",
              "2                             Shoppers Drug Mart\n",
              "3                             Shoppers Drug Mart\n",
              "4                             Busy Bee Food Mart\n",
              "5                Big Bee Convenience & Food Mart\n",
              "6    Outlet Collection at Niagara- Pepper Palace\n",
              "7                      Celi & Presti Supermarket\n",
              "8                            Polonez Meat Market\n",
              "9                                        Walmart\n",
              "Name: FacilityName, dtype: object"
            ]
          },
          "metadata": {
            "tags": []
          },
          "execution_count": 11
        }
      ]
    },
    {
      "metadata": {
        "id": "61ytAk9ZiiuG",
        "colab_type": "code",
        "outputId": "dcf4ed7f-1ce2-4033-c9d3-006474a48c99",
        "colab": {
          "base_uri": "https://localhost:8080/",
          "height": 359
        }
      },
      "cell_type": "code",
      "source": [
        "# want to see all the business names and their phone number?\n",
        "# Pandas takes a list for indexing, so if you have mutliple indexes you want\n",
        "# put them in a list inside the index brackets []\n",
        "supermarkets_dataframe[['FacilityName', 'Telephone']].head(10)"
      ],
      "execution_count": 0,
      "outputs": [
        {
          "output_type": "execute_result",
          "data": {
            "text/html": [
              "<div>\n",
              "<style scoped>\n",
              "    .dataframe tbody tr th:only-of-type {\n",
              "        vertical-align: middle;\n",
              "    }\n",
              "\n",
              "    .dataframe tbody tr th {\n",
              "        vertical-align: top;\n",
              "    }\n",
              "\n",
              "    .dataframe thead th {\n",
              "        text-align: right;\n",
              "    }\n",
              "</style>\n",
              "<table border=\"1\" class=\"dataframe\">\n",
              "  <thead>\n",
              "    <tr style=\"text-align: right;\">\n",
              "      <th></th>\n",
              "      <th>FacilityName</th>\n",
              "      <th>Telephone</th>\n",
              "    </tr>\n",
              "  </thead>\n",
              "  <tbody>\n",
              "    <tr>\n",
              "      <th>0</th>\n",
              "      <td>No Frills</td>\n",
              "      <td>(905) 994-8254</td>\n",
              "    </tr>\n",
              "    <tr>\n",
              "      <th>1</th>\n",
              "      <td>Sobey's</td>\n",
              "      <td>(905) 871-0463</td>\n",
              "    </tr>\n",
              "    <tr>\n",
              "      <th>2</th>\n",
              "      <td>Shoppers Drug Mart</td>\n",
              "      <td>(905) 945-9775</td>\n",
              "    </tr>\n",
              "    <tr>\n",
              "      <th>3</th>\n",
              "      <td>Shoppers Drug Mart</td>\n",
              "      <td>(905) 357-1100</td>\n",
              "    </tr>\n",
              "    <tr>\n",
              "      <th>4</th>\n",
              "      <td>Busy Bee Food Mart</td>\n",
              "      <td>(905) 353-8382</td>\n",
              "    </tr>\n",
              "    <tr>\n",
              "      <th>5</th>\n",
              "      <td>Big Bee Convenience &amp; Food Mart</td>\n",
              "      <td>(905) 984-6632</td>\n",
              "    </tr>\n",
              "    <tr>\n",
              "      <th>6</th>\n",
              "      <td>Outlet Collection at Niagara- Pepper Palace</td>\n",
              "      <td>(905) 685-3232</td>\n",
              "    </tr>\n",
              "    <tr>\n",
              "      <th>7</th>\n",
              "      <td>Celi &amp; Presti Supermarket</td>\n",
              "      <td>(905) 734-7166</td>\n",
              "    </tr>\n",
              "    <tr>\n",
              "      <th>8</th>\n",
              "      <td>Polonez Meat Market</td>\n",
              "      <td>(905) 938-0348</td>\n",
              "    </tr>\n",
              "    <tr>\n",
              "      <th>9</th>\n",
              "      <td>Walmart</td>\n",
              "      <td>(905) 735-3500</td>\n",
              "    </tr>\n",
              "  </tbody>\n",
              "</table>\n",
              "</div>"
            ],
            "text/plain": [
              "                                  FacilityName       Telephone\n",
              "0                                    No Frills  (905) 994-8254\n",
              "1                                      Sobey's  (905) 871-0463\n",
              "2                           Shoppers Drug Mart  (905) 945-9775\n",
              "3                           Shoppers Drug Mart  (905) 357-1100\n",
              "4                           Busy Bee Food Mart  (905) 353-8382\n",
              "5              Big Bee Convenience & Food Mart  (905) 984-6632\n",
              "6  Outlet Collection at Niagara- Pepper Palace  (905) 685-3232\n",
              "7                    Celi & Presti Supermarket  (905) 734-7166\n",
              "8                          Polonez Meat Market  (905) 938-0348\n",
              "9                                      Walmart  (905) 735-3500"
            ]
          },
          "metadata": {
            "tags": []
          },
          "execution_count": 12
        }
      ]
    },
    {
      "metadata": {
        "id": "K_3tCbcqAmaS",
        "colab_type": "text"
      },
      "cell_type": "markdown",
      "source": [
        "### Specific Index\n",
        "#### *Disclaimer*, using dataframe.set_index() actually mainpulates the dateframe, so it is good practice just to make a new dataframe (with intiailizing a new dataframe variable name) if you aren't worried about memory.  \n",
        "#### If you are worried about memory or just want to manipulate the original database, here's the syntax:\n",
        "\n",
        "\n",
        "```\n",
        "dataframe = dataframe.set_index('Desired_Index', inplace=True)\n",
        "```\n",
        "\n",
        "\n",
        "\n",
        "*Example given below is showing a new dataframe*"
      ]
    },
    {
      "metadata": {
        "id": "88K-KsE0ApAv",
        "colab_type": "code",
        "outputId": "f45d51dd-e144-4cef-87fa-8cad9e1d1ab3",
        "colab": {
          "base_uri": "https://localhost:8080/",
          "height": 391
        }
      },
      "cell_type": "code",
      "source": [
        "# want to have something as your main index?\n",
        "# use pandas' set_index()\n",
        "phone_indexed_supermarket_dataframe = supermarkets_dataframe.set_index('Telephone')\n",
        "phone_indexed_supermarket_dataframe.head()\n",
        "\n"
      ],
      "execution_count": 0,
      "outputs": [
        {
          "output_type": "execute_result",
          "data": {
            "text/html": [
              "<div>\n",
              "<style scoped>\n",
              "    .dataframe tbody tr th:only-of-type {\n",
              "        vertical-align: middle;\n",
              "    }\n",
              "\n",
              "    .dataframe tbody tr th {\n",
              "        vertical-align: top;\n",
              "    }\n",
              "\n",
              "    .dataframe thead th {\n",
              "        text-align: right;\n",
              "    }\n",
              "</style>\n",
              "<table border=\"1\" class=\"dataframe\">\n",
              "  <thead>\n",
              "    <tr style=\"text-align: right;\">\n",
              "      <th></th>\n",
              "      <th>FacilityName</th>\n",
              "      <th>StreeetNo</th>\n",
              "      <th>StreetName_Suffix</th>\n",
              "      <th>StreetDirection</th>\n",
              "      <th>UnitNumber</th>\n",
              "      <th>Municipality</th>\n",
              "      <th>Fax</th>\n",
              "      <th>LONGITUDE</th>\n",
              "      <th>LATITUDE</th>\n",
              "    </tr>\n",
              "    <tr>\n",
              "      <th>Telephone</th>\n",
              "      <th></th>\n",
              "      <th></th>\n",
              "      <th></th>\n",
              "      <th></th>\n",
              "      <th></th>\n",
              "      <th></th>\n",
              "      <th></th>\n",
              "      <th></th>\n",
              "      <th></th>\n",
              "    </tr>\n",
              "  </thead>\n",
              "  <tbody>\n",
              "    <tr>\n",
              "      <th>(905) 994-8254</th>\n",
              "      <td>No Frills</td>\n",
              "      <td>1135</td>\n",
              "      <td>Thompson Road</td>\n",
              "      <td>NaN</td>\n",
              "      <td>NaN</td>\n",
              "      <td>Fort Erie</td>\n",
              "      <td>(905) 994-8257</td>\n",
              "      <td>-78.943570</td>\n",
              "      <td>42.907646</td>\n",
              "    </tr>\n",
              "    <tr>\n",
              "      <th>(905) 871-0463</th>\n",
              "      <td>Sobey's</td>\n",
              "      <td>450</td>\n",
              "      <td>Garrison Road</td>\n",
              "      <td>NaN</td>\n",
              "      <td>NaN</td>\n",
              "      <td>Fort Erie</td>\n",
              "      <td>(905) 871-5044</td>\n",
              "      <td>-78.930172</td>\n",
              "      <td>42.906526</td>\n",
              "    </tr>\n",
              "    <tr>\n",
              "      <th>(905) 945-9775</th>\n",
              "      <td>Shoppers Drug Mart</td>\n",
              "      <td>42</td>\n",
              "      <td>St Andrews Avenue</td>\n",
              "      <td>NaN</td>\n",
              "      <td>1</td>\n",
              "      <td>Grimsby</td>\n",
              "      <td>(905) 945-7705</td>\n",
              "      <td>-79.567445</td>\n",
              "      <td>43.196735</td>\n",
              "    </tr>\n",
              "    <tr>\n",
              "      <th>(905) 357-1100</th>\n",
              "      <td>Shoppers Drug Mart</td>\n",
              "      <td>5125</td>\n",
              "      <td>Montrose Road</td>\n",
              "      <td>NaN</td>\n",
              "      <td>NaN</td>\n",
              "      <td>Niagara Falls</td>\n",
              "      <td>NaN</td>\n",
              "      <td>-79.124718</td>\n",
              "      <td>43.099482</td>\n",
              "    </tr>\n",
              "    <tr>\n",
              "      <th>(905) 353-8382</th>\n",
              "      <td>Busy Bee Food Mart</td>\n",
              "      <td>5203</td>\n",
              "      <td>Victoria Avenue</td>\n",
              "      <td>NaN</td>\n",
              "      <td>NaN</td>\n",
              "      <td>Niagara Falls</td>\n",
              "      <td>NaN</td>\n",
              "      <td>-79.073334</td>\n",
              "      <td>43.099088</td>\n",
              "    </tr>\n",
              "  </tbody>\n",
              "</table>\n",
              "</div>"
            ],
            "text/plain": [
              "                      FacilityName StreeetNo  StreetName_Suffix  \\\n",
              "Telephone                                                         \n",
              "(905) 994-8254           No Frills      1135      Thompson Road   \n",
              "(905) 871-0463             Sobey's       450      Garrison Road   \n",
              "(905) 945-9775  Shoppers Drug Mart        42  St Andrews Avenue   \n",
              "(905) 357-1100  Shoppers Drug Mart      5125      Montrose Road   \n",
              "(905) 353-8382  Busy Bee Food Mart      5203    Victoria Avenue   \n",
              "\n",
              "               StreetDirection UnitNumber   Municipality             Fax  \\\n",
              "Telephone                                                                  \n",
              "(905) 994-8254             NaN        NaN      Fort Erie  (905) 994-8257   \n",
              "(905) 871-0463             NaN        NaN      Fort Erie  (905) 871-5044   \n",
              "(905) 945-9775             NaN          1        Grimsby  (905) 945-7705   \n",
              "(905) 357-1100             NaN        NaN  Niagara Falls             NaN   \n",
              "(905) 353-8382             NaN        NaN  Niagara Falls             NaN   \n",
              "\n",
              "                LONGITUDE   LATITUDE  \n",
              "Telephone                             \n",
              "(905) 994-8254 -78.943570  42.907646  \n",
              "(905) 871-0463 -78.930172  42.906526  \n",
              "(905) 945-9775 -79.567445  43.196735  \n",
              "(905) 357-1100 -79.124718  43.099482  \n",
              "(905) 353-8382 -79.073334  43.099088  "
            ]
          },
          "metadata": {
            "tags": []
          },
          "execution_count": 13
        }
      ]
    },
    {
      "metadata": {
        "id": "e4OnTKefiKvo",
        "colab_type": "code",
        "outputId": "2720bf82-4d4b-4733-e43d-818519e21ce2",
        "colab": {
          "base_uri": "https://localhost:8080/",
          "height": 391
        }
      },
      "cell_type": "code",
      "source": [
        "# what if we'd rather just have the original without having\n",
        "# the zero indexed index as the rows?\n",
        "# you can do that right when you're reading the dataframe \n",
        "index_column_zero = pd.read_csv(\"supermarkets.csv\", index_col=0)\n",
        "index_column_zero.head()"
      ],
      "execution_count": 0,
      "outputs": [
        {
          "output_type": "execute_result",
          "data": {
            "text/html": [
              "<div>\n",
              "<style scoped>\n",
              "    .dataframe tbody tr th:only-of-type {\n",
              "        vertical-align: middle;\n",
              "    }\n",
              "\n",
              "    .dataframe tbody tr th {\n",
              "        vertical-align: top;\n",
              "    }\n",
              "\n",
              "    .dataframe thead th {\n",
              "        text-align: right;\n",
              "    }\n",
              "</style>\n",
              "<table border=\"1\" class=\"dataframe\">\n",
              "  <thead>\n",
              "    <tr style=\"text-align: right;\">\n",
              "      <th></th>\n",
              "      <th>StreeetNo</th>\n",
              "      <th>StreetName_Suffix</th>\n",
              "      <th>StreetDirection</th>\n",
              "      <th>UnitNumber</th>\n",
              "      <th>Municipality</th>\n",
              "      <th>Telephone</th>\n",
              "      <th>Fax</th>\n",
              "      <th>LONGITUDE</th>\n",
              "      <th>LATITUDE</th>\n",
              "    </tr>\n",
              "    <tr>\n",
              "      <th>FacilityName</th>\n",
              "      <th></th>\n",
              "      <th></th>\n",
              "      <th></th>\n",
              "      <th></th>\n",
              "      <th></th>\n",
              "      <th></th>\n",
              "      <th></th>\n",
              "      <th></th>\n",
              "      <th></th>\n",
              "    </tr>\n",
              "  </thead>\n",
              "  <tbody>\n",
              "    <tr>\n",
              "      <th>No Frills</th>\n",
              "      <td>1135</td>\n",
              "      <td>Thompson Road</td>\n",
              "      <td>NaN</td>\n",
              "      <td>NaN</td>\n",
              "      <td>Fort Erie</td>\n",
              "      <td>(905) 994-8254</td>\n",
              "      <td>(905) 994-8257</td>\n",
              "      <td>-78.943570</td>\n",
              "      <td>42.907646</td>\n",
              "    </tr>\n",
              "    <tr>\n",
              "      <th>Sobey's</th>\n",
              "      <td>450</td>\n",
              "      <td>Garrison Road</td>\n",
              "      <td>NaN</td>\n",
              "      <td>NaN</td>\n",
              "      <td>Fort Erie</td>\n",
              "      <td>(905) 871-0463</td>\n",
              "      <td>(905) 871-5044</td>\n",
              "      <td>-78.930172</td>\n",
              "      <td>42.906526</td>\n",
              "    </tr>\n",
              "    <tr>\n",
              "      <th>Shoppers Drug Mart</th>\n",
              "      <td>42</td>\n",
              "      <td>St Andrews Avenue</td>\n",
              "      <td>NaN</td>\n",
              "      <td>1</td>\n",
              "      <td>Grimsby</td>\n",
              "      <td>(905) 945-9775</td>\n",
              "      <td>(905) 945-7705</td>\n",
              "      <td>-79.567445</td>\n",
              "      <td>43.196735</td>\n",
              "    </tr>\n",
              "    <tr>\n",
              "      <th>Shoppers Drug Mart</th>\n",
              "      <td>5125</td>\n",
              "      <td>Montrose Road</td>\n",
              "      <td>NaN</td>\n",
              "      <td>NaN</td>\n",
              "      <td>Niagara Falls</td>\n",
              "      <td>(905) 357-1100</td>\n",
              "      <td>NaN</td>\n",
              "      <td>-79.124718</td>\n",
              "      <td>43.099482</td>\n",
              "    </tr>\n",
              "    <tr>\n",
              "      <th>Busy Bee Food Mart</th>\n",
              "      <td>5203</td>\n",
              "      <td>Victoria Avenue</td>\n",
              "      <td>NaN</td>\n",
              "      <td>NaN</td>\n",
              "      <td>Niagara Falls</td>\n",
              "      <td>(905) 353-8382</td>\n",
              "      <td>NaN</td>\n",
              "      <td>-79.073334</td>\n",
              "      <td>43.099088</td>\n",
              "    </tr>\n",
              "  </tbody>\n",
              "</table>\n",
              "</div>"
            ],
            "text/plain": [
              "                   StreeetNo  StreetName_Suffix StreetDirection UnitNumber  \\\n",
              "FacilityName                                                                 \n",
              "No Frills               1135      Thompson Road             NaN        NaN   \n",
              "Sobey's                  450      Garrison Road             NaN        NaN   \n",
              "Shoppers Drug Mart        42  St Andrews Avenue             NaN          1   \n",
              "Shoppers Drug Mart      5125      Montrose Road             NaN        NaN   \n",
              "Busy Bee Food Mart      5203    Victoria Avenue             NaN        NaN   \n",
              "\n",
              "                     Municipality       Telephone             Fax  LONGITUDE  \\\n",
              "FacilityName                                                                   \n",
              "No Frills               Fort Erie  (905) 994-8254  (905) 994-8257 -78.943570   \n",
              "Sobey's                 Fort Erie  (905) 871-0463  (905) 871-5044 -78.930172   \n",
              "Shoppers Drug Mart        Grimsby  (905) 945-9775  (905) 945-7705 -79.567445   \n",
              "Shoppers Drug Mart  Niagara Falls  (905) 357-1100             NaN -79.124718   \n",
              "Busy Bee Food Mart  Niagara Falls  (905) 353-8382             NaN -79.073334   \n",
              "\n",
              "                     LATITUDE  \n",
              "FacilityName                   \n",
              "No Frills           42.907646  \n",
              "Sobey's             42.906526  \n",
              "Shoppers Drug Mart  43.196735  \n",
              "Shoppers Drug Mart  43.099482  \n",
              "Busy Bee Food Mart  43.099088  "
            ]
          },
          "metadata": {
            "tags": []
          },
          "execution_count": 14
        }
      ]
    },
    {
      "metadata": {
        "id": "Dr6dObRkrU31",
        "colab_type": "text"
      },
      "cell_type": "markdown",
      "source": [
        "## Some Basic functions"
      ]
    },
    {
      "metadata": {
        "id": "8kii-RC828ZK",
        "colab_type": "code",
        "colab": {}
      },
      "cell_type": "code",
      "source": [
        "# let's grab some stock data so we can play with some math functions\n",
        "# we'll need some more imports for this\n",
        "import datetime as dt\n",
        "import pandas_datareader.data as web"
      ],
      "execution_count": 0,
      "outputs": []
    },
    {
      "metadata": {
        "id": "9Vw67Ewv3IUB",
        "colab_type": "code",
        "colab": {}
      },
      "cell_type": "code",
      "source": [
        "# setting starting and ending time for our stock data\n",
        "start = dt.datetime(1970, 1, 1)\n",
        "end = dt.datetime(1999, 12, 31)\n",
        "\n",
        "# building a temporary dataframe with extended library pandas_datareader\n",
        "# set stock ticker, location you want to grab from and start and end time frames\n",
        "stock_dataframe = web.DataReader('IBM', 'yahoo', start, end)"
      ],
      "execution_count": 0,
      "outputs": []
    },
    {
      "metadata": {
        "id": "Wyc_I3R63IW-",
        "colab_type": "code",
        "outputId": "8acb9c27-8733-4bdf-be46-755725cac816",
        "colab": {
          "base_uri": "https://localhost:8080/",
          "height": 357
        }
      },
      "cell_type": "code",
      "source": [
        "stock_dataframe.head()"
      ],
      "execution_count": 0,
      "outputs": [
        {
          "output_type": "execute_result",
          "data": {
            "text/html": [
              "<div>\n",
              "<style scoped>\n",
              "    .dataframe tbody tr th:only-of-type {\n",
              "        vertical-align: middle;\n",
              "    }\n",
              "\n",
              "    .dataframe tbody tr th {\n",
              "        vertical-align: top;\n",
              "    }\n",
              "\n",
              "    .dataframe thead th {\n",
              "        text-align: right;\n",
              "    }\n",
              "</style>\n",
              "<table border=\"1\" class=\"dataframe\">\n",
              "  <thead>\n",
              "    <tr style=\"text-align: right;\">\n",
              "      <th></th>\n",
              "      <th>High</th>\n",
              "      <th>Low</th>\n",
              "      <th>Open</th>\n",
              "      <th>Close</th>\n",
              "      <th>Volume</th>\n",
              "      <th>Adj Close</th>\n",
              "    </tr>\n",
              "    <tr>\n",
              "      <th>Date</th>\n",
              "      <th></th>\n",
              "      <th></th>\n",
              "      <th></th>\n",
              "      <th></th>\n",
              "      <th></th>\n",
              "      <th></th>\n",
              "    </tr>\n",
              "  </thead>\n",
              "  <tbody>\n",
              "    <tr>\n",
              "      <th>1970-01-02</th>\n",
              "      <td>18.287500</td>\n",
              "      <td>18.200001</td>\n",
              "      <td>18.225000</td>\n",
              "      <td>18.237499</td>\n",
              "      <td>315200.0</td>\n",
              "      <td>1.586048</td>\n",
              "    </tr>\n",
              "    <tr>\n",
              "      <th>1970-01-05</th>\n",
              "      <td>18.412500</td>\n",
              "      <td>18.299999</td>\n",
              "      <td>18.299999</td>\n",
              "      <td>18.412500</td>\n",
              "      <td>424000.0</td>\n",
              "      <td>1.601267</td>\n",
              "    </tr>\n",
              "    <tr>\n",
              "      <th>1970-01-06</th>\n",
              "      <td>18.450001</td>\n",
              "      <td>18.312500</td>\n",
              "      <td>18.412500</td>\n",
              "      <td>18.424999</td>\n",
              "      <td>488000.0</td>\n",
              "      <td>1.602353</td>\n",
              "    </tr>\n",
              "    <tr>\n",
              "      <th>1970-01-07</th>\n",
              "      <td>18.437500</td>\n",
              "      <td>18.312500</td>\n",
              "      <td>18.424999</td>\n",
              "      <td>18.437500</td>\n",
              "      <td>457600.0</td>\n",
              "      <td>1.603441</td>\n",
              "    </tr>\n",
              "    <tr>\n",
              "      <th>1970-01-08</th>\n",
              "      <td>18.475000</td>\n",
              "      <td>18.375000</td>\n",
              "      <td>18.437500</td>\n",
              "      <td>18.475000</td>\n",
              "      <td>707200.0</td>\n",
              "      <td>1.606701</td>\n",
              "    </tr>\n",
              "  </tbody>\n",
              "</table>\n",
              "</div>"
            ],
            "text/plain": [
              "                 High        Low       Open      Close    Volume  Adj Close\n",
              "Date                                                                       \n",
              "1970-01-02  18.287500  18.200001  18.225000  18.237499  315200.0   1.586048\n",
              "1970-01-05  18.412500  18.299999  18.299999  18.412500  424000.0   1.601267\n",
              "1970-01-06  18.450001  18.312500  18.412500  18.424999  488000.0   1.602353\n",
              "1970-01-07  18.437500  18.312500  18.424999  18.437500  457600.0   1.603441\n",
              "1970-01-08  18.475000  18.375000  18.437500  18.475000  707200.0   1.606701"
            ]
          },
          "metadata": {
            "tags": []
          },
          "execution_count": 17
        }
      ]
    },
    {
      "metadata": {
        "id": "CxYIKmSF3_K2",
        "colab_type": "code",
        "outputId": "33004816-679e-47bf-d60f-32541887e693",
        "colab": {
          "base_uri": "https://localhost:8080/",
          "height": 357
        }
      },
      "cell_type": "code",
      "source": [
        "stock_dataframe.tail()"
      ],
      "execution_count": 0,
      "outputs": [
        {
          "output_type": "execute_result",
          "data": {
            "text/html": [
              "<div>\n",
              "<style scoped>\n",
              "    .dataframe tbody tr th:only-of-type {\n",
              "        vertical-align: middle;\n",
              "    }\n",
              "\n",
              "    .dataframe tbody tr th {\n",
              "        vertical-align: top;\n",
              "    }\n",
              "\n",
              "    .dataframe thead th {\n",
              "        text-align: right;\n",
              "    }\n",
              "</style>\n",
              "<table border=\"1\" class=\"dataframe\">\n",
              "  <thead>\n",
              "    <tr style=\"text-align: right;\">\n",
              "      <th></th>\n",
              "      <th>High</th>\n",
              "      <th>Low</th>\n",
              "      <th>Open</th>\n",
              "      <th>Close</th>\n",
              "      <th>Volume</th>\n",
              "      <th>Adj Close</th>\n",
              "    </tr>\n",
              "    <tr>\n",
              "      <th>Date</th>\n",
              "      <th></th>\n",
              "      <th></th>\n",
              "      <th></th>\n",
              "      <th></th>\n",
              "      <th></th>\n",
              "      <th></th>\n",
              "    </tr>\n",
              "  </thead>\n",
              "  <tbody>\n",
              "    <tr>\n",
              "      <th>1999-12-27</th>\n",
              "      <td>110.00</td>\n",
              "      <td>108.1250</td>\n",
              "      <td>109.6875</td>\n",
              "      <td>109.7500</td>\n",
              "      <td>3740700.0</td>\n",
              "      <td>74.889168</td>\n",
              "    </tr>\n",
              "    <tr>\n",
              "      <th>1999-12-28</th>\n",
              "      <td>110.75</td>\n",
              "      <td>109.0625</td>\n",
              "      <td>109.5625</td>\n",
              "      <td>109.8125</td>\n",
              "      <td>4083100.0</td>\n",
              "      <td>74.931770</td>\n",
              "    </tr>\n",
              "    <tr>\n",
              "      <th>1999-12-29</th>\n",
              "      <td>110.50</td>\n",
              "      <td>108.7500</td>\n",
              "      <td>110.4375</td>\n",
              "      <td>109.0000</td>\n",
              "      <td>2683300.0</td>\n",
              "      <td>74.377373</td>\n",
              "    </tr>\n",
              "    <tr>\n",
              "      <th>1999-12-30</th>\n",
              "      <td>110.50</td>\n",
              "      <td>108.5625</td>\n",
              "      <td>109.6875</td>\n",
              "      <td>108.7500</td>\n",
              "      <td>3435100.0</td>\n",
              "      <td>74.206757</td>\n",
              "    </tr>\n",
              "    <tr>\n",
              "      <th>1999-12-31</th>\n",
              "      <td>109.50</td>\n",
              "      <td>106.6250</td>\n",
              "      <td>109.1875</td>\n",
              "      <td>107.8750</td>\n",
              "      <td>2870300.0</td>\n",
              "      <td>73.609703</td>\n",
              "    </tr>\n",
              "  </tbody>\n",
              "</table>\n",
              "</div>"
            ],
            "text/plain": [
              "              High       Low      Open     Close     Volume  Adj Close\n",
              "Date                                                                  \n",
              "1999-12-27  110.00  108.1250  109.6875  109.7500  3740700.0  74.889168\n",
              "1999-12-28  110.75  109.0625  109.5625  109.8125  4083100.0  74.931770\n",
              "1999-12-29  110.50  108.7500  110.4375  109.0000  2683300.0  74.377373\n",
              "1999-12-30  110.50  108.5625  109.6875  108.7500  3435100.0  74.206757\n",
              "1999-12-31  109.50  106.6250  109.1875  107.8750  2870300.0  73.609703"
            ]
          },
          "metadata": {
            "tags": []
          },
          "execution_count": 18
        }
      ]
    },
    {
      "metadata": {
        "id": "Dm-ux6tUlQfj",
        "colab_type": "code",
        "outputId": "2204e427-6c77-41f1-aec4-3ccb57e206a2",
        "colab": {
          "base_uri": "https://localhost:8080/",
          "height": 224
        }
      },
      "cell_type": "code",
      "source": [
        "# Max, Min, and Sum also work on Pandas dataframes\n",
        "print(\"Minimum High for 30 years:\")\n",
        "print(stock_dataframe['High'].min())\n",
        "print()\n",
        "print(\"Max high for 30 years:\")\n",
        "print(stock_dataframe['High'].max())\n",
        "print()\n",
        "print('Pointless, just showing for theory')\n",
        "print(\"Addition of all highs and all lows:\")\n",
        "print(stock_dataframe[['High', 'Low']].sum())\n"
      ],
      "execution_count": 0,
      "outputs": [
        {
          "output_type": "stream",
          "text": [
            "Minimum High for 30 years:\n",
            "9.828125\n",
            "\n",
            "Max high for 30 years:\n",
            "139.1875\n",
            "\n",
            "Pointless, just showing for theory\n",
            "Addition of all highs and all lows:\n",
            "High    204091.617952\n",
            "Low     199941.779654\n",
            "dtype: float64\n"
          ],
          "name": "stdout"
        }
      ]
    },
    {
      "metadata": {
        "id": "m-fQtHjlpQa5",
        "colab_type": "code",
        "outputId": "dcfcecd5-d51c-40f1-812d-685542d53c24",
        "colab": {
          "base_uri": "https://localhost:8080/",
          "height": 156
        }
      },
      "cell_type": "code",
      "source": [
        "# you can also use pandas to mutliply or scale columns\n",
        "scaled_high_increase_25_percent = (stock_dataframe['High'] * 1.25)\n",
        "scaled_high_increase_25_percent.head()"
      ],
      "execution_count": 0,
      "outputs": [
        {
          "output_type": "execute_result",
          "data": {
            "text/plain": [
              "Date\n",
              "1970-01-02    22.859375\n",
              "1970-01-05    23.015625\n",
              "1970-01-06    23.062501\n",
              "1970-01-07    23.046875\n",
              "1970-01-08    23.093750\n",
              "Name: High, dtype: float64"
            ]
          },
          "metadata": {
            "tags": []
          },
          "execution_count": 20
        }
      ]
    },
    {
      "metadata": {
        "id": "6e9lYklK2CLG",
        "colab_type": "code",
        "outputId": "13ad0fff-6780-45fa-b3b0-af5a21dc9027",
        "colab": {
          "base_uri": "https://localhost:8080/",
          "height": 317
        }
      },
      "cell_type": "code",
      "source": [
        "# want some statically oriented data quickly?\n",
        "stock_dataframe.describe()"
      ],
      "execution_count": 0,
      "outputs": [
        {
          "output_type": "execute_result",
          "data": {
            "text/html": [
              "<div>\n",
              "<style scoped>\n",
              "    .dataframe tbody tr th:only-of-type {\n",
              "        vertical-align: middle;\n",
              "    }\n",
              "\n",
              "    .dataframe tbody tr th {\n",
              "        vertical-align: top;\n",
              "    }\n",
              "\n",
              "    .dataframe thead th {\n",
              "        text-align: right;\n",
              "    }\n",
              "</style>\n",
              "<table border=\"1\" class=\"dataframe\">\n",
              "  <thead>\n",
              "    <tr style=\"text-align: right;\">\n",
              "      <th></th>\n",
              "      <th>High</th>\n",
              "      <th>Low</th>\n",
              "      <th>Open</th>\n",
              "      <th>Close</th>\n",
              "      <th>Volume</th>\n",
              "      <th>Adj Close</th>\n",
              "    </tr>\n",
              "  </thead>\n",
              "  <tbody>\n",
              "    <tr>\n",
              "      <th>count</th>\n",
              "      <td>7582.000000</td>\n",
              "      <td>7582.000000</td>\n",
              "      <td>7582.000000</td>\n",
              "      <td>7582.000000</td>\n",
              "      <td>7.582000e+03</td>\n",
              "      <td>7582.000000</td>\n",
              "    </tr>\n",
              "    <tr>\n",
              "      <th>mean</th>\n",
              "      <td>26.917913</td>\n",
              "      <td>26.370586</td>\n",
              "      <td>26.646797</td>\n",
              "      <td>26.641231</td>\n",
              "      <td>5.126465e+06</td>\n",
              "      <td>9.307288</td>\n",
              "    </tr>\n",
              "    <tr>\n",
              "      <th>std</th>\n",
              "      <td>19.235633</td>\n",
              "      <td>18.660650</td>\n",
              "      <td>18.966123</td>\n",
              "      <td>18.947208</td>\n",
              "      <td>5.065363e+06</td>\n",
              "      <td>15.028629</td>\n",
              "    </tr>\n",
              "    <tr>\n",
              "      <th>min</th>\n",
              "      <td>9.828125</td>\n",
              "      <td>9.406250</td>\n",
              "      <td>9.500000</td>\n",
              "      <td>9.500000</td>\n",
              "      <td>0.000000e+00</td>\n",
              "      <td>0.891098</td>\n",
              "    </tr>\n",
              "    <tr>\n",
              "      <th>25%</th>\n",
              "      <td>16.156250</td>\n",
              "      <td>15.906250</td>\n",
              "      <td>16.031250</td>\n",
              "      <td>16.031250</td>\n",
              "      <td>1.363200e+06</td>\n",
              "      <td>1.744480</td>\n",
              "    </tr>\n",
              "    <tr>\n",
              "      <th>50%</th>\n",
              "      <td>20.906250</td>\n",
              "      <td>20.562500</td>\n",
              "      <td>20.734375</td>\n",
              "      <td>20.750000</td>\n",
              "      <td>3.978200e+06</td>\n",
              "      <td>4.503982</td>\n",
              "    </tr>\n",
              "    <tr>\n",
              "      <th>75%</th>\n",
              "      <td>30.406250</td>\n",
              "      <td>29.875000</td>\n",
              "      <td>30.125000</td>\n",
              "      <td>30.125000</td>\n",
              "      <td>7.217600e+06</td>\n",
              "      <td>8.612196</td>\n",
              "    </tr>\n",
              "    <tr>\n",
              "      <th>max</th>\n",
              "      <td>139.187500</td>\n",
              "      <td>136.187500</td>\n",
              "      <td>138.312500</td>\n",
              "      <td>137.875000</td>\n",
              "      <td>6.944470e+07</td>\n",
              "      <td>93.863945</td>\n",
              "    </tr>\n",
              "  </tbody>\n",
              "</table>\n",
              "</div>"
            ],
            "text/plain": [
              "              High          Low         Open        Close        Volume  \\\n",
              "count  7582.000000  7582.000000  7582.000000  7582.000000  7.582000e+03   \n",
              "mean     26.917913    26.370586    26.646797    26.641231  5.126465e+06   \n",
              "std      19.235633    18.660650    18.966123    18.947208  5.065363e+06   \n",
              "min       9.828125     9.406250     9.500000     9.500000  0.000000e+00   \n",
              "25%      16.156250    15.906250    16.031250    16.031250  1.363200e+06   \n",
              "50%      20.906250    20.562500    20.734375    20.750000  3.978200e+06   \n",
              "75%      30.406250    29.875000    30.125000    30.125000  7.217600e+06   \n",
              "max     139.187500   136.187500   138.312500   137.875000  6.944470e+07   \n",
              "\n",
              "         Adj Close  \n",
              "count  7582.000000  \n",
              "mean      9.307288  \n",
              "std      15.028629  \n",
              "min       0.891098  \n",
              "25%       1.744480  \n",
              "50%       4.503982  \n",
              "75%       8.612196  \n",
              "max      93.863945  "
            ]
          },
          "metadata": {
            "tags": []
          },
          "execution_count": 21
        }
      ]
    },
    {
      "metadata": {
        "id": "iH4_xW0E7s7Z",
        "colab_type": "code",
        "outputId": "82527a2e-e008-4f9b-8406-5f31c2a3917e",
        "colab": {
          "base_uri": "https://localhost:8080/",
          "height": 348
        }
      },
      "cell_type": "code",
      "source": [
        "# Need some specific percetiles?\n",
        "  # describe is somewhat customizeable too\n",
        "  # DataFrame.describe(percentiles=None, include=None, exclude=None)\n",
        "  # include/exclude takes list of typese\n",
        "stock_dataframe.describe(percentiles=[.15, .23, .87])"
      ],
      "execution_count": 0,
      "outputs": [
        {
          "output_type": "execute_result",
          "data": {
            "text/html": [
              "<div>\n",
              "<style scoped>\n",
              "    .dataframe tbody tr th:only-of-type {\n",
              "        vertical-align: middle;\n",
              "    }\n",
              "\n",
              "    .dataframe tbody tr th {\n",
              "        vertical-align: top;\n",
              "    }\n",
              "\n",
              "    .dataframe thead th {\n",
              "        text-align: right;\n",
              "    }\n",
              "</style>\n",
              "<table border=\"1\" class=\"dataframe\">\n",
              "  <thead>\n",
              "    <tr style=\"text-align: right;\">\n",
              "      <th></th>\n",
              "      <th>High</th>\n",
              "      <th>Low</th>\n",
              "      <th>Open</th>\n",
              "      <th>Close</th>\n",
              "      <th>Volume</th>\n",
              "      <th>Adj Close</th>\n",
              "    </tr>\n",
              "  </thead>\n",
              "  <tbody>\n",
              "    <tr>\n",
              "      <th>count</th>\n",
              "      <td>7582.000000</td>\n",
              "      <td>7582.000000</td>\n",
              "      <td>7582.000000</td>\n",
              "      <td>7582.000000</td>\n",
              "      <td>7.582000e+03</td>\n",
              "      <td>7582.000000</td>\n",
              "    </tr>\n",
              "    <tr>\n",
              "      <th>mean</th>\n",
              "      <td>26.917913</td>\n",
              "      <td>26.370586</td>\n",
              "      <td>26.646797</td>\n",
              "      <td>26.641231</td>\n",
              "      <td>5.126465e+06</td>\n",
              "      <td>9.307288</td>\n",
              "    </tr>\n",
              "    <tr>\n",
              "      <th>std</th>\n",
              "      <td>19.235633</td>\n",
              "      <td>18.660650</td>\n",
              "      <td>18.966123</td>\n",
              "      <td>18.947208</td>\n",
              "      <td>5.065363e+06</td>\n",
              "      <td>15.028629</td>\n",
              "    </tr>\n",
              "    <tr>\n",
              "      <th>min</th>\n",
              "      <td>9.828125</td>\n",
              "      <td>9.406250</td>\n",
              "      <td>9.500000</td>\n",
              "      <td>9.500000</td>\n",
              "      <td>0.000000e+00</td>\n",
              "      <td>0.891098</td>\n",
              "    </tr>\n",
              "    <tr>\n",
              "      <th>15%</th>\n",
              "      <td>14.687500</td>\n",
              "      <td>14.406250</td>\n",
              "      <td>14.531250</td>\n",
              "      <td>14.539375</td>\n",
              "      <td>8.960000e+05</td>\n",
              "      <td>1.579655</td>\n",
              "    </tr>\n",
              "    <tr>\n",
              "      <th>23%</th>\n",
              "      <td>15.900000</td>\n",
              "      <td>15.656250</td>\n",
              "      <td>15.781250</td>\n",
              "      <td>15.781250</td>\n",
              "      <td>1.246400e+06</td>\n",
              "      <td>1.724970</td>\n",
              "    </tr>\n",
              "    <tr>\n",
              "      <th>50%</th>\n",
              "      <td>20.906250</td>\n",
              "      <td>20.562500</td>\n",
              "      <td>20.734375</td>\n",
              "      <td>20.750000</td>\n",
              "      <td>3.978200e+06</td>\n",
              "      <td>4.503982</td>\n",
              "    </tr>\n",
              "    <tr>\n",
              "      <th>87%</th>\n",
              "      <td>37.389688</td>\n",
              "      <td>36.625000</td>\n",
              "      <td>37.014688</td>\n",
              "      <td>37.014688</td>\n",
              "      <td>9.748912e+06</td>\n",
              "      <td>16.316014</td>\n",
              "    </tr>\n",
              "    <tr>\n",
              "      <th>max</th>\n",
              "      <td>139.187500</td>\n",
              "      <td>136.187500</td>\n",
              "      <td>138.312500</td>\n",
              "      <td>137.875000</td>\n",
              "      <td>6.944470e+07</td>\n",
              "      <td>93.863945</td>\n",
              "    </tr>\n",
              "  </tbody>\n",
              "</table>\n",
              "</div>"
            ],
            "text/plain": [
              "              High          Low         Open        Close        Volume  \\\n",
              "count  7582.000000  7582.000000  7582.000000  7582.000000  7.582000e+03   \n",
              "mean     26.917913    26.370586    26.646797    26.641231  5.126465e+06   \n",
              "std      19.235633    18.660650    18.966123    18.947208  5.065363e+06   \n",
              "min       9.828125     9.406250     9.500000     9.500000  0.000000e+00   \n",
              "15%      14.687500    14.406250    14.531250    14.539375  8.960000e+05   \n",
              "23%      15.900000    15.656250    15.781250    15.781250  1.246400e+06   \n",
              "50%      20.906250    20.562500    20.734375    20.750000  3.978200e+06   \n",
              "87%      37.389688    36.625000    37.014688    37.014688  9.748912e+06   \n",
              "max     139.187500   136.187500   138.312500   137.875000  6.944470e+07   \n",
              "\n",
              "         Adj Close  \n",
              "count  7582.000000  \n",
              "mean      9.307288  \n",
              "std      15.028629  \n",
              "min       0.891098  \n",
              "15%       1.579655  \n",
              "23%       1.724970  \n",
              "50%       4.503982  \n",
              "87%      16.316014  \n",
              "max      93.863945  "
            ]
          },
          "metadata": {
            "tags": []
          },
          "execution_count": 22
        }
      ]
    },
    {
      "metadata": {
        "id": "U3rW9_Uw-XYy",
        "colab_type": "text"
      },
      "cell_type": "markdown",
      "source": [
        "## Going from some dictionary data and build a data frame with pandas"
      ]
    },
    {
      "metadata": {
        "id": "0Ee2lyPc-V8s",
        "colab_type": "code",
        "colab": {}
      },
      "cell_type": "code",
      "source": [
        "running_history_dictionary = {'Day' : [1,2,3,4,5,6,7],\n",
        "                   'Miles': [9.5, 3.5, 3.4, 2.7, 5.5, 0, 8],\n",
        "                   'Duration': [\"1:55:00\", \"0:25:00\",\"0:27:00\",\"0:23:00\",\"0:47:00\",\"0:00:00\",\"1:25:00\"]\n",
        "                   }\n",
        "\n",
        "running_history_dataframe = pd.DataFrame(running_history_dictionary)"
      ],
      "execution_count": 0,
      "outputs": []
    },
    {
      "metadata": {
        "id": "JpOtS7G7AGy9",
        "colab_type": "code",
        "outputId": "7206e73b-de7f-4f72-b5dd-e34bcd44e8c0",
        "colab": {
          "base_uri": "https://localhost:8080/",
          "height": 224
        }
      },
      "cell_type": "code",
      "source": [
        "# just making sure the df works\n",
        "running_history_dataframe.head()"
      ],
      "execution_count": 0,
      "outputs": [
        {
          "output_type": "execute_result",
          "data": {
            "text/html": [
              "<div>\n",
              "<style scoped>\n",
              "    .dataframe tbody tr th:only-of-type {\n",
              "        vertical-align: middle;\n",
              "    }\n",
              "\n",
              "    .dataframe tbody tr th {\n",
              "        vertical-align: top;\n",
              "    }\n",
              "\n",
              "    .dataframe thead th {\n",
              "        text-align: right;\n",
              "    }\n",
              "</style>\n",
              "<table border=\"1\" class=\"dataframe\">\n",
              "  <thead>\n",
              "    <tr style=\"text-align: right;\">\n",
              "      <th></th>\n",
              "      <th>Day</th>\n",
              "      <th>Duration</th>\n",
              "      <th>Miles</th>\n",
              "    </tr>\n",
              "  </thead>\n",
              "  <tbody>\n",
              "    <tr>\n",
              "      <th>0</th>\n",
              "      <td>1</td>\n",
              "      <td>1:55:00</td>\n",
              "      <td>9.5</td>\n",
              "    </tr>\n",
              "    <tr>\n",
              "      <th>1</th>\n",
              "      <td>2</td>\n",
              "      <td>0:25:00</td>\n",
              "      <td>3.5</td>\n",
              "    </tr>\n",
              "    <tr>\n",
              "      <th>2</th>\n",
              "      <td>3</td>\n",
              "      <td>0:27:00</td>\n",
              "      <td>3.4</td>\n",
              "    </tr>\n",
              "    <tr>\n",
              "      <th>3</th>\n",
              "      <td>4</td>\n",
              "      <td>0:23:00</td>\n",
              "      <td>2.7</td>\n",
              "    </tr>\n",
              "    <tr>\n",
              "      <th>4</th>\n",
              "      <td>5</td>\n",
              "      <td>0:47:00</td>\n",
              "      <td>5.5</td>\n",
              "    </tr>\n",
              "  </tbody>\n",
              "</table>\n",
              "</div>"
            ],
            "text/plain": [
              "   Day Duration  Miles\n",
              "0    1  1:55:00    9.5\n",
              "1    2  0:25:00    3.5\n",
              "2    3  0:27:00    3.4\n",
              "3    4  0:23:00    2.7\n",
              "4    5  0:47:00    5.5"
            ]
          },
          "metadata": {
            "tags": []
          },
          "execution_count": 24
        }
      ]
    },
    {
      "metadata": {
        "id": "2oYYbaod47HX",
        "colab_type": "text"
      },
      "cell_type": "markdown",
      "source": [
        "## Take your data frame and convert it to a CSV file \n"
      ]
    },
    {
      "metadata": {
        "id": "EPZLqlXC46r4",
        "colab_type": "code",
        "colab": {}
      },
      "cell_type": "code",
      "source": [
        "# pandas.to_csv()\n",
        "running_history_dataframe.to_csv('running_history_dataframe.csv')"
      ],
      "execution_count": 0,
      "outputs": []
    },
    {
      "metadata": {
        "id": "VZ9MiTrt6GSS",
        "colab_type": "text"
      },
      "cell_type": "markdown",
      "source": [
        "[Padas doc on dataframe.to_csv()]](https://pandas.pydata.org/pandas-docs/stable/reference/api/pandas.DataFrame.to_csv.html?highlight=to_csv#pandas.DataFrame.to_csv)"
      ]
    },
    {
      "metadata": {
        "id": "kNcLb_ib6NQ3",
        "colab_type": "text"
      },
      "cell_type": "markdown",
      "source": [
        " [Padas doc on Panel.to_csv()](https://pandas.pydata.org/pandas-docs/stable/reference/api/pandas.Panel.to_csv.html?highlight=to_csv#pandas.Panel.to_csv)"
      ]
    },
    {
      "metadata": {
        "id": "t5jGH5eb6Q2q",
        "colab_type": "text"
      },
      "cell_type": "markdown",
      "source": [
        " [Padas doc on Series.to_csv() ](https://pandas.pydata.org/pandas-docs/stable/reference/api/pandas.Series.to_csv.html?highlight=to_csv#pandas.Series.to_csv)"
      ]
    },
    {
      "metadata": {
        "id": "hefG8P5yjo8-",
        "colab_type": "code",
        "colab": {}
      },
      "cell_type": "code",
      "source": [
        "# want to not have any headers in your csv file? set headers to False\n",
        "running_history_dataframe.to_csv('running_history_dataframe_no_headers.csv', header=False)"
      ],
      "execution_count": 0,
      "outputs": []
    },
    {
      "metadata": {
        "id": "EFWOa8Iaj8sL",
        "colab_type": "text"
      },
      "cell_type": "markdown",
      "source": [
        "### Loading a CSV file without headers"
      ]
    },
    {
      "metadata": {
        "id": "98cvBMMXj21A",
        "colab_type": "code",
        "colab": {}
      },
      "cell_type": "code",
      "source": [
        "# Have just a bunch of data and no headers?\n",
        "# and after some research you figure out whateverthing means?\n",
        "# Add them in a list under name, and \n",
        "running_dataframe_no_headers = pd.read_csv('running_history_dataframe_no_headers.csv', \n",
        "                                names=['Day', 'How long?', 'Miles'])"
      ],
      "execution_count": 0,
      "outputs": []
    },
    {
      "metadata": {
        "id": "h0pIZmbbk2q_",
        "colab_type": "code",
        "outputId": "e4d92a59-5d70-4708-b90e-7b992a8e5aca",
        "colab": {
          "base_uri": "https://localhost:8080/",
          "height": 241
        }
      },
      "cell_type": "code",
      "source": [
        "running_dataframe_no_headers.head()"
      ],
      "execution_count": 0,
      "outputs": [
        {
          "output_type": "execute_result",
          "data": {
            "text/html": [
              "<div>\n",
              "<style scoped>\n",
              "    .dataframe tbody tr th:only-of-type {\n",
              "        vertical-align: middle;\n",
              "    }\n",
              "\n",
              "    .dataframe tbody tr th {\n",
              "        vertical-align: top;\n",
              "    }\n",
              "\n",
              "    .dataframe thead th {\n",
              "        text-align: right;\n",
              "    }\n",
              "</style>\n",
              "<table border=\"1\" class=\"dataframe\">\n",
              "  <thead>\n",
              "    <tr style=\"text-align: right;\">\n",
              "      <th></th>\n",
              "      <th>Day</th>\n",
              "      <th>How long?</th>\n",
              "      <th>Miles</th>\n",
              "    </tr>\n",
              "  </thead>\n",
              "  <tbody>\n",
              "    <tr>\n",
              "      <th>0</th>\n",
              "      <td>1</td>\n",
              "      <td>1:55:00</td>\n",
              "      <td>9.5</td>\n",
              "    </tr>\n",
              "    <tr>\n",
              "      <th>1</th>\n",
              "      <td>2</td>\n",
              "      <td>0:25:00</td>\n",
              "      <td>3.5</td>\n",
              "    </tr>\n",
              "    <tr>\n",
              "      <th>2</th>\n",
              "      <td>3</td>\n",
              "      <td>0:27:00</td>\n",
              "      <td>3.4</td>\n",
              "    </tr>\n",
              "    <tr>\n",
              "      <th>3</th>\n",
              "      <td>4</td>\n",
              "      <td>0:23:00</td>\n",
              "      <td>2.7</td>\n",
              "    </tr>\n",
              "    <tr>\n",
              "      <th>4</th>\n",
              "      <td>5</td>\n",
              "      <td>0:47:00</td>\n",
              "      <td>5.5</td>\n",
              "    </tr>\n",
              "  </tbody>\n",
              "</table>\n",
              "</div>"
            ],
            "text/plain": [
              "   Day How long?  Miles\n",
              "0    1   1:55:00    9.5\n",
              "1    2   0:25:00    3.5\n",
              "2    3   0:27:00    3.4\n",
              "3    4   0:23:00    2.7\n",
              "4    5   0:47:00    5.5"
            ]
          },
          "metadata": {
            "tags": []
          },
          "execution_count": 28
        }
      ]
    },
    {
      "metadata": {
        "id": "cA-9_z1pli3l",
        "colab_type": "text"
      },
      "cell_type": "markdown",
      "source": [
        "## Converting to HTML"
      ]
    },
    {
      "metadata": {
        "id": "2Pi0aiL_lqZb",
        "colab_type": "code",
        "colab": {}
      },
      "cell_type": "code",
      "source": [
        "# synatx is dataframe.to_html('whatever_you_want_to_call_it.html')\n",
        "running_dataframe_no_headers.to_html('running_no_headers.html')\n",
        "\n"
      ],
      "execution_count": 0,
      "outputs": []
    },
    {
      "metadata": {
        "id": "S7WWYdqRi5CD",
        "colab_type": "text"
      },
      "cell_type": "markdown",
      "source": [
        "## Dataframe/Table Manipulation"
      ]
    },
    {
      "metadata": {
        "id": "GiEl2pxZi9zD",
        "colab_type": "code",
        "outputId": "85d666b0-d336-44d8-e600-56565768e7f1",
        "colab": {
          "base_uri": "https://localhost:8080/",
          "height": 275
        }
      },
      "cell_type": "code",
      "source": [
        "# want to rename the columns in your data frame?\n",
        "\n",
        "running_history_dataframe.columns = [\"Day of the Week\", \"Time Duration\", \"Miles\"]\n",
        "\n",
        "running_history_dataframe.head()"
      ],
      "execution_count": 0,
      "outputs": [
        {
          "output_type": "execute_result",
          "data": {
            "text/html": [
              "<div>\n",
              "<style scoped>\n",
              "    .dataframe tbody tr th:only-of-type {\n",
              "        vertical-align: middle;\n",
              "    }\n",
              "\n",
              "    .dataframe tbody tr th {\n",
              "        vertical-align: top;\n",
              "    }\n",
              "\n",
              "    .dataframe thead th {\n",
              "        text-align: right;\n",
              "    }\n",
              "</style>\n",
              "<table border=\"1\" class=\"dataframe\">\n",
              "  <thead>\n",
              "    <tr style=\"text-align: right;\">\n",
              "      <th></th>\n",
              "      <th>Day of the Week</th>\n",
              "      <th>Time Duration</th>\n",
              "      <th>Miles</th>\n",
              "    </tr>\n",
              "  </thead>\n",
              "  <tbody>\n",
              "    <tr>\n",
              "      <th>0</th>\n",
              "      <td>1</td>\n",
              "      <td>1:55:00</td>\n",
              "      <td>9.5</td>\n",
              "    </tr>\n",
              "    <tr>\n",
              "      <th>1</th>\n",
              "      <td>2</td>\n",
              "      <td>0:25:00</td>\n",
              "      <td>3.5</td>\n",
              "    </tr>\n",
              "    <tr>\n",
              "      <th>2</th>\n",
              "      <td>3</td>\n",
              "      <td>0:27:00</td>\n",
              "      <td>3.4</td>\n",
              "    </tr>\n",
              "    <tr>\n",
              "      <th>3</th>\n",
              "      <td>4</td>\n",
              "      <td>0:23:00</td>\n",
              "      <td>2.7</td>\n",
              "    </tr>\n",
              "    <tr>\n",
              "      <th>4</th>\n",
              "      <td>5</td>\n",
              "      <td>0:47:00</td>\n",
              "      <td>5.5</td>\n",
              "    </tr>\n",
              "  </tbody>\n",
              "</table>\n",
              "</div>"
            ],
            "text/plain": [
              "   Day of the Week Time Duration  Miles\n",
              "0                1       1:55:00    9.5\n",
              "1                2       0:25:00    3.5\n",
              "2                3       0:27:00    3.4\n",
              "3                4       0:23:00    2.7\n",
              "4                5       0:47:00    5.5"
            ]
          },
          "metadata": {
            "tags": []
          },
          "execution_count": 30
        }
      ]
    },
    {
      "metadata": {
        "id": "nPOJFQH7muy9",
        "colab_type": "code",
        "outputId": "51e7bc96-33ce-47a9-afb1-c2bbcb640040",
        "colab": {
          "base_uri": "https://localhost:8080/",
          "height": 275
        }
      },
      "cell_type": "code",
      "source": [
        "# You can also use .rename() to rename individual columns, \n",
        "# specify the original then rename it in a dictionary\n",
        "\n",
        "running_history_dataframe.rename(columns={\"Time Duration\":\"Time\"},\n",
        "                                 inplace=True)\n",
        "\n",
        "running_history_dataframe.head()"
      ],
      "execution_count": 0,
      "outputs": [
        {
          "output_type": "execute_result",
          "data": {
            "text/html": [
              "<div>\n",
              "<style scoped>\n",
              "    .dataframe tbody tr th:only-of-type {\n",
              "        vertical-align: middle;\n",
              "    }\n",
              "\n",
              "    .dataframe tbody tr th {\n",
              "        vertical-align: top;\n",
              "    }\n",
              "\n",
              "    .dataframe thead th {\n",
              "        text-align: right;\n",
              "    }\n",
              "</style>\n",
              "<table border=\"1\" class=\"dataframe\">\n",
              "  <thead>\n",
              "    <tr style=\"text-align: right;\">\n",
              "      <th></th>\n",
              "      <th>Day of the Week</th>\n",
              "      <th>Time</th>\n",
              "      <th>Miles</th>\n",
              "    </tr>\n",
              "  </thead>\n",
              "  <tbody>\n",
              "    <tr>\n",
              "      <th>0</th>\n",
              "      <td>1</td>\n",
              "      <td>1:55:00</td>\n",
              "      <td>9.5</td>\n",
              "    </tr>\n",
              "    <tr>\n",
              "      <th>1</th>\n",
              "      <td>2</td>\n",
              "      <td>0:25:00</td>\n",
              "      <td>3.5</td>\n",
              "    </tr>\n",
              "    <tr>\n",
              "      <th>2</th>\n",
              "      <td>3</td>\n",
              "      <td>0:27:00</td>\n",
              "      <td>3.4</td>\n",
              "    </tr>\n",
              "    <tr>\n",
              "      <th>3</th>\n",
              "      <td>4</td>\n",
              "      <td>0:23:00</td>\n",
              "      <td>2.7</td>\n",
              "    </tr>\n",
              "    <tr>\n",
              "      <th>4</th>\n",
              "      <td>5</td>\n",
              "      <td>0:47:00</td>\n",
              "      <td>5.5</td>\n",
              "    </tr>\n",
              "  </tbody>\n",
              "</table>\n",
              "</div>"
            ],
            "text/plain": [
              "   Day of the Week     Time  Miles\n",
              "0                1  1:55:00    9.5\n",
              "1                2  0:25:00    3.5\n",
              "2                3  0:27:00    3.4\n",
              "3                4  0:23:00    2.7\n",
              "4                5  0:47:00    5.5"
            ]
          },
          "metadata": {
            "tags": []
          },
          "execution_count": 31
        }
      ]
    },
    {
      "metadata": {
        "id": "psebsQ7IzLEi",
        "colab_type": "text"
      },
      "cell_type": "markdown",
      "source": [
        "### Combining Tables"
      ]
    },
    {
      "metadata": {
        "id": "l0mvz23aye0Z",
        "colab_type": "code",
        "colab": {}
      },
      "cell_type": "code",
      "source": [
        "# building another table to combine with running_history\n",
        "# BUT we're going to be skipping some days\n",
        "\n",
        "workingout_history_dictionary = {'Day of the Week' : [1,3,4,5,6,8,10],\n",
        "                   'Gym/Outdoors': [\"Gym\", \"Outdoors\", \"Gym\", \"Outdoors\", \"Outdoors\", \"Outdoors\", \"Outdoors\"],\n",
        "                   'Time': [\"20:00\", \"20:00\",\"20:00\",\"20:00\",\"25:00\", \"20:00\", \"20:00\"]\n",
        "                   }\n",
        "\n",
        "workingout_history_dataframe = pd.DataFrame(workingout_history_dictionary)"
      ],
      "execution_count": 0,
      "outputs": []
    },
    {
      "metadata": {
        "id": "RCuDsCOSye7n",
        "colab_type": "code",
        "outputId": "72b07431-4a18-44f1-b15c-4c2c67993498",
        "colab": {
          "base_uri": "https://localhost:8080/",
          "height": 275
        }
      },
      "cell_type": "code",
      "source": [
        "workingout_history_dataframe.head()"
      ],
      "execution_count": 0,
      "outputs": [
        {
          "output_type": "execute_result",
          "data": {
            "text/html": [
              "<div>\n",
              "<style scoped>\n",
              "    .dataframe tbody tr th:only-of-type {\n",
              "        vertical-align: middle;\n",
              "    }\n",
              "\n",
              "    .dataframe tbody tr th {\n",
              "        vertical-align: top;\n",
              "    }\n",
              "\n",
              "    .dataframe thead th {\n",
              "        text-align: right;\n",
              "    }\n",
              "</style>\n",
              "<table border=\"1\" class=\"dataframe\">\n",
              "  <thead>\n",
              "    <tr style=\"text-align: right;\">\n",
              "      <th></th>\n",
              "      <th>Day of the Week</th>\n",
              "      <th>Gym/Outdoors</th>\n",
              "      <th>Time</th>\n",
              "    </tr>\n",
              "  </thead>\n",
              "  <tbody>\n",
              "    <tr>\n",
              "      <th>0</th>\n",
              "      <td>1</td>\n",
              "      <td>Gym</td>\n",
              "      <td>20:00</td>\n",
              "    </tr>\n",
              "    <tr>\n",
              "      <th>1</th>\n",
              "      <td>3</td>\n",
              "      <td>Outdoors</td>\n",
              "      <td>20:00</td>\n",
              "    </tr>\n",
              "    <tr>\n",
              "      <th>2</th>\n",
              "      <td>4</td>\n",
              "      <td>Gym</td>\n",
              "      <td>20:00</td>\n",
              "    </tr>\n",
              "    <tr>\n",
              "      <th>3</th>\n",
              "      <td>5</td>\n",
              "      <td>Outdoors</td>\n",
              "      <td>20:00</td>\n",
              "    </tr>\n",
              "    <tr>\n",
              "      <th>4</th>\n",
              "      <td>6</td>\n",
              "      <td>Outdoors</td>\n",
              "      <td>25:00</td>\n",
              "    </tr>\n",
              "  </tbody>\n",
              "</table>\n",
              "</div>"
            ],
            "text/plain": [
              "   Day of the Week Gym/Outdoors   Time\n",
              "0                1          Gym  20:00\n",
              "1                3     Outdoors  20:00\n",
              "2                4          Gym  20:00\n",
              "3                5     Outdoors  20:00\n",
              "4                6     Outdoors  25:00"
            ]
          },
          "metadata": {
            "tags": []
          },
          "execution_count": 33
        }
      ]
    },
    {
      "metadata": {
        "id": "flHDuQCGye-F",
        "colab_type": "code",
        "outputId": "785e48b0-8fd8-4f18-893d-3a481e9542af",
        "colab": {
          "base_uri": "https://localhost:8080/",
          "height": 105
        }
      },
      "cell_type": "code",
      "source": [
        "# seeing what our columns are\n",
        "\n",
        "print(\"Working out columns :\", workingout_history_dataframe.columns)\n",
        "print()\n",
        "print(\"Running columns :\", running_history_dataframe.columns)\n",
        "print()"
      ],
      "execution_count": 0,
      "outputs": [
        {
          "output_type": "stream",
          "text": [
            "Working out columns : Index(['Day of the Week', 'Gym/Outdoors', 'Time'], dtype='object')\n",
            "\n",
            "Running columns : Index(['Day of the Week', 'Time', 'Miles'], dtype='object')\n",
            "\n"
          ],
          "name": "stdout"
        }
      ]
    },
    {
      "metadata": {
        "id": "iHC9goD50Z1t",
        "colab_type": "text"
      },
      "cell_type": "markdown",
      "source": [
        "#### Concatonation\n",
        "This pretty much just concatenates  one dataframe to another, so it might look messy"
      ]
    },
    {
      "metadata": {
        "id": "Fz33_mLi0V75",
        "colab_type": "code",
        "outputId": "ac98ba49-ac20-4d39-a7d9-00e252b3cafa",
        "colab": {
          "base_uri": "https://localhost:8080/",
          "height": 554
        }
      },
      "cell_type": "code",
      "source": [
        "concatenate = pd.concat([workingout_history_dataframe, running_history_dataframe])\n",
        "concatenate "
      ],
      "execution_count": 0,
      "outputs": [
        {
          "output_type": "execute_result",
          "data": {
            "text/html": [
              "<div>\n",
              "<style scoped>\n",
              "    .dataframe tbody tr th:only-of-type {\n",
              "        vertical-align: middle;\n",
              "    }\n",
              "\n",
              "    .dataframe tbody tr th {\n",
              "        vertical-align: top;\n",
              "    }\n",
              "\n",
              "    .dataframe thead th {\n",
              "        text-align: right;\n",
              "    }\n",
              "</style>\n",
              "<table border=\"1\" class=\"dataframe\">\n",
              "  <thead>\n",
              "    <tr style=\"text-align: right;\">\n",
              "      <th></th>\n",
              "      <th>Day of the Week</th>\n",
              "      <th>Gym/Outdoors</th>\n",
              "      <th>Miles</th>\n",
              "      <th>Time</th>\n",
              "    </tr>\n",
              "  </thead>\n",
              "  <tbody>\n",
              "    <tr>\n",
              "      <th>0</th>\n",
              "      <td>1</td>\n",
              "      <td>Gym</td>\n",
              "      <td>NaN</td>\n",
              "      <td>20:00</td>\n",
              "    </tr>\n",
              "    <tr>\n",
              "      <th>1</th>\n",
              "      <td>3</td>\n",
              "      <td>Outdoors</td>\n",
              "      <td>NaN</td>\n",
              "      <td>20:00</td>\n",
              "    </tr>\n",
              "    <tr>\n",
              "      <th>2</th>\n",
              "      <td>4</td>\n",
              "      <td>Gym</td>\n",
              "      <td>NaN</td>\n",
              "      <td>20:00</td>\n",
              "    </tr>\n",
              "    <tr>\n",
              "      <th>3</th>\n",
              "      <td>5</td>\n",
              "      <td>Outdoors</td>\n",
              "      <td>NaN</td>\n",
              "      <td>20:00</td>\n",
              "    </tr>\n",
              "    <tr>\n",
              "      <th>4</th>\n",
              "      <td>6</td>\n",
              "      <td>Outdoors</td>\n",
              "      <td>NaN</td>\n",
              "      <td>25:00</td>\n",
              "    </tr>\n",
              "    <tr>\n",
              "      <th>5</th>\n",
              "      <td>8</td>\n",
              "      <td>Outdoors</td>\n",
              "      <td>NaN</td>\n",
              "      <td>20:00</td>\n",
              "    </tr>\n",
              "    <tr>\n",
              "      <th>6</th>\n",
              "      <td>10</td>\n",
              "      <td>Outdoors</td>\n",
              "      <td>NaN</td>\n",
              "      <td>20:00</td>\n",
              "    </tr>\n",
              "    <tr>\n",
              "      <th>0</th>\n",
              "      <td>1</td>\n",
              "      <td>NaN</td>\n",
              "      <td>9.5</td>\n",
              "      <td>1:55:00</td>\n",
              "    </tr>\n",
              "    <tr>\n",
              "      <th>1</th>\n",
              "      <td>2</td>\n",
              "      <td>NaN</td>\n",
              "      <td>3.5</td>\n",
              "      <td>0:25:00</td>\n",
              "    </tr>\n",
              "    <tr>\n",
              "      <th>2</th>\n",
              "      <td>3</td>\n",
              "      <td>NaN</td>\n",
              "      <td>3.4</td>\n",
              "      <td>0:27:00</td>\n",
              "    </tr>\n",
              "    <tr>\n",
              "      <th>3</th>\n",
              "      <td>4</td>\n",
              "      <td>NaN</td>\n",
              "      <td>2.7</td>\n",
              "      <td>0:23:00</td>\n",
              "    </tr>\n",
              "    <tr>\n",
              "      <th>4</th>\n",
              "      <td>5</td>\n",
              "      <td>NaN</td>\n",
              "      <td>5.5</td>\n",
              "      <td>0:47:00</td>\n",
              "    </tr>\n",
              "    <tr>\n",
              "      <th>5</th>\n",
              "      <td>6</td>\n",
              "      <td>NaN</td>\n",
              "      <td>0.0</td>\n",
              "      <td>0:00:00</td>\n",
              "    </tr>\n",
              "    <tr>\n",
              "      <th>6</th>\n",
              "      <td>7</td>\n",
              "      <td>NaN</td>\n",
              "      <td>8.0</td>\n",
              "      <td>1:25:00</td>\n",
              "    </tr>\n",
              "  </tbody>\n",
              "</table>\n",
              "</div>"
            ],
            "text/plain": [
              "   Day of the Week Gym/Outdoors  Miles     Time\n",
              "0                1          Gym    NaN    20:00\n",
              "1                3     Outdoors    NaN    20:00\n",
              "2                4          Gym    NaN    20:00\n",
              "3                5     Outdoors    NaN    20:00\n",
              "4                6     Outdoors    NaN    25:00\n",
              "5                8     Outdoors    NaN    20:00\n",
              "6               10     Outdoors    NaN    20:00\n",
              "0                1          NaN    9.5  1:55:00\n",
              "1                2          NaN    3.5  0:25:00\n",
              "2                3          NaN    3.4  0:27:00\n",
              "3                4          NaN    2.7  0:23:00\n",
              "4                5          NaN    5.5  0:47:00\n",
              "5                6          NaN    0.0  0:00:00\n",
              "6                7          NaN    8.0  1:25:00"
            ]
          },
          "metadata": {
            "tags": []
          },
          "execution_count": 35
        }
      ]
    },
    {
      "metadata": {
        "id": "49pC2Jyr1Edl",
        "colab_type": "text"
      },
      "cell_type": "markdown",
      "source": [
        "#### Appending\n",
        "This literally just appends the data from one dataframe onto another dataframe\n",
        "(Kinda similar with concatenate)"
      ]
    },
    {
      "metadata": {
        "id": "yIlx7CLz1HbF",
        "colab_type": "code",
        "outputId": "8c790657-476e-4d17-8f2c-7783b5d9040f",
        "colab": {
          "base_uri": "https://localhost:8080/",
          "height": 554
        }
      },
      "cell_type": "code",
      "source": [
        "appending = workingout_history_dataframe.append(running_history_dataframe)\n",
        "appending"
      ],
      "execution_count": 0,
      "outputs": [
        {
          "output_type": "execute_result",
          "data": {
            "text/html": [
              "<div>\n",
              "<style scoped>\n",
              "    .dataframe tbody tr th:only-of-type {\n",
              "        vertical-align: middle;\n",
              "    }\n",
              "\n",
              "    .dataframe tbody tr th {\n",
              "        vertical-align: top;\n",
              "    }\n",
              "\n",
              "    .dataframe thead th {\n",
              "        text-align: right;\n",
              "    }\n",
              "</style>\n",
              "<table border=\"1\" class=\"dataframe\">\n",
              "  <thead>\n",
              "    <tr style=\"text-align: right;\">\n",
              "      <th></th>\n",
              "      <th>Day of the Week</th>\n",
              "      <th>Gym/Outdoors</th>\n",
              "      <th>Miles</th>\n",
              "      <th>Time</th>\n",
              "    </tr>\n",
              "  </thead>\n",
              "  <tbody>\n",
              "    <tr>\n",
              "      <th>0</th>\n",
              "      <td>1</td>\n",
              "      <td>Gym</td>\n",
              "      <td>NaN</td>\n",
              "      <td>20:00</td>\n",
              "    </tr>\n",
              "    <tr>\n",
              "      <th>1</th>\n",
              "      <td>3</td>\n",
              "      <td>Outdoors</td>\n",
              "      <td>NaN</td>\n",
              "      <td>20:00</td>\n",
              "    </tr>\n",
              "    <tr>\n",
              "      <th>2</th>\n",
              "      <td>4</td>\n",
              "      <td>Gym</td>\n",
              "      <td>NaN</td>\n",
              "      <td>20:00</td>\n",
              "    </tr>\n",
              "    <tr>\n",
              "      <th>3</th>\n",
              "      <td>5</td>\n",
              "      <td>Outdoors</td>\n",
              "      <td>NaN</td>\n",
              "      <td>20:00</td>\n",
              "    </tr>\n",
              "    <tr>\n",
              "      <th>4</th>\n",
              "      <td>6</td>\n",
              "      <td>Outdoors</td>\n",
              "      <td>NaN</td>\n",
              "      <td>25:00</td>\n",
              "    </tr>\n",
              "    <tr>\n",
              "      <th>5</th>\n",
              "      <td>8</td>\n",
              "      <td>Outdoors</td>\n",
              "      <td>NaN</td>\n",
              "      <td>20:00</td>\n",
              "    </tr>\n",
              "    <tr>\n",
              "      <th>6</th>\n",
              "      <td>10</td>\n",
              "      <td>Outdoors</td>\n",
              "      <td>NaN</td>\n",
              "      <td>20:00</td>\n",
              "    </tr>\n",
              "    <tr>\n",
              "      <th>0</th>\n",
              "      <td>1</td>\n",
              "      <td>NaN</td>\n",
              "      <td>9.5</td>\n",
              "      <td>1:55:00</td>\n",
              "    </tr>\n",
              "    <tr>\n",
              "      <th>1</th>\n",
              "      <td>2</td>\n",
              "      <td>NaN</td>\n",
              "      <td>3.5</td>\n",
              "      <td>0:25:00</td>\n",
              "    </tr>\n",
              "    <tr>\n",
              "      <th>2</th>\n",
              "      <td>3</td>\n",
              "      <td>NaN</td>\n",
              "      <td>3.4</td>\n",
              "      <td>0:27:00</td>\n",
              "    </tr>\n",
              "    <tr>\n",
              "      <th>3</th>\n",
              "      <td>4</td>\n",
              "      <td>NaN</td>\n",
              "      <td>2.7</td>\n",
              "      <td>0:23:00</td>\n",
              "    </tr>\n",
              "    <tr>\n",
              "      <th>4</th>\n",
              "      <td>5</td>\n",
              "      <td>NaN</td>\n",
              "      <td>5.5</td>\n",
              "      <td>0:47:00</td>\n",
              "    </tr>\n",
              "    <tr>\n",
              "      <th>5</th>\n",
              "      <td>6</td>\n",
              "      <td>NaN</td>\n",
              "      <td>0.0</td>\n",
              "      <td>0:00:00</td>\n",
              "    </tr>\n",
              "    <tr>\n",
              "      <th>6</th>\n",
              "      <td>7</td>\n",
              "      <td>NaN</td>\n",
              "      <td>8.0</td>\n",
              "      <td>1:25:00</td>\n",
              "    </tr>\n",
              "  </tbody>\n",
              "</table>\n",
              "</div>"
            ],
            "text/plain": [
              "   Day of the Week Gym/Outdoors  Miles     Time\n",
              "0                1          Gym    NaN    20:00\n",
              "1                3     Outdoors    NaN    20:00\n",
              "2                4          Gym    NaN    20:00\n",
              "3                5     Outdoors    NaN    20:00\n",
              "4                6     Outdoors    NaN    25:00\n",
              "5                8     Outdoors    NaN    20:00\n",
              "6               10     Outdoors    NaN    20:00\n",
              "0                1          NaN    9.5  1:55:00\n",
              "1                2          NaN    3.5  0:25:00\n",
              "2                3          NaN    3.4  0:27:00\n",
              "3                4          NaN    2.7  0:23:00\n",
              "4                5          NaN    5.5  0:47:00\n",
              "5                6          NaN    0.0  0:00:00\n",
              "6                7          NaN    8.0  1:25:00"
            ]
          },
          "metadata": {
            "tags": []
          },
          "execution_count": 36
        }
      ]
    },
    {
      "metadata": {
        "id": "bYZsoMgf2r57",
        "colab_type": "text"
      },
      "cell_type": "markdown",
      "source": [
        "#### Merging\n",
        "Ignores Index, but also as default only merges on things that are similar\n",
        "\n",
        "( so since we have a missing day in workingout_history_dataframe, that whole row is missing even though the data is there in running_history_dataframe)"
      ]
    },
    {
      "metadata": {
        "id": "uVtv0YF61Hfz",
        "colab_type": "code",
        "outputId": "42032ae2-8d53-44a2-b006-b2bd8a64ba81",
        "colab": {
          "base_uri": "https://localhost:8080/",
          "height": 275
        }
      },
      "cell_type": "code",
      "source": [
        "merge_default = pd.merge(workingout_history_dataframe, \n",
        "                         running_history_dataframe, \n",
        "                         on='Day of the Week')\n",
        "merge_default\n"
      ],
      "execution_count": 0,
      "outputs": [
        {
          "output_type": "execute_result",
          "data": {
            "text/html": [
              "<div>\n",
              "<style scoped>\n",
              "    .dataframe tbody tr th:only-of-type {\n",
              "        vertical-align: middle;\n",
              "    }\n",
              "\n",
              "    .dataframe tbody tr th {\n",
              "        vertical-align: top;\n",
              "    }\n",
              "\n",
              "    .dataframe thead th {\n",
              "        text-align: right;\n",
              "    }\n",
              "</style>\n",
              "<table border=\"1\" class=\"dataframe\">\n",
              "  <thead>\n",
              "    <tr style=\"text-align: right;\">\n",
              "      <th></th>\n",
              "      <th>Day of the Week</th>\n",
              "      <th>Gym/Outdoors</th>\n",
              "      <th>Time_x</th>\n",
              "      <th>Time_y</th>\n",
              "      <th>Miles</th>\n",
              "    </tr>\n",
              "  </thead>\n",
              "  <tbody>\n",
              "    <tr>\n",
              "      <th>0</th>\n",
              "      <td>1</td>\n",
              "      <td>Gym</td>\n",
              "      <td>20:00</td>\n",
              "      <td>1:55:00</td>\n",
              "      <td>9.5</td>\n",
              "    </tr>\n",
              "    <tr>\n",
              "      <th>1</th>\n",
              "      <td>3</td>\n",
              "      <td>Outdoors</td>\n",
              "      <td>20:00</td>\n",
              "      <td>0:27:00</td>\n",
              "      <td>3.4</td>\n",
              "    </tr>\n",
              "    <tr>\n",
              "      <th>2</th>\n",
              "      <td>4</td>\n",
              "      <td>Gym</td>\n",
              "      <td>20:00</td>\n",
              "      <td>0:23:00</td>\n",
              "      <td>2.7</td>\n",
              "    </tr>\n",
              "    <tr>\n",
              "      <th>3</th>\n",
              "      <td>5</td>\n",
              "      <td>Outdoors</td>\n",
              "      <td>20:00</td>\n",
              "      <td>0:47:00</td>\n",
              "      <td>5.5</td>\n",
              "    </tr>\n",
              "    <tr>\n",
              "      <th>4</th>\n",
              "      <td>6</td>\n",
              "      <td>Outdoors</td>\n",
              "      <td>25:00</td>\n",
              "      <td>0:00:00</td>\n",
              "      <td>0.0</td>\n",
              "    </tr>\n",
              "  </tbody>\n",
              "</table>\n",
              "</div>"
            ],
            "text/plain": [
              "   Day of the Week Gym/Outdoors Time_x   Time_y  Miles\n",
              "0                1          Gym  20:00  1:55:00    9.5\n",
              "1                3     Outdoors  20:00  0:27:00    3.4\n",
              "2                4          Gym  20:00  0:23:00    2.7\n",
              "3                5     Outdoors  20:00  0:47:00    5.5\n",
              "4                6     Outdoors  25:00  0:00:00    0.0"
            ]
          },
          "metadata": {
            "tags": []
          },
          "execution_count": 37
        }
      ]
    },
    {
      "metadata": {
        "id": "YIrpGRlU1HnF",
        "colab_type": "code",
        "outputId": "1de413b6-443c-4516-f1e0-2e7ec0501f9f",
        "colab": {
          "base_uri": "https://localhost:8080/",
          "height": 337
        }
      },
      "cell_type": "code",
      "source": [
        "# so this is the same syntax, but we are merging on running_history_dataframe \n",
        "# (the second table, the \"right\" one, inside .merge())\n",
        "# which has all 7 days info\n",
        "merge_right = pd.merge(workingout_history_dataframe, \n",
        "                       running_history_dataframe, \n",
        "                       on='Day of the Week', \n",
        "                       how='right')\n",
        "merge_right"
      ],
      "execution_count": 0,
      "outputs": [
        {
          "output_type": "execute_result",
          "data": {
            "text/html": [
              "<div>\n",
              "<style scoped>\n",
              "    .dataframe tbody tr th:only-of-type {\n",
              "        vertical-align: middle;\n",
              "    }\n",
              "\n",
              "    .dataframe tbody tr th {\n",
              "        vertical-align: top;\n",
              "    }\n",
              "\n",
              "    .dataframe thead th {\n",
              "        text-align: right;\n",
              "    }\n",
              "</style>\n",
              "<table border=\"1\" class=\"dataframe\">\n",
              "  <thead>\n",
              "    <tr style=\"text-align: right;\">\n",
              "      <th></th>\n",
              "      <th>Day of the Week</th>\n",
              "      <th>Gym/Outdoors</th>\n",
              "      <th>Time_x</th>\n",
              "      <th>Time_y</th>\n",
              "      <th>Miles</th>\n",
              "    </tr>\n",
              "  </thead>\n",
              "  <tbody>\n",
              "    <tr>\n",
              "      <th>0</th>\n",
              "      <td>1</td>\n",
              "      <td>Gym</td>\n",
              "      <td>20:00</td>\n",
              "      <td>1:55:00</td>\n",
              "      <td>9.5</td>\n",
              "    </tr>\n",
              "    <tr>\n",
              "      <th>1</th>\n",
              "      <td>3</td>\n",
              "      <td>Outdoors</td>\n",
              "      <td>20:00</td>\n",
              "      <td>0:27:00</td>\n",
              "      <td>3.4</td>\n",
              "    </tr>\n",
              "    <tr>\n",
              "      <th>2</th>\n",
              "      <td>4</td>\n",
              "      <td>Gym</td>\n",
              "      <td>20:00</td>\n",
              "      <td>0:23:00</td>\n",
              "      <td>2.7</td>\n",
              "    </tr>\n",
              "    <tr>\n",
              "      <th>3</th>\n",
              "      <td>5</td>\n",
              "      <td>Outdoors</td>\n",
              "      <td>20:00</td>\n",
              "      <td>0:47:00</td>\n",
              "      <td>5.5</td>\n",
              "    </tr>\n",
              "    <tr>\n",
              "      <th>4</th>\n",
              "      <td>6</td>\n",
              "      <td>Outdoors</td>\n",
              "      <td>25:00</td>\n",
              "      <td>0:00:00</td>\n",
              "      <td>0.0</td>\n",
              "    </tr>\n",
              "    <tr>\n",
              "      <th>5</th>\n",
              "      <td>2</td>\n",
              "      <td>NaN</td>\n",
              "      <td>NaN</td>\n",
              "      <td>0:25:00</td>\n",
              "      <td>3.5</td>\n",
              "    </tr>\n",
              "    <tr>\n",
              "      <th>6</th>\n",
              "      <td>7</td>\n",
              "      <td>NaN</td>\n",
              "      <td>NaN</td>\n",
              "      <td>1:25:00</td>\n",
              "      <td>8.0</td>\n",
              "    </tr>\n",
              "  </tbody>\n",
              "</table>\n",
              "</div>"
            ],
            "text/plain": [
              "   Day of the Week Gym/Outdoors Time_x   Time_y  Miles\n",
              "0                1          Gym  20:00  1:55:00    9.5\n",
              "1                3     Outdoors  20:00  0:27:00    3.4\n",
              "2                4          Gym  20:00  0:23:00    2.7\n",
              "3                5     Outdoors  20:00  0:47:00    5.5\n",
              "4                6     Outdoors  25:00  0:00:00    0.0\n",
              "5                2          NaN    NaN  0:25:00    3.5\n",
              "6                7          NaN    NaN  1:25:00    8.0"
            ]
          },
          "metadata": {
            "tags": []
          },
          "execution_count": 38
        }
      ]
    },
    {
      "metadata": {
        "id": "tWdUc4ZlAGD0",
        "colab_type": "code",
        "outputId": "268408b8-18d6-49d1-df47-f9a4d131fe2f",
        "colab": {
          "base_uri": "https://localhost:8080/",
          "height": 337
        }
      },
      "cell_type": "code",
      "source": [
        "# so this is the same syntax as right, but we are merging on workingout_history_dataframe \n",
        "# (the first table, the \"left\" one, inside .merge())\n",
        "# which has missing info so the output table reflects that\n",
        "\n",
        "merge_left = pd.merge(workingout_history_dataframe, \n",
        "                      running_history_dataframe, \n",
        "                      on='Day of the Week', \n",
        "                      how='left')\n",
        "\n",
        "merge_left"
      ],
      "execution_count": 0,
      "outputs": [
        {
          "output_type": "execute_result",
          "data": {
            "text/html": [
              "<div>\n",
              "<style scoped>\n",
              "    .dataframe tbody tr th:only-of-type {\n",
              "        vertical-align: middle;\n",
              "    }\n",
              "\n",
              "    .dataframe tbody tr th {\n",
              "        vertical-align: top;\n",
              "    }\n",
              "\n",
              "    .dataframe thead th {\n",
              "        text-align: right;\n",
              "    }\n",
              "</style>\n",
              "<table border=\"1\" class=\"dataframe\">\n",
              "  <thead>\n",
              "    <tr style=\"text-align: right;\">\n",
              "      <th></th>\n",
              "      <th>Day of the Week</th>\n",
              "      <th>Gym/Outdoors</th>\n",
              "      <th>Time_x</th>\n",
              "      <th>Time_y</th>\n",
              "      <th>Miles</th>\n",
              "    </tr>\n",
              "  </thead>\n",
              "  <tbody>\n",
              "    <tr>\n",
              "      <th>0</th>\n",
              "      <td>1</td>\n",
              "      <td>Gym</td>\n",
              "      <td>20:00</td>\n",
              "      <td>1:55:00</td>\n",
              "      <td>9.5</td>\n",
              "    </tr>\n",
              "    <tr>\n",
              "      <th>1</th>\n",
              "      <td>3</td>\n",
              "      <td>Outdoors</td>\n",
              "      <td>20:00</td>\n",
              "      <td>0:27:00</td>\n",
              "      <td>3.4</td>\n",
              "    </tr>\n",
              "    <tr>\n",
              "      <th>2</th>\n",
              "      <td>4</td>\n",
              "      <td>Gym</td>\n",
              "      <td>20:00</td>\n",
              "      <td>0:23:00</td>\n",
              "      <td>2.7</td>\n",
              "    </tr>\n",
              "    <tr>\n",
              "      <th>3</th>\n",
              "      <td>5</td>\n",
              "      <td>Outdoors</td>\n",
              "      <td>20:00</td>\n",
              "      <td>0:47:00</td>\n",
              "      <td>5.5</td>\n",
              "    </tr>\n",
              "    <tr>\n",
              "      <th>4</th>\n",
              "      <td>6</td>\n",
              "      <td>Outdoors</td>\n",
              "      <td>25:00</td>\n",
              "      <td>0:00:00</td>\n",
              "      <td>0.0</td>\n",
              "    </tr>\n",
              "    <tr>\n",
              "      <th>5</th>\n",
              "      <td>8</td>\n",
              "      <td>Outdoors</td>\n",
              "      <td>20:00</td>\n",
              "      <td>NaN</td>\n",
              "      <td>NaN</td>\n",
              "    </tr>\n",
              "    <tr>\n",
              "      <th>6</th>\n",
              "      <td>10</td>\n",
              "      <td>Outdoors</td>\n",
              "      <td>20:00</td>\n",
              "      <td>NaN</td>\n",
              "      <td>NaN</td>\n",
              "    </tr>\n",
              "  </tbody>\n",
              "</table>\n",
              "</div>"
            ],
            "text/plain": [
              "   Day of the Week Gym/Outdoors Time_x   Time_y  Miles\n",
              "0                1          Gym  20:00  1:55:00    9.5\n",
              "1                3     Outdoors  20:00  0:27:00    3.4\n",
              "2                4          Gym  20:00  0:23:00    2.7\n",
              "3                5     Outdoors  20:00  0:47:00    5.5\n",
              "4                6     Outdoors  25:00  0:00:00    0.0\n",
              "5                8     Outdoors  20:00      NaN    NaN\n",
              "6               10     Outdoors  20:00      NaN    NaN"
            ]
          },
          "metadata": {
            "tags": []
          },
          "execution_count": 39
        }
      ]
    },
    {
      "metadata": {
        "id": "m2gHMsYwAGGX",
        "colab_type": "code",
        "outputId": "77d9b9dc-0216-4818-bffa-46b2ad8bda1a",
        "colab": {
          "base_uri": "https://localhost:8080/",
          "height": 399
        }
      },
      "cell_type": "code",
      "source": [
        "# outer - merges on the union of the keys\n",
        "# ALL OF THE DATA WILL BE REPRESENTED\n",
        "merge_outer = pd.merge(workingout_history_dataframe, \n",
        "                      running_history_dataframe, \n",
        "                      on='Day of the Week', \n",
        "                      how='outer')\n",
        "\n",
        "merge_outer"
      ],
      "execution_count": 0,
      "outputs": [
        {
          "output_type": "execute_result",
          "data": {
            "text/html": [
              "<div>\n",
              "<style scoped>\n",
              "    .dataframe tbody tr th:only-of-type {\n",
              "        vertical-align: middle;\n",
              "    }\n",
              "\n",
              "    .dataframe tbody tr th {\n",
              "        vertical-align: top;\n",
              "    }\n",
              "\n",
              "    .dataframe thead th {\n",
              "        text-align: right;\n",
              "    }\n",
              "</style>\n",
              "<table border=\"1\" class=\"dataframe\">\n",
              "  <thead>\n",
              "    <tr style=\"text-align: right;\">\n",
              "      <th></th>\n",
              "      <th>Day of the Week</th>\n",
              "      <th>Gym/Outdoors</th>\n",
              "      <th>Time_x</th>\n",
              "      <th>Time_y</th>\n",
              "      <th>Miles</th>\n",
              "    </tr>\n",
              "  </thead>\n",
              "  <tbody>\n",
              "    <tr>\n",
              "      <th>0</th>\n",
              "      <td>1</td>\n",
              "      <td>Gym</td>\n",
              "      <td>20:00</td>\n",
              "      <td>1:55:00</td>\n",
              "      <td>9.5</td>\n",
              "    </tr>\n",
              "    <tr>\n",
              "      <th>1</th>\n",
              "      <td>3</td>\n",
              "      <td>Outdoors</td>\n",
              "      <td>20:00</td>\n",
              "      <td>0:27:00</td>\n",
              "      <td>3.4</td>\n",
              "    </tr>\n",
              "    <tr>\n",
              "      <th>2</th>\n",
              "      <td>4</td>\n",
              "      <td>Gym</td>\n",
              "      <td>20:00</td>\n",
              "      <td>0:23:00</td>\n",
              "      <td>2.7</td>\n",
              "    </tr>\n",
              "    <tr>\n",
              "      <th>3</th>\n",
              "      <td>5</td>\n",
              "      <td>Outdoors</td>\n",
              "      <td>20:00</td>\n",
              "      <td>0:47:00</td>\n",
              "      <td>5.5</td>\n",
              "    </tr>\n",
              "    <tr>\n",
              "      <th>4</th>\n",
              "      <td>6</td>\n",
              "      <td>Outdoors</td>\n",
              "      <td>25:00</td>\n",
              "      <td>0:00:00</td>\n",
              "      <td>0.0</td>\n",
              "    </tr>\n",
              "    <tr>\n",
              "      <th>5</th>\n",
              "      <td>8</td>\n",
              "      <td>Outdoors</td>\n",
              "      <td>20:00</td>\n",
              "      <td>NaN</td>\n",
              "      <td>NaN</td>\n",
              "    </tr>\n",
              "    <tr>\n",
              "      <th>6</th>\n",
              "      <td>10</td>\n",
              "      <td>Outdoors</td>\n",
              "      <td>20:00</td>\n",
              "      <td>NaN</td>\n",
              "      <td>NaN</td>\n",
              "    </tr>\n",
              "    <tr>\n",
              "      <th>7</th>\n",
              "      <td>2</td>\n",
              "      <td>NaN</td>\n",
              "      <td>NaN</td>\n",
              "      <td>0:25:00</td>\n",
              "      <td>3.5</td>\n",
              "    </tr>\n",
              "    <tr>\n",
              "      <th>8</th>\n",
              "      <td>7</td>\n",
              "      <td>NaN</td>\n",
              "      <td>NaN</td>\n",
              "      <td>1:25:00</td>\n",
              "      <td>8.0</td>\n",
              "    </tr>\n",
              "  </tbody>\n",
              "</table>\n",
              "</div>"
            ],
            "text/plain": [
              "   Day of the Week Gym/Outdoors Time_x   Time_y  Miles\n",
              "0                1          Gym  20:00  1:55:00    9.5\n",
              "1                3     Outdoors  20:00  0:27:00    3.4\n",
              "2                4          Gym  20:00  0:23:00    2.7\n",
              "3                5     Outdoors  20:00  0:47:00    5.5\n",
              "4                6     Outdoors  25:00  0:00:00    0.0\n",
              "5                8     Outdoors  20:00      NaN    NaN\n",
              "6               10     Outdoors  20:00      NaN    NaN\n",
              "7                2          NaN    NaN  0:25:00    3.5\n",
              "8                7          NaN    NaN  1:25:00    8.0"
            ]
          },
          "metadata": {
            "tags": []
          },
          "execution_count": 40
        }
      ]
    },
    {
      "metadata": {
        "id": "rv6kb2ECAGJP",
        "colab_type": "code",
        "outputId": "adea4ba3-7532-4e6e-8594-0540ef9dc84b",
        "colab": {
          "base_uri": "https://localhost:8080/",
          "height": 275
        }
      },
      "cell_type": "code",
      "source": [
        "# inner - merges where the keys intersect\n",
        "# this is the same as the default\n",
        "# Anything that both tables have on 'Day of the Week' will be represented\n",
        "merge_inner = pd.merge(workingout_history_dataframe, \n",
        "                      running_history_dataframe, \n",
        "                      on='Day of the Week', \n",
        "                      how='inner')\n",
        "\n",
        "merge_inner"
      ],
      "execution_count": 0,
      "outputs": [
        {
          "output_type": "execute_result",
          "data": {
            "text/html": [
              "<div>\n",
              "<style scoped>\n",
              "    .dataframe tbody tr th:only-of-type {\n",
              "        vertical-align: middle;\n",
              "    }\n",
              "\n",
              "    .dataframe tbody tr th {\n",
              "        vertical-align: top;\n",
              "    }\n",
              "\n",
              "    .dataframe thead th {\n",
              "        text-align: right;\n",
              "    }\n",
              "</style>\n",
              "<table border=\"1\" class=\"dataframe\">\n",
              "  <thead>\n",
              "    <tr style=\"text-align: right;\">\n",
              "      <th></th>\n",
              "      <th>Day of the Week</th>\n",
              "      <th>Gym/Outdoors</th>\n",
              "      <th>Time_x</th>\n",
              "      <th>Time_y</th>\n",
              "      <th>Miles</th>\n",
              "    </tr>\n",
              "  </thead>\n",
              "  <tbody>\n",
              "    <tr>\n",
              "      <th>0</th>\n",
              "      <td>1</td>\n",
              "      <td>Gym</td>\n",
              "      <td>20:00</td>\n",
              "      <td>1:55:00</td>\n",
              "      <td>9.5</td>\n",
              "    </tr>\n",
              "    <tr>\n",
              "      <th>1</th>\n",
              "      <td>3</td>\n",
              "      <td>Outdoors</td>\n",
              "      <td>20:00</td>\n",
              "      <td>0:27:00</td>\n",
              "      <td>3.4</td>\n",
              "    </tr>\n",
              "    <tr>\n",
              "      <th>2</th>\n",
              "      <td>4</td>\n",
              "      <td>Gym</td>\n",
              "      <td>20:00</td>\n",
              "      <td>0:23:00</td>\n",
              "      <td>2.7</td>\n",
              "    </tr>\n",
              "    <tr>\n",
              "      <th>3</th>\n",
              "      <td>5</td>\n",
              "      <td>Outdoors</td>\n",
              "      <td>20:00</td>\n",
              "      <td>0:47:00</td>\n",
              "      <td>5.5</td>\n",
              "    </tr>\n",
              "    <tr>\n",
              "      <th>4</th>\n",
              "      <td>6</td>\n",
              "      <td>Outdoors</td>\n",
              "      <td>25:00</td>\n",
              "      <td>0:00:00</td>\n",
              "      <td>0.0</td>\n",
              "    </tr>\n",
              "  </tbody>\n",
              "</table>\n",
              "</div>"
            ],
            "text/plain": [
              "   Day of the Week Gym/Outdoors Time_x   Time_y  Miles\n",
              "0                1          Gym  20:00  1:55:00    9.5\n",
              "1                3     Outdoors  20:00  0:27:00    3.4\n",
              "2                4          Gym  20:00  0:23:00    2.7\n",
              "3                5     Outdoors  20:00  0:47:00    5.5\n",
              "4                6     Outdoors  25:00  0:00:00    0.0"
            ]
          },
          "metadata": {
            "tags": []
          },
          "execution_count": 41
        }
      ]
    },
    {
      "metadata": {
        "id": "yil4QqL3AGLw",
        "colab_type": "code",
        "colab": {}
      },
      "cell_type": "code",
      "source": [
        ""
      ],
      "execution_count": 0,
      "outputs": []
    },
    {
      "metadata": {
        "id": "Ika-5A8M2dQ4",
        "colab_type": "text"
      },
      "cell_type": "markdown",
      "source": [
        "### Joining databases\n",
        "This is where Index is honored and must be focused\n",
        "\n",
        "The tables share an index, but no columns"
      ]
    },
    {
      "metadata": {
        "id": "a_vcvMAs2mzu",
        "colab_type": "code",
        "outputId": "6eeb0d57-fa45-4a52-8fd9-bc375d1b0336",
        "colab": {
          "base_uri": "https://localhost:8080/",
          "height": 255
        }
      },
      "cell_type": "code",
      "source": [
        "# Psuedo data\n",
        "df1 = pd.DataFrame({'Column1':[1, 2, 3, 4, 5],\n",
        "                   'Column2':['a', 'b', 'c', 'd', 'e']})\n",
        "\n",
        "df2 = pd.DataFrame({'Column1':[1, 2, 3, 4, 5],\n",
        "                   'Col2':['A', 'B', 'C', 'D', 'E']})\n",
        "\n",
        "\n",
        "# set the indexes\n",
        "df1.set_index('Column1', inplace=True)\n",
        "df2.set_index('Column1', inplace=True)\n",
        "\n",
        "# joining\n",
        "joined = df1.join(df2)\n",
        "joined"
      ],
      "execution_count": 0,
      "outputs": [
        {
          "output_type": "execute_result",
          "data": {
            "text/html": [
              "<div>\n",
              "<style scoped>\n",
              "    .dataframe tbody tr th:only-of-type {\n",
              "        vertical-align: middle;\n",
              "    }\n",
              "\n",
              "    .dataframe tbody tr th {\n",
              "        vertical-align: top;\n",
              "    }\n",
              "\n",
              "    .dataframe thead th {\n",
              "        text-align: right;\n",
              "    }\n",
              "</style>\n",
              "<table border=\"1\" class=\"dataframe\">\n",
              "  <thead>\n",
              "    <tr style=\"text-align: right;\">\n",
              "      <th></th>\n",
              "      <th>Column2</th>\n",
              "      <th>Col2</th>\n",
              "    </tr>\n",
              "    <tr>\n",
              "      <th>Column1</th>\n",
              "      <th></th>\n",
              "      <th></th>\n",
              "    </tr>\n",
              "  </thead>\n",
              "  <tbody>\n",
              "    <tr>\n",
              "      <th>1</th>\n",
              "      <td>a</td>\n",
              "      <td>A</td>\n",
              "    </tr>\n",
              "    <tr>\n",
              "      <th>2</th>\n",
              "      <td>b</td>\n",
              "      <td>B</td>\n",
              "    </tr>\n",
              "    <tr>\n",
              "      <th>3</th>\n",
              "      <td>c</td>\n",
              "      <td>C</td>\n",
              "    </tr>\n",
              "    <tr>\n",
              "      <th>4</th>\n",
              "      <td>d</td>\n",
              "      <td>D</td>\n",
              "    </tr>\n",
              "    <tr>\n",
              "      <th>5</th>\n",
              "      <td>e</td>\n",
              "      <td>E</td>\n",
              "    </tr>\n",
              "  </tbody>\n",
              "</table>\n",
              "</div>"
            ],
            "text/plain": [
              "        Column2 Col2\n",
              "Column1             \n",
              "1             a    A\n",
              "2             b    B\n",
              "3             c    C\n",
              "4             d    D\n",
              "5             e    E"
            ]
          },
          "metadata": {
            "tags": []
          },
          "execution_count": 42
        }
      ]
    },
    {
      "metadata": {
        "id": "FiMebN3RLM9O",
        "colab_type": "text"
      },
      "cell_type": "markdown",
      "source": [
        "### Pickling\n",
        "Pickling is the process of saving data in binary and then reading it from binary.\n",
        "There is a pickle library and also one built into Pandas"
      ]
    },
    {
      "metadata": {
        "id": "FGiylpmSLQhe",
        "colab_type": "code",
        "colab": {}
      },
      "cell_type": "code",
      "source": [
        "\n",
        "import pickle"
      ],
      "execution_count": 0,
      "outputs": []
    },
    {
      "metadata": {
        "id": "lipN6JbnLQq0",
        "colab_type": "code",
        "colab": {}
      },
      "cell_type": "code",
      "source": [
        "# what you're calling what you want to save and write binary\n",
        "pickle_out = open('joined.pickle', 'wb')\n",
        "# actually pushing the dataframe into the .pickle\n",
        "pickle.dump(joined, pickle_out)\n",
        "# writing the .pickle\n",
        "pickle_out.close()"
      ],
      "execution_count": 0,
      "outputs": []
    },
    {
      "metadata": {
        "id": "rhIg2V48LQt-",
        "colab_type": "code",
        "outputId": "93efb907-be91-460e-82b6-358304e6bcff",
        "colab": {
          "base_uri": "https://localhost:8080/",
          "height": 255
        }
      },
      "cell_type": "code",
      "source": [
        "# reading the pickle data ('read binary')\n",
        "pickle_in = open('joined.pickle', 'rb')\n",
        "# loading the pickle data\n",
        "joined_table = pickle.load(pickle_in)\n",
        "\n",
        "joined_table.head()"
      ],
      "execution_count": 0,
      "outputs": [
        {
          "output_type": "execute_result",
          "data": {
            "text/html": [
              "<div>\n",
              "<style scoped>\n",
              "    .dataframe tbody tr th:only-of-type {\n",
              "        vertical-align: middle;\n",
              "    }\n",
              "\n",
              "    .dataframe tbody tr th {\n",
              "        vertical-align: top;\n",
              "    }\n",
              "\n",
              "    .dataframe thead th {\n",
              "        text-align: right;\n",
              "    }\n",
              "</style>\n",
              "<table border=\"1\" class=\"dataframe\">\n",
              "  <thead>\n",
              "    <tr style=\"text-align: right;\">\n",
              "      <th></th>\n",
              "      <th>Column2</th>\n",
              "      <th>Col2</th>\n",
              "    </tr>\n",
              "    <tr>\n",
              "      <th>Column1</th>\n",
              "      <th></th>\n",
              "      <th></th>\n",
              "    </tr>\n",
              "  </thead>\n",
              "  <tbody>\n",
              "    <tr>\n",
              "      <th>1</th>\n",
              "      <td>a</td>\n",
              "      <td>A</td>\n",
              "    </tr>\n",
              "    <tr>\n",
              "      <th>2</th>\n",
              "      <td>b</td>\n",
              "      <td>B</td>\n",
              "    </tr>\n",
              "    <tr>\n",
              "      <th>3</th>\n",
              "      <td>c</td>\n",
              "      <td>C</td>\n",
              "    </tr>\n",
              "    <tr>\n",
              "      <th>4</th>\n",
              "      <td>d</td>\n",
              "      <td>D</td>\n",
              "    </tr>\n",
              "    <tr>\n",
              "      <th>5</th>\n",
              "      <td>e</td>\n",
              "      <td>E</td>\n",
              "    </tr>\n",
              "  </tbody>\n",
              "</table>\n",
              "</div>"
            ],
            "text/plain": [
              "        Column2 Col2\n",
              "Column1             \n",
              "1             a    A\n",
              "2             b    B\n",
              "3             c    C\n",
              "4             d    D\n",
              "5             e    E"
            ]
          },
          "metadata": {
            "tags": []
          },
          "execution_count": 45
        }
      ]
    },
    {
      "metadata": {
        "id": "9xee6zFo8zk6",
        "colab_type": "code",
        "colab": {}
      },
      "cell_type": "code",
      "source": [
        "# using the pandas way \n",
        "joined_table_2 = joined.to_pickle('pandas_pickled.pickle')\n"
      ],
      "execution_count": 0,
      "outputs": []
    },
    {
      "metadata": {
        "id": "ypdtqxgT8znM",
        "colab_type": "code",
        "outputId": "42c4e31a-72ef-4276-f186-399bb2a37286",
        "colab": {
          "base_uri": "https://localhost:8080/",
          "height": 255
        }
      },
      "cell_type": "code",
      "source": [
        "joined_table_from_pickle = pd.read_pickle('pandas_pickled.pickle')\n",
        "\n",
        "joined_table_from_pickle"
      ],
      "execution_count": 0,
      "outputs": [
        {
          "output_type": "execute_result",
          "data": {
            "text/html": [
              "<div>\n",
              "<style scoped>\n",
              "    .dataframe tbody tr th:only-of-type {\n",
              "        vertical-align: middle;\n",
              "    }\n",
              "\n",
              "    .dataframe tbody tr th {\n",
              "        vertical-align: top;\n",
              "    }\n",
              "\n",
              "    .dataframe thead th {\n",
              "        text-align: right;\n",
              "    }\n",
              "</style>\n",
              "<table border=\"1\" class=\"dataframe\">\n",
              "  <thead>\n",
              "    <tr style=\"text-align: right;\">\n",
              "      <th></th>\n",
              "      <th>Column2</th>\n",
              "      <th>Col2</th>\n",
              "    </tr>\n",
              "    <tr>\n",
              "      <th>Column1</th>\n",
              "      <th></th>\n",
              "      <th></th>\n",
              "    </tr>\n",
              "  </thead>\n",
              "  <tbody>\n",
              "    <tr>\n",
              "      <th>1</th>\n",
              "      <td>a</td>\n",
              "      <td>A</td>\n",
              "    </tr>\n",
              "    <tr>\n",
              "      <th>2</th>\n",
              "      <td>b</td>\n",
              "      <td>B</td>\n",
              "    </tr>\n",
              "    <tr>\n",
              "      <th>3</th>\n",
              "      <td>c</td>\n",
              "      <td>C</td>\n",
              "    </tr>\n",
              "    <tr>\n",
              "      <th>4</th>\n",
              "      <td>d</td>\n",
              "      <td>D</td>\n",
              "    </tr>\n",
              "    <tr>\n",
              "      <th>5</th>\n",
              "      <td>e</td>\n",
              "      <td>E</td>\n",
              "    </tr>\n",
              "  </tbody>\n",
              "</table>\n",
              "</div>"
            ],
            "text/plain": [
              "        Column2 Col2\n",
              "Column1             \n",
              "1             a    A\n",
              "2             b    B\n",
              "3             c    C\n",
              "4             d    D\n",
              "5             e    E"
            ]
          },
          "metadata": {
            "tags": []
          },
          "execution_count": 47
        }
      ]
    },
    {
      "metadata": {
        "id": "axddLuR3qCO-",
        "colab_type": "text"
      },
      "cell_type": "markdown",
      "source": [
        "## Modifying Columns"
      ]
    },
    {
      "metadata": {
        "id": "9LaKQJ4BqFhx",
        "colab_type": "code",
        "outputId": "27c74a8c-bc9a-4558-f206-77b3c16879d5",
        "colab": {
          "base_uri": "https://localhost:8080/",
          "height": 272
        }
      },
      "cell_type": "code",
      "source": [
        "# you can just create a new column by definining it like so:\n",
        "joined_table_from_pickle['New Colum'] = [5, 4, 3, 2, 1]\n",
        "joined_table_from_pickle"
      ],
      "execution_count": 0,
      "outputs": [
        {
          "output_type": "execute_result",
          "data": {
            "text/html": [
              "<div>\n",
              "<style scoped>\n",
              "    .dataframe tbody tr th:only-of-type {\n",
              "        vertical-align: middle;\n",
              "    }\n",
              "\n",
              "    .dataframe tbody tr th {\n",
              "        vertical-align: top;\n",
              "    }\n",
              "\n",
              "    .dataframe thead th {\n",
              "        text-align: right;\n",
              "    }\n",
              "</style>\n",
              "<table border=\"1\" class=\"dataframe\">\n",
              "  <thead>\n",
              "    <tr style=\"text-align: right;\">\n",
              "      <th></th>\n",
              "      <th>Column2</th>\n",
              "      <th>Col2</th>\n",
              "      <th>New Colum</th>\n",
              "    </tr>\n",
              "    <tr>\n",
              "      <th>Column1</th>\n",
              "      <th></th>\n",
              "      <th></th>\n",
              "      <th></th>\n",
              "    </tr>\n",
              "  </thead>\n",
              "  <tbody>\n",
              "    <tr>\n",
              "      <th>1</th>\n",
              "      <td>a</td>\n",
              "      <td>A</td>\n",
              "      <td>5</td>\n",
              "    </tr>\n",
              "    <tr>\n",
              "      <th>2</th>\n",
              "      <td>b</td>\n",
              "      <td>B</td>\n",
              "      <td>4</td>\n",
              "    </tr>\n",
              "    <tr>\n",
              "      <th>3</th>\n",
              "      <td>c</td>\n",
              "      <td>C</td>\n",
              "      <td>3</td>\n",
              "    </tr>\n",
              "    <tr>\n",
              "      <th>4</th>\n",
              "      <td>d</td>\n",
              "      <td>D</td>\n",
              "      <td>2</td>\n",
              "    </tr>\n",
              "    <tr>\n",
              "      <th>5</th>\n",
              "      <td>e</td>\n",
              "      <td>E</td>\n",
              "      <td>1</td>\n",
              "    </tr>\n",
              "  </tbody>\n",
              "</table>\n",
              "</div>"
            ],
            "text/plain": [
              "        Column2 Col2  New Colum\n",
              "Column1                        \n",
              "1             a    A          5\n",
              "2             b    B          4\n",
              "3             c    C          3\n",
              "4             d    D          2\n",
              "5             e    E          1"
            ]
          },
          "metadata": {
            "tags": []
          },
          "execution_count": 48
        }
      ]
    },
    {
      "metadata": {
        "id": "mHTUyg7MqFkJ",
        "colab_type": "code",
        "outputId": "110dbc54-3f09-4ec4-90cb-9c11268747ef",
        "colab": {
          "base_uri": "https://localhost:8080/",
          "height": 289
        }
      },
      "cell_type": "code",
      "source": [
        "# you can also perform mathematical operations on the tables\n",
        "\n",
        "joined_table_from_pickle['New Colum * 2'] = joined_table_from_pickle['New Colum'] * 2\n",
        "joined_table_from_pickle"
      ],
      "execution_count": 0,
      "outputs": [
        {
          "output_type": "execute_result",
          "data": {
            "text/html": [
              "<div>\n",
              "<style scoped>\n",
              "    .dataframe tbody tr th:only-of-type {\n",
              "        vertical-align: middle;\n",
              "    }\n",
              "\n",
              "    .dataframe tbody tr th {\n",
              "        vertical-align: top;\n",
              "    }\n",
              "\n",
              "    .dataframe thead th {\n",
              "        text-align: right;\n",
              "    }\n",
              "</style>\n",
              "<table border=\"1\" class=\"dataframe\">\n",
              "  <thead>\n",
              "    <tr style=\"text-align: right;\">\n",
              "      <th></th>\n",
              "      <th>Column2</th>\n",
              "      <th>Col2</th>\n",
              "      <th>New Colum</th>\n",
              "      <th>New Colum * 2</th>\n",
              "    </tr>\n",
              "    <tr>\n",
              "      <th>Column1</th>\n",
              "      <th></th>\n",
              "      <th></th>\n",
              "      <th></th>\n",
              "      <th></th>\n",
              "    </tr>\n",
              "  </thead>\n",
              "  <tbody>\n",
              "    <tr>\n",
              "      <th>1</th>\n",
              "      <td>a</td>\n",
              "      <td>A</td>\n",
              "      <td>5</td>\n",
              "      <td>10</td>\n",
              "    </tr>\n",
              "    <tr>\n",
              "      <th>2</th>\n",
              "      <td>b</td>\n",
              "      <td>B</td>\n",
              "      <td>4</td>\n",
              "      <td>8</td>\n",
              "    </tr>\n",
              "    <tr>\n",
              "      <th>3</th>\n",
              "      <td>c</td>\n",
              "      <td>C</td>\n",
              "      <td>3</td>\n",
              "      <td>6</td>\n",
              "    </tr>\n",
              "    <tr>\n",
              "      <th>4</th>\n",
              "      <td>d</td>\n",
              "      <td>D</td>\n",
              "      <td>2</td>\n",
              "      <td>4</td>\n",
              "    </tr>\n",
              "    <tr>\n",
              "      <th>5</th>\n",
              "      <td>e</td>\n",
              "      <td>E</td>\n",
              "      <td>1</td>\n",
              "      <td>2</td>\n",
              "    </tr>\n",
              "  </tbody>\n",
              "</table>\n",
              "</div>"
            ],
            "text/plain": [
              "        Column2 Col2  New Colum  New Colum * 2\n",
              "Column1                                       \n",
              "1             a    A          5             10\n",
              "2             b    B          4              8\n",
              "3             c    C          3              6\n",
              "4             d    D          2              4\n",
              "5             e    E          1              2"
            ]
          },
          "metadata": {
            "tags": []
          },
          "execution_count": 49
        }
      ]
    },
    {
      "metadata": {
        "id": "5ilRqYLVncIb",
        "colab_type": "text"
      },
      "cell_type": "markdown",
      "source": [
        "\n",
        "## CSV Files that aren't seperated by commas\n",
        "\n"
      ]
    },
    {
      "metadata": {
        "id": "HG1JfbenVZmq",
        "colab_type": "code",
        "colab": {}
      },
      "cell_type": "code",
      "source": [
        "# just change your sep value by whatever the separator is \n",
        "csv_by_something_besides_commas = pd.read_csv(\"filename\", sep=\";\")"
      ],
      "execution_count": 0,
      "outputs": []
    },
    {
      "metadata": {
        "id": "0mcaPpsYi7JF",
        "colab_type": "text"
      },
      "cell_type": "markdown",
      "source": [
        "## JSON Dataframes"
      ]
    },
    {
      "metadata": {
        "id": "hHirbjXthT6w",
        "colab_type": "code",
        "outputId": "32998caf-9247-4d2b-bf1e-23408ec15441",
        "colab": {
          "base_uri": "https://localhost:8080/",
          "height": 224
        }
      },
      "cell_type": "code",
      "source": [
        "# downloading some open data on municipal facilities from Niagara in JSON format\n",
        "\n",
        "!wget https://niagaraopendata.ca/dataset/3df47541-47bf-4cd9-9aa3-3a64b78903a7/resource/9fdd9507-cfd6-4448-bde6-1ea2b320d0d1/download/city-of-welland-municipal-facilities.json"
      ],
      "execution_count": 0,
      "outputs": [
        {
          "output_type": "stream",
          "text": [
            "--2019-02-15 13:25:53--  https://niagaraopendata.ca/dataset/3df47541-47bf-4cd9-9aa3-3a64b78903a7/resource/9fdd9507-cfd6-4448-bde6-1ea2b320d0d1/download/city-of-welland-municipal-facilities.json\n",
            "Resolving niagaraopendata.ca (niagaraopendata.ca)... 35.183.23.180\n",
            "Connecting to niagaraopendata.ca (niagaraopendata.ca)|35.183.23.180|:443... connected.\n",
            "HTTP request sent, awaiting response... 200 OK\n",
            "Length: 15284 (15K) [application/json]\n",
            "Saving to: ‘city-of-welland-municipal-facilities.json’\n",
            "\n",
            "city-of-welland-mun 100%[===================>]  14.93K  --.-KB/s    in 0s      \n",
            "\n",
            "2019-02-15 13:25:53 (340 MB/s) - ‘city-of-welland-municipal-facilities.json’ saved [15284/15284]\n",
            "\n"
          ],
          "name": "stdout"
        }
      ]
    },
    {
      "metadata": {
        "id": "K-cwgp9EiDO7",
        "colab_type": "code",
        "colab": {}
      },
      "cell_type": "code",
      "source": [
        "municipal_facilities_JSON = pd.read_json(\"city-of-welland-municipal-facilities.json\")"
      ],
      "execution_count": 0,
      "outputs": []
    },
    {
      "metadata": {
        "id": "k7106LopiQ1y",
        "colab_type": "code",
        "outputId": "0302a9ce-4b80-4f5b-afd1-f63eacc3a476",
        "colab": {
          "base_uri": "https://localhost:8080/",
          "height": 34
        }
      },
      "cell_type": "code",
      "source": [
        "municipal_facilities_JSON.shape"
      ],
      "execution_count": 0,
      "outputs": [
        {
          "output_type": "execute_result",
          "data": {
            "text/plain": [
              "(59, 1)"
            ]
          },
          "metadata": {
            "tags": []
          },
          "execution_count": 56
        }
      ]
    },
    {
      "metadata": {
        "id": "rIxZGYuji3Xh",
        "colab_type": "text"
      },
      "cell_type": "markdown",
      "source": [
        "##XLS Dataframes"
      ]
    },
    {
      "metadata": {
        "id": "oZEwlaIBiYP5",
        "colab_type": "code",
        "outputId": "32cd7f08-fa5c-4991-9597-1aaf53aed8cb",
        "colab": {
          "base_uri": "https://localhost:8080/",
          "height": 224
        }
      },
      "cell_type": "code",
      "source": [
        "# downloading some open data on construction activity from Niagara in XLS format\n",
        "\n",
        "!wget https://niagaraopendata.ca/dataset/a0618cc8-3424-4db0-bbc5-e7bd8ab6c7d9/resource/37cf36fb-8d36-4f5a-aa25-fd9676f832ee/download/city-of-welland-construction-activity.xls"
      ],
      "execution_count": 0,
      "outputs": [
        {
          "output_type": "stream",
          "text": [
            "--2019-02-15 13:26:04--  https://niagaraopendata.ca/dataset/a0618cc8-3424-4db0-bbc5-e7bd8ab6c7d9/resource/37cf36fb-8d36-4f5a-aa25-fd9676f832ee/download/city-of-welland-construction-activity.xls\n",
            "Resolving niagaraopendata.ca (niagaraopendata.ca)... 35.183.23.180\n",
            "Connecting to niagaraopendata.ca (niagaraopendata.ca)|35.183.23.180|:443... connected.\n",
            "HTTP request sent, awaiting response... 200 OK\n",
            "Length: 14848 (14K) [application/vnd.ms-excel]\n",
            "Saving to: ‘city-of-welland-construction-activity.xls’\n",
            "\n",
            "city-of-welland-con 100%[===================>]  14.50K  --.-KB/s    in 0s      \n",
            "\n",
            "2019-02-15 13:26:05 (336 MB/s) - ‘city-of-welland-construction-activity.xls’ saved [14848/14848]\n",
            "\n"
          ],
          "name": "stdout"
        }
      ]
    },
    {
      "metadata": {
        "id": "aDYrgX6tiu6r",
        "colab_type": "code",
        "outputId": "1265bc47-481d-4e63-cc8c-e9eedf91d953",
        "colab": {
          "base_uri": "https://localhost:8080/",
          "height": 34
        }
      },
      "cell_type": "code",
      "source": [
        "# so with XLS files, and you might want to pass in another parameter for which sheet\n",
        "# (since they're excel files they might have multiple sheets)\n",
        "# syntax is sheetname= \"literal named sheet\" or index (zeroed index)\n",
        "construction_activity_xls = pd.read_excel(\"city-of-welland-construction-activity.xls\")\n"
      ],
      "execution_count": 0,
      "outputs": [
        {
          "output_type": "stream",
          "text": [
            "WARNING *** OLE2 inconsistency: SSCS size is 0 but SSAT size is non-zero\n"
          ],
          "name": "stdout"
        }
      ]
    },
    {
      "metadata": {
        "id": "9BAUowKRjVqF",
        "colab_type": "code",
        "outputId": "cd5b39d0-4921-4550-9880-97511be419bc",
        "colab": {
          "base_uri": "https://localhost:8080/",
          "height": 170
        }
      },
      "cell_type": "code",
      "source": [
        "# Returning just the project name\n",
        "print(construction_activity_xls[\"ProjName\"])"
      ],
      "execution_count": 0,
      "outputs": [
        {
          "output_type": "stream",
          "text": [
            "0            Canal View Heights Subdivision\n",
            "1               Sparrow Meadows Phase 3 - 6\n",
            "2    EDGAR/ELGIN SEWER SEPARATION (PHASE 1)\n",
            "3    EDGAR/ELGIN SEWER SEPARATION (PHASE 1)\n",
            "4    EDGAR/ELGIN SEWER SEPARATION (PHASE 1)\n",
            "5    EDGAR/ELGIN SEWER SEPARATION (PHASE 1)\n",
            "6    EDGAR/ELGIN SEWER SEPARATION (PHASE 1)\n",
            "7    EDGAR/ELGIN SEWER SEPARATION (PHASE 1)\n",
            "Name: ProjName, dtype: object\n"
          ],
          "name": "stdout"
        }
      ]
    },
    {
      "metadata": {
        "id": "SMBeVM4epSZa",
        "colab_type": "text"
      },
      "cell_type": "markdown",
      "source": [
        "## Need some help with pandas dataframe functions?\n",
        "#### *Note*, these work in Jupyter Notebooks/Colab Notebooks"
      ]
    },
    {
      "metadata": {
        "id": "sToy-qw6pVVd",
        "colab_type": "code",
        "colab": {}
      },
      "cell_type": "code",
      "source": [
        "# try\n",
        "pandas.read_csv?\n"
      ],
      "execution_count": 0,
      "outputs": []
    },
    {
      "metadata": {
        "id": "bqXN93KBpWyh",
        "colab_type": "code",
        "colab": {}
      },
      "cell_type": "code",
      "source": [
        "# try ? for all of them\n",
        "pandas.read_excel?\n"
      ],
      "execution_count": 0,
      "outputs": []
    },
    {
      "metadata": {
        "id": "tPcSf-8l36xY",
        "colab_type": "text"
      },
      "cell_type": "markdown",
      "source": [
        "# Database cleaning from HTML table - straight forward example"
      ]
    },
    {
      "metadata": {
        "id": "sR6P7mrA6A9x",
        "colab_type": "code",
        "colab": {}
      },
      "cell_type": "code",
      "source": [
        "# import regex for cleaning\n",
        "import re"
      ],
      "execution_count": 0,
      "outputs": []
    },
    {
      "metadata": {
        "id": "gpemyy5zzYjK",
        "colab_type": "code",
        "colab": {}
      },
      "cell_type": "code",
      "source": [
        "pandas_wiki_full = pd.read_html(\"https://en.wikipedia.org/wiki/List_of_Billboard_Year-End_number-one_singles_and_albums\")"
      ],
      "execution_count": 0,
      "outputs": []
    },
    {
      "metadata": {
        "id": "gy5ZK3iz1lDT",
        "colab_type": "code",
        "colab": {}
      },
      "cell_type": "code",
      "source": [
        "# this is to grab the first element of the Series object that the .read_html\n",
        "# produces, which in turn is treated as a dataframe once this is done\n",
        "\n",
        "# this can also be acheived by using pandas' .to_frame()\n",
        "\n",
        "top_40_df_straight_manipulation = pandas_wiki_full[0]"
      ],
      "execution_count": 0,
      "outputs": []
    },
    {
      "metadata": {
        "id": "TdtsIYYd1lGk",
        "colab_type": "code",
        "outputId": "2e35de4c-6038-43e4-c59b-41dcbd6d48b3",
        "colab": {
          "base_uri": "https://localhost:8080/",
          "height": 405
        }
      },
      "cell_type": "code",
      "source": [
        "top_40_df_straight_manipulation.head()"
      ],
      "execution_count": 0,
      "outputs": [
        {
          "output_type": "execute_result",
          "data": {
            "text/html": [
              "<div>\n",
              "<style scoped>\n",
              "    .dataframe tbody tr th:only-of-type {\n",
              "        vertical-align: middle;\n",
              "    }\n",
              "\n",
              "    .dataframe tbody tr th {\n",
              "        vertical-align: top;\n",
              "    }\n",
              "\n",
              "    .dataframe thead th {\n",
              "        text-align: right;\n",
              "    }\n",
              "</style>\n",
              "<table border=\"1\" class=\"dataframe\">\n",
              "  <thead>\n",
              "    <tr style=\"text-align: right;\">\n",
              "      <th></th>\n",
              "      <th>0</th>\n",
              "      <th>1</th>\n",
              "      <th>2</th>\n",
              "      <th>3</th>\n",
              "      <th>4</th>\n",
              "      <th>5</th>\n",
              "      <th>6</th>\n",
              "    </tr>\n",
              "  </thead>\n",
              "  <tbody>\n",
              "    <tr>\n",
              "      <th>0</th>\n",
              "      <td>Year</td>\n",
              "      <td>Pop</td>\n",
              "      <td>R&amp;B/Soul/Hip-hop</td>\n",
              "      <td>Country</td>\n",
              "      <td>NaN</td>\n",
              "      <td>NaN</td>\n",
              "      <td>NaN</td>\n",
              "    </tr>\n",
              "    <tr>\n",
              "      <th>1</th>\n",
              "      <td>Single</td>\n",
              "      <td>Album</td>\n",
              "      <td>Single</td>\n",
              "      <td>Album</td>\n",
              "      <td>Single</td>\n",
              "      <td>Album</td>\n",
              "      <td>NaN</td>\n",
              "    </tr>\n",
              "    <tr>\n",
              "      <th>2</th>\n",
              "      <td>1946</td>\n",
              "      <td>\"Prisoner of Love\"[1]Perry Como</td>\n",
              "      <td>—</td>\n",
              "      <td>\"Hey! Ba-Ba-Re-Bop\"[2]Lionel Hampton</td>\n",
              "      <td>—</td>\n",
              "      <td>\"New Spanish Two Step\"[3]Bob Wills</td>\n",
              "      <td>—</td>\n",
              "    </tr>\n",
              "    <tr>\n",
              "      <th>3</th>\n",
              "      <td>1947</td>\n",
              "      <td>\"Near You\"[4]Francis Craig</td>\n",
              "      <td>—</td>\n",
              "      <td>\"Ain't Nobody Here But Us Chickens\"[5]Louis Jo...</td>\n",
              "      <td>—</td>\n",
              "      <td>\"Smoke! Smoke! Smoke! (That Cigarette)\"[6]Tex ...</td>\n",
              "      <td>—</td>\n",
              "    </tr>\n",
              "    <tr>\n",
              "      <th>4</th>\n",
              "      <td>1948</td>\n",
              "      <td>\"Twelfth Street Rag\"[7]Pee Wee Hunt</td>\n",
              "      <td>—</td>\n",
              "      <td>\"Long Gone\"[8]Sonny Thompson</td>\n",
              "      <td>—</td>\n",
              "      <td>\"Bouquet of Roses\"[9]Eddy Arnold</td>\n",
              "      <td>—</td>\n",
              "    </tr>\n",
              "  </tbody>\n",
              "</table>\n",
              "</div>"
            ],
            "text/plain": [
              "        0                                    1                 2  \\\n",
              "0    Year                                  Pop  R&B/Soul/Hip-hop   \n",
              "1  Single                                Album            Single   \n",
              "2    1946      \"Prisoner of Love\"[1]Perry Como                 —   \n",
              "3    1947           \"Near You\"[4]Francis Craig                 —   \n",
              "4    1948  \"Twelfth Street Rag\"[7]Pee Wee Hunt                 —   \n",
              "\n",
              "                                                   3       4  \\\n",
              "0                                            Country     NaN   \n",
              "1                                              Album  Single   \n",
              "2               \"Hey! Ba-Ba-Re-Bop\"[2]Lionel Hampton       —   \n",
              "3  \"Ain't Nobody Here But Us Chickens\"[5]Louis Jo...       —   \n",
              "4                       \"Long Gone\"[8]Sonny Thompson       —   \n",
              "\n",
              "                                                   5    6  \n",
              "0                                                NaN  NaN  \n",
              "1                                              Album  NaN  \n",
              "2                 \"New Spanish Two Step\"[3]Bob Wills    —  \n",
              "3  \"Smoke! Smoke! Smoke! (That Cigarette)\"[6]Tex ...    —  \n",
              "4                   \"Bouquet of Roses\"[9]Eddy Arnold    —  "
            ]
          },
          "metadata": {
            "tags": []
          },
          "execution_count": 17
        }
      ]
    },
    {
      "metadata": {
        "id": "jW8gwcUn1lJp",
        "colab_type": "code",
        "colab": {}
      },
      "cell_type": "code",
      "source": [
        "top_40_df_straight_manipulation = top_40_df_straight_manipulation.drop([0, 1])"
      ],
      "execution_count": 0,
      "outputs": []
    },
    {
      "metadata": {
        "id": "6hwu5PVc3I09",
        "colab_type": "code",
        "outputId": "21553062-431e-45ff-ca4c-5382b3301c5a",
        "colab": {
          "base_uri": "https://localhost:8080/",
          "height": 388
        }
      },
      "cell_type": "code",
      "source": [
        "top_40_df_straight_manipulation.head()"
      ],
      "execution_count": 0,
      "outputs": [
        {
          "output_type": "execute_result",
          "data": {
            "text/html": [
              "<div>\n",
              "<style scoped>\n",
              "    .dataframe tbody tr th:only-of-type {\n",
              "        vertical-align: middle;\n",
              "    }\n",
              "\n",
              "    .dataframe tbody tr th {\n",
              "        vertical-align: top;\n",
              "    }\n",
              "\n",
              "    .dataframe thead th {\n",
              "        text-align: right;\n",
              "    }\n",
              "</style>\n",
              "<table border=\"1\" class=\"dataframe\">\n",
              "  <thead>\n",
              "    <tr style=\"text-align: right;\">\n",
              "      <th></th>\n",
              "      <th>0</th>\n",
              "      <th>1</th>\n",
              "      <th>2</th>\n",
              "      <th>3</th>\n",
              "      <th>4</th>\n",
              "      <th>5</th>\n",
              "      <th>6</th>\n",
              "    </tr>\n",
              "  </thead>\n",
              "  <tbody>\n",
              "    <tr>\n",
              "      <th>2</th>\n",
              "      <td>1946</td>\n",
              "      <td>\"Prisoner of Love\"[1]Perry Como</td>\n",
              "      <td>—</td>\n",
              "      <td>\"Hey! Ba-Ba-Re-Bop\"[2]Lionel Hampton</td>\n",
              "      <td>—</td>\n",
              "      <td>\"New Spanish Two Step\"[3]Bob Wills</td>\n",
              "      <td>—</td>\n",
              "    </tr>\n",
              "    <tr>\n",
              "      <th>3</th>\n",
              "      <td>1947</td>\n",
              "      <td>\"Near You\"[4]Francis Craig</td>\n",
              "      <td>—</td>\n",
              "      <td>\"Ain't Nobody Here But Us Chickens\"[5]Louis Jo...</td>\n",
              "      <td>—</td>\n",
              "      <td>\"Smoke! Smoke! Smoke! (That Cigarette)\"[6]Tex ...</td>\n",
              "      <td>—</td>\n",
              "    </tr>\n",
              "    <tr>\n",
              "      <th>4</th>\n",
              "      <td>1948</td>\n",
              "      <td>\"Twelfth Street Rag\"[7]Pee Wee Hunt</td>\n",
              "      <td>—</td>\n",
              "      <td>\"Long Gone\"[8]Sonny Thompson</td>\n",
              "      <td>—</td>\n",
              "      <td>\"Bouquet of Roses\"[9]Eddy Arnold</td>\n",
              "      <td>—</td>\n",
              "    </tr>\n",
              "    <tr>\n",
              "      <th>5</th>\n",
              "      <td>1949</td>\n",
              "      <td>\"Riders in the Sky\"[10]Vaughn Monroe Orchestra</td>\n",
              "      <td>—</td>\n",
              "      <td>\"The Hucklebuck\"[11]Paul Williams</td>\n",
              "      <td>—</td>\n",
              "      <td>\"Lovesick Blues\"[12]Hank Williams and the Drif...</td>\n",
              "      <td>—</td>\n",
              "    </tr>\n",
              "    <tr>\n",
              "      <th>6</th>\n",
              "      <td>1950</td>\n",
              "      <td>\"Goodnight, Irene\"[13]Gordon Jenkins and The W...</td>\n",
              "      <td>—</td>\n",
              "      <td>\"Pink Champagne\"[14]Joe Liggins</td>\n",
              "      <td>—</td>\n",
              "      <td>\"I'm Movin' On\"[15]Hank Snow</td>\n",
              "      <td>—</td>\n",
              "    </tr>\n",
              "  </tbody>\n",
              "</table>\n",
              "</div>"
            ],
            "text/plain": [
              "      0                                                  1  2  \\\n",
              "2  1946                    \"Prisoner of Love\"[1]Perry Como  —   \n",
              "3  1947                         \"Near You\"[4]Francis Craig  —   \n",
              "4  1948                \"Twelfth Street Rag\"[7]Pee Wee Hunt  —   \n",
              "5  1949     \"Riders in the Sky\"[10]Vaughn Monroe Orchestra  —   \n",
              "6  1950  \"Goodnight, Irene\"[13]Gordon Jenkins and The W...  —   \n",
              "\n",
              "                                                   3  4  \\\n",
              "2               \"Hey! Ba-Ba-Re-Bop\"[2]Lionel Hampton  —   \n",
              "3  \"Ain't Nobody Here But Us Chickens\"[5]Louis Jo...  —   \n",
              "4                       \"Long Gone\"[8]Sonny Thompson  —   \n",
              "5                  \"The Hucklebuck\"[11]Paul Williams  —   \n",
              "6                    \"Pink Champagne\"[14]Joe Liggins  —   \n",
              "\n",
              "                                                   5  6  \n",
              "2                 \"New Spanish Two Step\"[3]Bob Wills  —  \n",
              "3  \"Smoke! Smoke! Smoke! (That Cigarette)\"[6]Tex ...  —  \n",
              "4                   \"Bouquet of Roses\"[9]Eddy Arnold  —  \n",
              "5  \"Lovesick Blues\"[12]Hank Williams and the Drif...  —  \n",
              "6                       \"I'm Movin' On\"[15]Hank Snow  —  "
            ]
          },
          "metadata": {
            "tags": []
          },
          "execution_count": 20
        }
      ]
    },
    {
      "metadata": {
        "id": "bELymJVz3M9B",
        "colab_type": "code",
        "colab": {}
      },
      "cell_type": "code",
      "source": [
        "top_40_df_straight_manipulation.columns = [\"Year\", \"Pop\", \"Blank_\", \"R&B/Hip Hop\", \"Blank__\", \"Country\", \"Blank___\" ]"
      ],
      "execution_count": 0,
      "outputs": []
    },
    {
      "metadata": {
        "id": "rEivxw3_3f-b",
        "colab_type": "code",
        "colab": {}
      },
      "cell_type": "code",
      "source": [
        "top_40_df_straight_manipulation.set_index(\"Year\", inplace=True)"
      ],
      "execution_count": 0,
      "outputs": []
    },
    {
      "metadata": {
        "id": "PWO_g0Pt3jBW",
        "colab_type": "code",
        "outputId": "dbed5cf2-454f-4971-f941-fc2b8e337784",
        "colab": {
          "base_uri": "https://localhost:8080/",
          "height": 556
        }
      },
      "cell_type": "code",
      "source": [
        "top_40_df_straight_manipulation.head()"
      ],
      "execution_count": 0,
      "outputs": [
        {
          "output_type": "execute_result",
          "data": {
            "text/html": [
              "<div>\n",
              "<style scoped>\n",
              "    .dataframe tbody tr th:only-of-type {\n",
              "        vertical-align: middle;\n",
              "    }\n",
              "\n",
              "    .dataframe tbody tr th {\n",
              "        vertical-align: top;\n",
              "    }\n",
              "\n",
              "    .dataframe thead th {\n",
              "        text-align: right;\n",
              "    }\n",
              "</style>\n",
              "<table border=\"1\" class=\"dataframe\">\n",
              "  <thead>\n",
              "    <tr style=\"text-align: right;\">\n",
              "      <th></th>\n",
              "      <th>Pop</th>\n",
              "      <th>Blank_</th>\n",
              "      <th>R&amp;B/Hip Hop</th>\n",
              "      <th>Blank__</th>\n",
              "      <th>Country</th>\n",
              "      <th>Blank___</th>\n",
              "    </tr>\n",
              "    <tr>\n",
              "      <th>Year</th>\n",
              "      <th></th>\n",
              "      <th></th>\n",
              "      <th></th>\n",
              "      <th></th>\n",
              "      <th></th>\n",
              "      <th></th>\n",
              "    </tr>\n",
              "  </thead>\n",
              "  <tbody>\n",
              "    <tr>\n",
              "      <th>1946</th>\n",
              "      <td>\"Prisoner of Love\"[1]Perry Como</td>\n",
              "      <td>—</td>\n",
              "      <td>\"Hey! Ba-Ba-Re-Bop\"[2]Lionel Hampton</td>\n",
              "      <td>—</td>\n",
              "      <td>\"New Spanish Two Step\"[3]Bob Wills</td>\n",
              "      <td>—</td>\n",
              "    </tr>\n",
              "    <tr>\n",
              "      <th>1947</th>\n",
              "      <td>\"Near You\"[4]Francis Craig</td>\n",
              "      <td>—</td>\n",
              "      <td>\"Ain't Nobody Here But Us Chickens\"[5]Louis Jo...</td>\n",
              "      <td>—</td>\n",
              "      <td>\"Smoke! Smoke! Smoke! (That Cigarette)\"[6]Tex ...</td>\n",
              "      <td>—</td>\n",
              "    </tr>\n",
              "    <tr>\n",
              "      <th>1948</th>\n",
              "      <td>\"Twelfth Street Rag\"[7]Pee Wee Hunt</td>\n",
              "      <td>—</td>\n",
              "      <td>\"Long Gone\"[8]Sonny Thompson</td>\n",
              "      <td>—</td>\n",
              "      <td>\"Bouquet of Roses\"[9]Eddy Arnold</td>\n",
              "      <td>—</td>\n",
              "    </tr>\n",
              "    <tr>\n",
              "      <th>1949</th>\n",
              "      <td>\"Riders in the Sky\"[10]Vaughn Monroe Orchestra</td>\n",
              "      <td>—</td>\n",
              "      <td>\"The Hucklebuck\"[11]Paul Williams</td>\n",
              "      <td>—</td>\n",
              "      <td>\"Lovesick Blues\"[12]Hank Williams and the Drif...</td>\n",
              "      <td>—</td>\n",
              "    </tr>\n",
              "    <tr>\n",
              "      <th>1950</th>\n",
              "      <td>\"Goodnight, Irene\"[13]Gordon Jenkins and The W...</td>\n",
              "      <td>—</td>\n",
              "      <td>\"Pink Champagne\"[14]Joe Liggins</td>\n",
              "      <td>—</td>\n",
              "      <td>\"I'm Movin' On\"[15]Hank Snow</td>\n",
              "      <td>—</td>\n",
              "    </tr>\n",
              "  </tbody>\n",
              "</table>\n",
              "</div>"
            ],
            "text/plain": [
              "                                                    Pop Blank_  \\\n",
              "Year                                                             \n",
              "1946                    \"Prisoner of Love\"[1]Perry Como      —   \n",
              "1947                         \"Near You\"[4]Francis Craig      —   \n",
              "1948                \"Twelfth Street Rag\"[7]Pee Wee Hunt      —   \n",
              "1949     \"Riders in the Sky\"[10]Vaughn Monroe Orchestra      —   \n",
              "1950  \"Goodnight, Irene\"[13]Gordon Jenkins and The W...      —   \n",
              "\n",
              "                                            R&B/Hip Hop Blank__  \\\n",
              "Year                                                              \n",
              "1946               \"Hey! Ba-Ba-Re-Bop\"[2]Lionel Hampton       —   \n",
              "1947  \"Ain't Nobody Here But Us Chickens\"[5]Louis Jo...       —   \n",
              "1948                       \"Long Gone\"[8]Sonny Thompson       —   \n",
              "1949                  \"The Hucklebuck\"[11]Paul Williams       —   \n",
              "1950                    \"Pink Champagne\"[14]Joe Liggins       —   \n",
              "\n",
              "                                                Country Blank___  \n",
              "Year                                                              \n",
              "1946                 \"New Spanish Two Step\"[3]Bob Wills        —  \n",
              "1947  \"Smoke! Smoke! Smoke! (That Cigarette)\"[6]Tex ...        —  \n",
              "1948                   \"Bouquet of Roses\"[9]Eddy Arnold        —  \n",
              "1949  \"Lovesick Blues\"[12]Hank Williams and the Drif...        —  \n",
              "1950                       \"I'm Movin' On\"[15]Hank Snow        —  "
            ]
          },
          "metadata": {
            "tags": []
          },
          "execution_count": 23
        }
      ]
    },
    {
      "metadata": {
        "id": "EZqsfhue3kY9",
        "colab_type": "code",
        "colab": {}
      },
      "cell_type": "code",
      "source": [
        "top_40_df_straight_manipulation = top_40_df_straight_manipulation.drop([\"Blank_\", \"Blank__\", \"Blank___\"], axis=1)"
      ],
      "execution_count": 0,
      "outputs": []
    },
    {
      "metadata": {
        "id": "yAf977tG31lC",
        "colab_type": "code",
        "outputId": "1a7c0395-0fa2-46fa-f2b4-0c050fbce8ca",
        "colab": {
          "base_uri": "https://localhost:8080/",
          "height": 366
        }
      },
      "cell_type": "code",
      "source": [
        "top_40_df_straight_manipulation.head()"
      ],
      "execution_count": 0,
      "outputs": [
        {
          "output_type": "execute_result",
          "data": {
            "text/html": [
              "<div>\n",
              "<style scoped>\n",
              "    .dataframe tbody tr th:only-of-type {\n",
              "        vertical-align: middle;\n",
              "    }\n",
              "\n",
              "    .dataframe tbody tr th {\n",
              "        vertical-align: top;\n",
              "    }\n",
              "\n",
              "    .dataframe thead th {\n",
              "        text-align: right;\n",
              "    }\n",
              "</style>\n",
              "<table border=\"1\" class=\"dataframe\">\n",
              "  <thead>\n",
              "    <tr style=\"text-align: right;\">\n",
              "      <th></th>\n",
              "      <th>Pop</th>\n",
              "      <th>R&amp;B/Hip Hop</th>\n",
              "      <th>Country</th>\n",
              "    </tr>\n",
              "    <tr>\n",
              "      <th>Year</th>\n",
              "      <th></th>\n",
              "      <th></th>\n",
              "      <th></th>\n",
              "    </tr>\n",
              "  </thead>\n",
              "  <tbody>\n",
              "    <tr>\n",
              "      <th>1946</th>\n",
              "      <td>\"Prisoner of Love\"[1]Perry Como</td>\n",
              "      <td>\"Hey! Ba-Ba-Re-Bop\"[2]Lionel Hampton</td>\n",
              "      <td>\"New Spanish Two Step\"[3]Bob Wills</td>\n",
              "    </tr>\n",
              "    <tr>\n",
              "      <th>1947</th>\n",
              "      <td>\"Near You\"[4]Francis Craig</td>\n",
              "      <td>\"Ain't Nobody Here But Us Chickens\"[5]Louis Jo...</td>\n",
              "      <td>\"Smoke! Smoke! Smoke! (That Cigarette)\"[6]Tex ...</td>\n",
              "    </tr>\n",
              "    <tr>\n",
              "      <th>1948</th>\n",
              "      <td>\"Twelfth Street Rag\"[7]Pee Wee Hunt</td>\n",
              "      <td>\"Long Gone\"[8]Sonny Thompson</td>\n",
              "      <td>\"Bouquet of Roses\"[9]Eddy Arnold</td>\n",
              "    </tr>\n",
              "    <tr>\n",
              "      <th>1949</th>\n",
              "      <td>\"Riders in the Sky\"[10]Vaughn Monroe Orchestra</td>\n",
              "      <td>\"The Hucklebuck\"[11]Paul Williams</td>\n",
              "      <td>\"Lovesick Blues\"[12]Hank Williams and the Drif...</td>\n",
              "    </tr>\n",
              "    <tr>\n",
              "      <th>1950</th>\n",
              "      <td>\"Goodnight, Irene\"[13]Gordon Jenkins and The W...</td>\n",
              "      <td>\"Pink Champagne\"[14]Joe Liggins</td>\n",
              "      <td>\"I'm Movin' On\"[15]Hank Snow</td>\n",
              "    </tr>\n",
              "  </tbody>\n",
              "</table>\n",
              "</div>"
            ],
            "text/plain": [
              "                                                    Pop  \\\n",
              "Year                                                      \n",
              "1946                    \"Prisoner of Love\"[1]Perry Como   \n",
              "1947                         \"Near You\"[4]Francis Craig   \n",
              "1948                \"Twelfth Street Rag\"[7]Pee Wee Hunt   \n",
              "1949     \"Riders in the Sky\"[10]Vaughn Monroe Orchestra   \n",
              "1950  \"Goodnight, Irene\"[13]Gordon Jenkins and The W...   \n",
              "\n",
              "                                            R&B/Hip Hop  \\\n",
              "Year                                                      \n",
              "1946               \"Hey! Ba-Ba-Re-Bop\"[2]Lionel Hampton   \n",
              "1947  \"Ain't Nobody Here But Us Chickens\"[5]Louis Jo...   \n",
              "1948                       \"Long Gone\"[8]Sonny Thompson   \n",
              "1949                  \"The Hucklebuck\"[11]Paul Williams   \n",
              "1950                    \"Pink Champagne\"[14]Joe Liggins   \n",
              "\n",
              "                                                Country  \n",
              "Year                                                     \n",
              "1946                 \"New Spanish Two Step\"[3]Bob Wills  \n",
              "1947  \"Smoke! Smoke! Smoke! (That Cigarette)\"[6]Tex ...  \n",
              "1948                   \"Bouquet of Roses\"[9]Eddy Arnold  \n",
              "1949  \"Lovesick Blues\"[12]Hank Williams and the Drif...  \n",
              "1950                       \"I'm Movin' On\"[15]Hank Snow  "
            ]
          },
          "metadata": {
            "tags": []
          },
          "execution_count": 25
        }
      ]
    },
    {
      "metadata": {
        "id": "c5978sth4PfG",
        "colab_type": "code",
        "colab": {}
      },
      "cell_type": "code",
      "source": [
        "# need to get rid of those pesky reference numbers \n",
        "regex_exp = re.compile(\"[\\[0-9\\]]\")"
      ],
      "execution_count": 0,
      "outputs": []
    },
    {
      "metadata": {
        "id": "ye8cMYUd34Hg",
        "colab_type": "code",
        "colab": {}
      },
      "cell_type": "code",
      "source": [
        "top_40_df_straight_manipulation[\"Pop\"] = top_40_df_straight_manipulation[\"Pop\"].str.replace(regex_exp, ' ')"
      ],
      "execution_count": 0,
      "outputs": []
    },
    {
      "metadata": {
        "id": "TjyW0ElJ4lgG",
        "colab_type": "code",
        "colab": {}
      },
      "cell_type": "code",
      "source": [
        "top_40_df_straight_manipulation[\"R&B/Hip Hop\"] = top_40_df_straight_manipulation[\"R&B/Hip Hop\"].str.replace(regex_exp, ' ')"
      ],
      "execution_count": 0,
      "outputs": []
    },
    {
      "metadata": {
        "id": "La-685JS4l16",
        "colab_type": "code",
        "colab": {}
      },
      "cell_type": "code",
      "source": [
        "top_40_df_straight_manipulation[\"Country\"] = top_40_df_straight_manipulation[\"Country\"].str.replace(regex_exp, ' ')"
      ],
      "execution_count": 0,
      "outputs": []
    },
    {
      "metadata": {
        "id": "RsgnpW1e4Q8H",
        "colab_type": "code",
        "outputId": "8814f33d-c1ad-4e10-f822-99a0a300d09b",
        "colab": {
          "base_uri": "https://localhost:8080/",
          "height": 349
        }
      },
      "cell_type": "code",
      "source": [
        "top_40_df_straight_manipulation.head()"
      ],
      "execution_count": 0,
      "outputs": [
        {
          "output_type": "execute_result",
          "data": {
            "text/html": [
              "<div>\n",
              "<style scoped>\n",
              "    .dataframe tbody tr th:only-of-type {\n",
              "        vertical-align: middle;\n",
              "    }\n",
              "\n",
              "    .dataframe tbody tr th {\n",
              "        vertical-align: top;\n",
              "    }\n",
              "\n",
              "    .dataframe thead th {\n",
              "        text-align: right;\n",
              "    }\n",
              "</style>\n",
              "<table border=\"1\" class=\"dataframe\">\n",
              "  <thead>\n",
              "    <tr style=\"text-align: right;\">\n",
              "      <th></th>\n",
              "      <th>Pop</th>\n",
              "      <th>R&amp;B/Hip Hop</th>\n",
              "      <th>Country</th>\n",
              "    </tr>\n",
              "    <tr>\n",
              "      <th>Year</th>\n",
              "      <th></th>\n",
              "      <th></th>\n",
              "      <th></th>\n",
              "    </tr>\n",
              "  </thead>\n",
              "  <tbody>\n",
              "    <tr>\n",
              "      <th>1946</th>\n",
              "      <td>\"Prisoner of Love\"   Perry Como</td>\n",
              "      <td>\"Hey! Ba-Ba-Re-Bop\"   Lionel Hampton</td>\n",
              "      <td>\"New Spanish Two Step\"   Bob Wills</td>\n",
              "    </tr>\n",
              "    <tr>\n",
              "      <th>1947</th>\n",
              "      <td>\"Near You\"   Francis Craig</td>\n",
              "      <td>\"Ain't Nobody Here But Us Chickens\"   Louis Jo...</td>\n",
              "      <td>\"Smoke! Smoke! Smoke! (That Cigarette)\"   Tex ...</td>\n",
              "    </tr>\n",
              "    <tr>\n",
              "      <th>1948</th>\n",
              "      <td>\"Twelfth Street Rag\"   Pee Wee Hunt</td>\n",
              "      <td>\"Long Gone\"   Sonny Thompson</td>\n",
              "      <td>\"Bouquet of Roses\"   Eddy Arnold</td>\n",
              "    </tr>\n",
              "    <tr>\n",
              "      <th>1949</th>\n",
              "      <td>\"Riders in the Sky\"    Vaughn Monroe Orchestra</td>\n",
              "      <td>\"The Hucklebuck\"    Paul Williams</td>\n",
              "      <td>\"Lovesick Blues\"    Hank Williams and the Drif...</td>\n",
              "    </tr>\n",
              "    <tr>\n",
              "      <th>1950</th>\n",
              "      <td>\"Goodnight, Irene\"    Gordon Jenkins and The W...</td>\n",
              "      <td>\"Pink Champagne\"    Joe Liggins</td>\n",
              "      <td>\"I'm Movin' On\"    Hank Snow</td>\n",
              "    </tr>\n",
              "  </tbody>\n",
              "</table>\n",
              "</div>"
            ],
            "text/plain": [
              "                                                    Pop  \\\n",
              "Year                                                      \n",
              "1946                    \"Prisoner of Love\"   Perry Como   \n",
              "1947                         \"Near You\"   Francis Craig   \n",
              "1948                \"Twelfth Street Rag\"   Pee Wee Hunt   \n",
              "1949     \"Riders in the Sky\"    Vaughn Monroe Orchestra   \n",
              "1950  \"Goodnight, Irene\"    Gordon Jenkins and The W...   \n",
              "\n",
              "                                            R&B/Hip Hop  \\\n",
              "Year                                                      \n",
              "1946               \"Hey! Ba-Ba-Re-Bop\"   Lionel Hampton   \n",
              "1947  \"Ain't Nobody Here But Us Chickens\"   Louis Jo...   \n",
              "1948                       \"Long Gone\"   Sonny Thompson   \n",
              "1949                  \"The Hucklebuck\"    Paul Williams   \n",
              "1950                    \"Pink Champagne\"    Joe Liggins   \n",
              "\n",
              "                                                Country  \n",
              "Year                                                     \n",
              "1946                 \"New Spanish Two Step\"   Bob Wills  \n",
              "1947  \"Smoke! Smoke! Smoke! (That Cigarette)\"   Tex ...  \n",
              "1948                   \"Bouquet of Roses\"   Eddy Arnold  \n",
              "1949  \"Lovesick Blues\"    Hank Williams and the Drif...  \n",
              "1950                       \"I'm Movin' On\"    Hank Snow  "
            ]
          },
          "metadata": {
            "tags": []
          },
          "execution_count": 31
        }
      ]
    }
  ]
}